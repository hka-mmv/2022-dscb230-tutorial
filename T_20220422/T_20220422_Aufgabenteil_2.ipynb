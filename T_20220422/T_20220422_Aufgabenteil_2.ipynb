{
 "cells": [
  {
   "cell_type": "markdown",
   "id": "a981c104-98d0-4b5a-8ec4-0c298e2a0e8f",
   "metadata": {},
   "source": [
    "## Aufgabenteil 2\n",
    "\n",
    "fj"
   ]
  },
  {
   "cell_type": "markdown",
   "id": "96b2bc76-9904-4ff8-80e6-21807fcda4a9",
   "metadata": {},
   "source": [
    "## Tesla-Aktienkurs\n",
    "In der CSV-Datei \"TSLA.csv\" liegen Aktienkurse von Tesla seit April 2017 vor. Ihre Aufgabe ist es, den Tagesdurchschnitt des Kurses der letzten drei Jahre zu ploten.\n"
   ]
  },
  {
   "cell_type": "markdown",
   "id": "08254f0d-ff90-40e6-acac-4d27d71072c2",
   "metadata": {},
   "source": [
    "#### 1. \n",
    "Benutzen Sie pandas, um die ersten **vier** Spalten der CSV-Datei zu laden. Die Spaltennamen sind leider verloren gegangen, beschriften Sie die Spalten in folgender Reihenfolge: \"Date\", \"Open\", \"High\", \"Low\"\n"
   ]
  },
  {
   "cell_type": "markdown",
   "id": "cf969c34-ad26-4603-83fe-2bcb4f426bb1",
   "metadata": {},
   "source": [
    "Hinweis: Lesen Sie die Docs _(https://pandas.pydata.org/pandas-docs/stable/reference/api/pandas.read_csv.html)_"
   ]
  },
  {
   "cell_type": "code",
   "execution_count": 144,
   "id": "7ae747b6-088f-478c-b8b9-7157551a475f",
   "metadata": {},
   "outputs": [],
   "source": [
    "import pandas as pd"
   ]
  },
  {
   "cell_type": "markdown",
   "id": "82bfc715-e6c6-4a82-a3f2-6c45409b7518",
   "metadata": {},
   "source": [
    "#### 2.\n",
    "Lassen Sie sich die Datentypen des Dataframes anzeigen. Wie Sie sehen, stimmt der Datentyp des Datums noch nicht. Ändern Sie diesen, so dass er stimmt."
   ]
  },
  {
   "cell_type": "markdown",
   "id": "42d9f18d-7b8c-4349-9c4e-1f4cc976593f",
   "metadata": {},
   "source": [
    "#### 3.\n",
    "Ergänzen Sie das Dataframe um eine weitere Spalte \"Avg\" in der Sie den Durchschnitt aus Low und High des Tages berechnen."
   ]
  },
  {
   "cell_type": "markdown",
   "id": "db23b9e2-7588-4c4d-a2bb-28fe9f8cf150",
   "metadata": {},
   "source": [
    "#### 4.\n",
    "Erzeugen Sie nun ein neues Dataframe (auf Grundlage des bisherigen), welches nur Daten ab dem 22.04.2019 beinhaltet."
   ]
  },
  {
   "cell_type": "markdown",
   "id": "188a71a9-9972-4b8f-8b14-c2d3aedce05c",
   "metadata": {},
   "source": [
    "#### 5.\n",
    "Benutzen Sie Matplotlib um den Tagesdurchschnitt (Avg) des Kurses der letzten 3 Jahre zu ploten. Die Linie soll die Farbe rot haben und in der Legende als \"TSLA\" bezeichnet werden.\n",
    "\n",
    "Tipp: Nutzen Sie \"plt.gcf().autofmt_xdate()\", um die X-Achse lesbar zu formatiern."
   ]
  },
  {
   "cell_type": "code",
   "execution_count": 154,
   "id": "9314c01a-15da-4d02-9cd3-a13a681ab557",
   "metadata": {},
   "outputs": [],
   "source": [
    "from matplotlib import pyplot as plt"
   ]
  }
 ],
 "metadata": {
  "kernelspec": {
   "display_name": "Python 3 (ipykernel)",
   "language": "python",
   "name": "python3"
  },
  "language_info": {
   "codemirror_mode": {
    "name": "ipython",
    "version": 3
   },
   "file_extension": ".py",
   "mimetype": "text/x-python",
   "name": "python",
   "nbconvert_exporter": "python",
   "pygments_lexer": "ipython3",
   "version": "3.9.7"
  }
 },
 "nbformat": 4,
 "nbformat_minor": 5
}
