{
 "cells": [
  {
   "cell_type": "markdown",
   "metadata": {},
   "source": [
    "## Aufgabenteil 3\n",
    "\n",
    "Tim Ehmann\n"
   ]
  },
  {
   "cell_type": "markdown",
   "metadata": {},
   "source": [
    "### Try-Except Statements\n",
    "\n",
    "1. Schreiben Sie ein Programm, welches für 2 vom Benutzer eingegebene Zahlen den Quotienten bildet. Fangen Sie hierbei zum Einen den **ValueError** ab, falls der Nutzer keine Zahl eingibt, und den **ZeroDivisionError** ab wenn versucht wird, durch 0 zu dividieren, sodass das Programm dabei nicht abstürzt sondern den Fehler \"Sie dürfen nur Zahlen eingeben\" bzw. \"Eine Division durch 0 ist nicht möglich, geben Sie bitte andere Werte ein\" ausgibt."
   ]
  },
  {
   "cell_type": "code",
   "execution_count": null,
   "metadata": {},
   "outputs": [],
   "source": []
  },
  {
   "cell_type": "markdown",
   "metadata": {},
   "source": [
    "2. Im Folgenden ist ein Programmcode, welcher aus einem langen Satz zählt, wie oft ein Buchstabe vorkommt. Ohne den Programmcode auszuführen, welcher Fehler könnte hierbei auftreten und wie kann man diesen mithilfe der Ausnahmebehandlung lösen?"
   ]
  },
  {
   "cell_type": "code",
   "execution_count": null,
   "metadata": {},
   "outputs": [],
   "source": [
    "sample_sentence = \"\"\"Data Science (von englisch data „Daten“ und science „Wissenschaft“, im Deutschen auch Datenwissenschaft) bezeichnet generell die Extraktion von Wissen aus Daten.\n",
    "Data Science ist ein interdisziplinäres Wissenschaftsfeld, welches wissenschaftlich fundierte Methoden, Prozesse, Algorithmen und Systeme zur Extraktion von Erkenntnissen, Mustern und Schlüssen sowohl aus strukturierten als auch unstrukturierten Daten ermöglicht.\n",
    "Der Studiengang Data Science verwendet Techniken und Theorien aus den Fächern Mathematik, Statistik und Informationstechnologie, einschließlich der Signalverarbeitung, verwendet Wahrscheinlichkeitsmodelle des maschinellen Lernens, des statistischen Lernens, der Programmierung, der Datentechnik, der Mustererkennung, der Prognostik, der Modellierung von Unsicherheiten und der Datenlagerung.\n",
    "Personen, die im Bereich Data Science arbeiten, werden als Data Scientist bzw. Datenwissenschaftler bezeichnet, wobei meist speziellere oder Spezialisierungen anderer, übergeordneter Berufsbezeichnungen üblich sind (z. B. Statistiker, Informatiker)\"\"\"\n",
    "\n",
    "char_counter = {}\n",
    "for char in sample_sentence:\n",
    "    char_counter[char] += 1\n",
    "\n",
    "print(sorted(char_counter.items(), key=lambda x: x[1], reverse=True))\n"
   ]
  }
 ],
 "metadata": {
  "interpreter": {
   "hash": "b0fa6594d8f4cbf19f97940f81e996739fb7646882a419484c72d19e05852a7e"
  },
  "kernelspec": {
   "display_name": "Python 3.9.7 64-bit",
   "language": "python",
   "name": "python3"
  },
  "language_info": {
   "codemirror_mode": {
    "name": "ipython",
    "version": 3
   },
   "file_extension": ".py",
   "mimetype": "text/x-python",
   "name": "python",
   "nbconvert_exporter": "python",
   "pygments_lexer": "ipython3",
   "version": "3.9.7"
  },
  "orig_nbformat": 4
 },
 "nbformat": 4,
 "nbformat_minor": 2
}
