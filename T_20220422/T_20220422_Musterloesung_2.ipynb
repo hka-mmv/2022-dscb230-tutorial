{
 "cells": [
  {
   "cell_type": "markdown",
   "id": "a981c104-98d0-4b5a-8ec4-0c298e2a0e8f",
   "metadata": {},
   "source": [
    "## Aufgabenteil 2\n",
    "\n",
    "fj"
   ]
  },
  {
   "cell_type": "markdown",
   "id": "96b2bc76-9904-4ff8-80e6-21807fcda4a9",
   "metadata": {},
   "source": [
    "## Tesla-Aktienkurs\n",
    "In der CSV-Datei \"TSLA.csv\" liegen Aktienkurse von Tesla seit April 2017 vor. Ihre Aufgabe ist es, den Tagesdurchschnitt des Kurses der letzten drei Jahre zu ploten.\n"
   ]
  },
  {
   "cell_type": "markdown",
   "id": "08254f0d-ff90-40e6-acac-4d27d71072c2",
   "metadata": {},
   "source": [
    "#### 1. \n",
    "Benutzen Sie pandas, um die ersten **vier** Spalten der CSV-Datei zu laden. Die Spaltennamen sind leider verloren gegangen, beschriften Sie die Spalten in folgender Reihenfolge: \"Date\", \"Open\", \"High\", \"Low\"\n"
   ]
  },
  {
   "cell_type": "markdown",
   "id": "5d09e080-236b-4f97-8767-6c06281113eb",
   "metadata": {},
   "source": [
    "Hinweis: Lesen Sie die Docs _(https://pandas.pydata.org/pandas-docs/stable/reference/api/pandas.read_csv.html)_"
   ]
  },
  {
   "cell_type": "code",
   "execution_count": 1,
   "id": "7ae747b6-088f-478c-b8b9-7157551a475f",
   "metadata": {},
   "outputs": [],
   "source": [
    "import pandas as pd"
   ]
  },
  {
   "cell_type": "code",
   "execution_count": 2,
   "id": "579dca23-a06f-4015-b112-3922eafc4232",
   "metadata": {},
   "outputs": [],
   "source": [
    "with open(\"TSLA.csv\") as csv_file:\n",
    "    df = pd.read_csv(csv_file, usecols=[0,1,2,3], names=[\"Date\", \"Open\", \"High\", \"Low\"])   "
   ]
  },
  {
   "cell_type": "code",
   "execution_count": 3,
   "id": "b43e9221-fffd-4c0f-981a-50db3484d954",
   "metadata": {},
   "outputs": [
    {
     "data": {
      "text/html": [
       "<div>\n",
       "<style scoped>\n",
       "    .dataframe tbody tr th:only-of-type {\n",
       "        vertical-align: middle;\n",
       "    }\n",
       "\n",
       "    .dataframe tbody tr th {\n",
       "        vertical-align: top;\n",
       "    }\n",
       "\n",
       "    .dataframe thead th {\n",
       "        text-align: right;\n",
       "    }\n",
       "</style>\n",
       "<table border=\"1\" class=\"dataframe\">\n",
       "  <thead>\n",
       "    <tr style=\"text-align: right;\">\n",
       "      <th></th>\n",
       "      <th>Date</th>\n",
       "      <th>Open</th>\n",
       "      <th>High</th>\n",
       "      <th>Low</th>\n",
       "    </tr>\n",
       "  </thead>\n",
       "  <tbody>\n",
       "    <tr>\n",
       "      <th>0</th>\n",
       "      <td>2017-04-21</td>\n",
       "      <td>60.400002</td>\n",
       "      <td>61.279999</td>\n",
       "      <td>60.084000</td>\n",
       "    </tr>\n",
       "    <tr>\n",
       "      <th>1</th>\n",
       "      <td>2017-04-24</td>\n",
       "      <td>61.844002</td>\n",
       "      <td>62.110001</td>\n",
       "      <td>61.203999</td>\n",
       "    </tr>\n",
       "    <tr>\n",
       "      <th>2</th>\n",
       "      <td>2017-04-25</td>\n",
       "      <td>61.599998</td>\n",
       "      <td>62.796001</td>\n",
       "      <td>61.172001</td>\n",
       "    </tr>\n",
       "    <tr>\n",
       "      <th>3</th>\n",
       "      <td>2017-04-26</td>\n",
       "      <td>62.473999</td>\n",
       "      <td>62.900002</td>\n",
       "      <td>61.799999</td>\n",
       "    </tr>\n",
       "    <tr>\n",
       "      <th>4</th>\n",
       "      <td>2017-04-27</td>\n",
       "      <td>62.338001</td>\n",
       "      <td>62.618000</td>\n",
       "      <td>61.500000</td>\n",
       "    </tr>\n",
       "  </tbody>\n",
       "</table>\n",
       "</div>"
      ],
      "text/plain": [
       "         Date       Open       High        Low\n",
       "0  2017-04-21  60.400002  61.279999  60.084000\n",
       "1  2017-04-24  61.844002  62.110001  61.203999\n",
       "2  2017-04-25  61.599998  62.796001  61.172001\n",
       "3  2017-04-26  62.473999  62.900002  61.799999\n",
       "4  2017-04-27  62.338001  62.618000  61.500000"
      ]
     },
     "execution_count": 3,
     "metadata": {},
     "output_type": "execute_result"
    }
   ],
   "source": [
    "df.head()"
   ]
  },
  {
   "cell_type": "markdown",
   "id": "82bfc715-e6c6-4a82-a3f2-6c45409b7518",
   "metadata": {},
   "source": [
    "#### 2.\n",
    "Lassen Sie sich die Datentypen des Dataframes anzeigen. Wie Sie sehen, stimmt der Datentyp des Datums noch nicht. Ändern Sie diesen, so dass er stimmt."
   ]
  },
  {
   "cell_type": "code",
   "execution_count": 4,
   "id": "033cbad8-f07a-452b-913b-656e5800b2b4",
   "metadata": {},
   "outputs": [
    {
     "data": {
      "text/plain": [
       "Date     object\n",
       "Open    float64\n",
       "High    float64\n",
       "Low     float64\n",
       "dtype: object"
      ]
     },
     "execution_count": 4,
     "metadata": {},
     "output_type": "execute_result"
    }
   ],
   "source": [
    "df.dtypes"
   ]
  },
  {
   "cell_type": "code",
   "execution_count": 5,
   "id": "97b439d3-44b3-4adc-8212-1456b7607151",
   "metadata": {},
   "outputs": [],
   "source": [
    "df[\"Date\"] = pd.to_datetime(df[\"Date\"])"
   ]
  },
  {
   "cell_type": "code",
   "execution_count": 6,
   "id": "839e03d7-02cc-4498-b268-d8a51a182b9f",
   "metadata": {},
   "outputs": [
    {
     "data": {
      "text/plain": [
       "Date    datetime64[ns]\n",
       "Open           float64\n",
       "High           float64\n",
       "Low            float64\n",
       "dtype: object"
      ]
     },
     "execution_count": 6,
     "metadata": {},
     "output_type": "execute_result"
    }
   ],
   "source": [
    "df.dtypes"
   ]
  },
  {
   "cell_type": "markdown",
   "id": "42d9f18d-7b8c-4349-9c4e-1f4cc976593f",
   "metadata": {},
   "source": [
    "#### 3.\n",
    "Ergänzen Sie das Dataframe um eine weitere Spalte \"Avg\" in der Sie den Durchschnitt aus Low und High des Tages berechnen."
   ]
  },
  {
   "cell_type": "code",
   "execution_count": 7,
   "id": "10124621-c7f5-4c69-ad48-ae2f53b96cbd",
   "metadata": {},
   "outputs": [],
   "source": [
    "df[\"Avg\"] = (df[\"Low\"] + df[\"High\"])/2"
   ]
  },
  {
   "cell_type": "code",
   "execution_count": 8,
   "id": "360d99c4-0df6-47d1-9161-de3b4071806c",
   "metadata": {},
   "outputs": [
    {
     "data": {
      "text/html": [
       "<div>\n",
       "<style scoped>\n",
       "    .dataframe tbody tr th:only-of-type {\n",
       "        vertical-align: middle;\n",
       "    }\n",
       "\n",
       "    .dataframe tbody tr th {\n",
       "        vertical-align: top;\n",
       "    }\n",
       "\n",
       "    .dataframe thead th {\n",
       "        text-align: right;\n",
       "    }\n",
       "</style>\n",
       "<table border=\"1\" class=\"dataframe\">\n",
       "  <thead>\n",
       "    <tr style=\"text-align: right;\">\n",
       "      <th></th>\n",
       "      <th>Date</th>\n",
       "      <th>Open</th>\n",
       "      <th>High</th>\n",
       "      <th>Low</th>\n",
       "      <th>Avg</th>\n",
       "    </tr>\n",
       "  </thead>\n",
       "  <tbody>\n",
       "    <tr>\n",
       "      <th>0</th>\n",
       "      <td>2017-04-21</td>\n",
       "      <td>60.400002</td>\n",
       "      <td>61.279999</td>\n",
       "      <td>60.084000</td>\n",
       "      <td>60.682000</td>\n",
       "    </tr>\n",
       "    <tr>\n",
       "      <th>1</th>\n",
       "      <td>2017-04-24</td>\n",
       "      <td>61.844002</td>\n",
       "      <td>62.110001</td>\n",
       "      <td>61.203999</td>\n",
       "      <td>61.657000</td>\n",
       "    </tr>\n",
       "    <tr>\n",
       "      <th>2</th>\n",
       "      <td>2017-04-25</td>\n",
       "      <td>61.599998</td>\n",
       "      <td>62.796001</td>\n",
       "      <td>61.172001</td>\n",
       "      <td>61.984001</td>\n",
       "    </tr>\n",
       "    <tr>\n",
       "      <th>3</th>\n",
       "      <td>2017-04-26</td>\n",
       "      <td>62.473999</td>\n",
       "      <td>62.900002</td>\n",
       "      <td>61.799999</td>\n",
       "      <td>62.350001</td>\n",
       "    </tr>\n",
       "    <tr>\n",
       "      <th>4</th>\n",
       "      <td>2017-04-27</td>\n",
       "      <td>62.338001</td>\n",
       "      <td>62.618000</td>\n",
       "      <td>61.500000</td>\n",
       "      <td>62.059000</td>\n",
       "    </tr>\n",
       "  </tbody>\n",
       "</table>\n",
       "</div>"
      ],
      "text/plain": [
       "        Date       Open       High        Low        Avg\n",
       "0 2017-04-21  60.400002  61.279999  60.084000  60.682000\n",
       "1 2017-04-24  61.844002  62.110001  61.203999  61.657000\n",
       "2 2017-04-25  61.599998  62.796001  61.172001  61.984001\n",
       "3 2017-04-26  62.473999  62.900002  61.799999  62.350001\n",
       "4 2017-04-27  62.338001  62.618000  61.500000  62.059000"
      ]
     },
     "execution_count": 8,
     "metadata": {},
     "output_type": "execute_result"
    }
   ],
   "source": [
    "df.head()"
   ]
  },
  {
   "cell_type": "markdown",
   "id": "db23b9e2-7588-4c4d-a2bb-28fe9f8cf150",
   "metadata": {},
   "source": [
    "#### 4.\n",
    "Erzeugen Sie nun ein neues Dataframe (auf Grundlage des bisherigen), welches nur Daten ab dem 22.04.2019 beinhaltet."
   ]
  },
  {
   "cell_type": "code",
   "execution_count": 9,
   "id": "0d04e04e-0b4e-4cea-aaae-db459b3cccb1",
   "metadata": {},
   "outputs": [],
   "source": [
    "df_tsla = df[df[\"Date\"] > \"2019-04-22\"]\n"
   ]
  },
  {
   "cell_type": "markdown",
   "id": "188a71a9-9972-4b8f-8b14-c2d3aedce05c",
   "metadata": {},
   "source": [
    "#### 5.\n",
    "Benutzen Sie Matplotlib um den Tagesdurchschnitt (Avg) des Kurses der letzten 3 Jahre zu ploten. Die Linie soll die Farbe rot haben und in der Legende als \"TSLA\" bezeichnet werden.\n",
    "\n",
    "Tipp: Nutzen Sie \"plt.gcf().autofmt_xdate()\", um die X-Achse lesbar zu formatiern."
   ]
  },
  {
   "cell_type": "code",
   "execution_count": 10,
   "id": "9314c01a-15da-4d02-9cd3-a13a681ab557",
   "metadata": {},
   "outputs": [],
   "source": [
    "from matplotlib import pyplot as plt"
   ]
  },
  {
   "cell_type": "code",
   "execution_count": 11,
   "id": "625b0e4f-3ff3-45e2-8caf-531f16c0959a",
   "metadata": {},
   "outputs": [
    {
     "data": {
      "image/png": "[encoded data removed]",
      "text/plain": [
       "<Figure size 432x288 with 1 Axes>"
      ]
     },
     "metadata": {
      "needs_background": "light"
     },
     "output_type": "display_data"
    }
   ],
   "source": [
    "plt.plot(df_tsla[\"Date\"], df_tsla[\"Avg\"], \"r\", label = \"TSLA\")\n",
    "plt.gcf().autofmt_xdate()\n",
    "plt.legend()\n",
    "plt.show()"
   ]
  },
  {
   "cell_type": "code",
   "execution_count": null,
   "id": "2ceda44e",
   "metadata": {},
   "outputs": [],
   "source": []
  }
 ],
 "metadata": {
  "kernelspec": {
   "display_name": "Python 3 (ipykernel)",
   "language": "python",
   "name": "python3"
  },
  "language_info": {
   "codemirror_mode": {
    "name": "ipython",
    "version": 3
   },
   "file_extension": ".py",
   "mimetype": "text/x-python",
   "name": "python",
   "nbconvert_exporter": "python",
   "pygments_lexer": "ipython3",
   "version": "3.9.12"
  }
 },
 "nbformat": 4,
 "nbformat_minor": 5
}
