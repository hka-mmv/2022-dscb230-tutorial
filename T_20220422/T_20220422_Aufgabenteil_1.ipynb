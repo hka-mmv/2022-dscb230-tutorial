{
 "cells": [
  {
   "cell_type": "markdown",
   "id": "c8bf5b07",
   "metadata": {},
   "source": [
    "# Tutorium DSCB 230"
   ]
  },
  {
   "cell_type": "markdown",
   "id": "d058160b",
   "metadata": {},
   "source": [
    "Raphaele Salvatore Licciardo\n"
   ]
  },
  {
   "cell_type": "markdown",
   "id": "06ea89ff",
   "metadata": {},
   "source": [
    "## T_20220422"
   ]
  },
  {
   "cell_type": "markdown",
   "id": "726b28d0",
   "metadata": {},
   "source": [
    "### Aufgabe 1: List Comprehension\n",
    "\n",
    "Das Listenverständnis, das oft als Teil der funktionalen Programmierung in Python angesehen wird, ermöglicht es, mit weniger Code Listen für eine Schleife zu erstellen. Kurz gesagt, es ist eine wahrhaft pythonische Art des Programmierens. Weniger Code - mehr Effektivität. \n",
    "Versuchen Sie also Listen zu befüllen, mit möglichst wenig Zeilen Code. \n",
    "1. Füllen Sie eine Liste, klassisch mit einer Forschleife. Es sollen alle Zahlen von 0 bis 9 enthalten sein.\n",
    "2. Füllen Sie eine Liste, nach den Regel der List Comprehension. Es sollen alle Zahlen von 0 bis 9 enthalten sein.\n",
    "3. Formen Sie Teilaufgabe 2 so um, das nun nur noch alle gerade Zahlen enthalten sind.\n",
    "4. Formen Sie Teilaufgabe 3 so um, das nun nur noch alle gerade Zahlen enthalten sind, und diese mit 2 multipliziert werden.\n",
    "5. Gegeben seien folgende Listen, erarbeiten sie mithilfe der List Comprehension folgende Ausgabe:\n",
    "\n",
    "```python3\n",
    "nums = [1, 2, 3, 4, 5]\n",
    "letters = ['A', 'B', 'C', 'D', 'E']\n",
    "```\n",
    "\n",
    "```python3\n",
    "output:\n",
    "[[1, 'A'], [1, 'B'], [1, 'C'], [1, 'D'], [1, 'E'], [2, 'A'], [2, 'B'], [2, ......\n",
    "```\n",
    "\n",
    "6. Schreiben Sie ein Programm, welches mittels der List Comprehension, einen Beispiel Text `dscb230` in jeden einzelnen Char aufteilt und in einer Liste speichert, also:\n",
    "\n",
    "```python3\n",
    "output:\n",
    "['d', 's', 'c', 'b', '2', '3', '0']\n",
    "```\n"
   ]
  }
 ],
 "metadata": {
  "kernelspec": {
   "display_name": "Python 3 (ipykernel)",
   "language": "python",
   "name": "python3"
  },
  "language_info": {
   "codemirror_mode": {
    "name": "ipython",
    "version": 3
   },
   "file_extension": ".py",
   "mimetype": "text/x-python",
   "name": "python",
   "nbconvert_exporter": "python",
   "pygments_lexer": "ipython3",
   "version": "3.9.12"
  }
 },
 "nbformat": 4,
 "nbformat_minor": 5
}
