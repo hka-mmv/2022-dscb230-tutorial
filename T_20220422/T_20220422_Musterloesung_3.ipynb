{
 "cells": [
  {
   "cell_type": "markdown",
   "metadata": {},
   "source": [
    "## Aufgabenteil 3\n",
    "\n",
    "Tim Ehmann\n"
   ]
  },
  {
   "cell_type": "markdown",
   "metadata": {},
   "source": [
    "### Try-Except Statements\n",
    "\n",
    "1. Schreiben Sie ein Programm, welches für 2 vom Benutzer eingegebene Zahlen den Quotienten bildet. Fangen Sie hierbei zum Einen den **ValueError** ab, falls der Nutzer keine Zahl eingibt, und den **ZeroDivisionError** ab wenn versucht wird, durch 0 zu dividieren, sodass das Programm dabei nicht abstürzt sondern den Fehler \"Sie dürfen nur Zahlen eingeben\" bzw. \"Eine Division durch 0 ist nicht möglich, geben Sie bitte andere Werte ein\" ausgibt."
   ]
  },
  {
   "cell_type": "code",
   "execution_count": 2,
   "metadata": {},
   "outputs": [
    {
     "name": "stdout",
     "output_type": "stream",
     "text": [
      "Geben Sie eine Zahl ein10\n",
      "Geben Sie erneut eine Zahl ein30\n",
      "0.3333333333333333\n"
     ]
    }
   ],
   "source": [
    "def get_user_input():\n",
    "    try:\n",
    "        return (int(input(\"Geben Sie eine Zahl ein\")), int(input(\"Geben Sie erneut eine Zahl ein\")))\n",
    "    except ValueError:\n",
    "        print(\"Sie dürfen nur Zahlen eingeben\")\n",
    "        return get_user_input()\n",
    "\n",
    "def divide(z1, z2):\n",
    "    try:\n",
    "        print(z1/z2)\n",
    "    except ZeroDivisionError:\n",
    "        print(\"Eine Division durch 0 ist nicht möglich, geben Sie bitte andere Werte ein\")\n",
    "        x,y = get_user_input()\n",
    "        divide(x,y)\n",
    "\n",
    "x,y = get_user_input()\n",
    "divide(x,y)"
   ]
  },
  {
   "cell_type": "markdown",
   "metadata": {},
   "source": [
    "2. Im Folgenden ist ein Programmcode, welcher aus einem langen Satz zählt, wie oft ein Buchstabe vorkommt. Ohne den Programmcode auszuführen, welcher Fehler könnte hierbei auftreten und wie kann man diesen mithilfe der Ausnahmebehandlung lösen?"
   ]
  },
  {
   "cell_type": "code",
   "execution_count": 1,
   "metadata": {},
   "outputs": [
    {
     "name": "stdout",
     "output_type": "stream",
     "text": [
      "[('e', 145), (' ', 115), ('n', 97), ('i', 74), ('t', 68), ('s', 65), ('r', 62), ('a', 50), ('c', 40), ('h', 36), ('d', 33), ('l', 30), ('u', 30), ('o', 26), ('g', 19), (',', 19), ('D', 14), ('k', 14), ('m', 13), ('S', 12), ('f', 10), ('w', 10), ('z', 10), ('b', 9), ('v', 7), ('.', 6), ('M', 5), ('W', 4), ('P', 4), ('E', 3), ('\\n', 3), ('p', 3), ('ü', 3), ('B', 3), ('(', 2), ('„', 2), ('“', 2), (')', 2), ('x', 2), ('ä', 2), ('T', 2), ('I', 2), ('L', 2), ('A', 1), ('y', 1), ('ö', 1), ('F', 1), ('ß', 1), ('U', 1)]\n"
     ]
    }
   ],
   "source": [
    "sample_sentence = \"\"\"Data Science (von englisch data „Daten“ und science „Wissenschaft“, im Deutschen auch Datenwissenschaft) bezeichnet generell die Extraktion von Wissen aus Daten.\n",
    "Data Science ist ein interdisziplinäres Wissenschaftsfeld, welches wissenschaftlich fundierte Methoden, Prozesse, Algorithmen und Systeme zur Extraktion von Erkenntnissen, Mustern und Schlüssen sowohl aus strukturierten als auch unstrukturierten Daten ermöglicht.\n",
    "Der Studiengang Data Science verwendet Techniken und Theorien aus den Fächern Mathematik, Statistik und Informationstechnologie, einschließlich der Signalverarbeitung, verwendet Wahrscheinlichkeitsmodelle des maschinellen Lernens, des statistischen Lernens, der Programmierung, der Datentechnik, der Mustererkennung, der Prognostik, der Modellierung von Unsicherheiten und der Datenlagerung.\n",
    "Personen, die im Bereich Data Science arbeiten, werden als Data Scientist bzw. Datenwissenschaftler bezeichnet, wobei meist speziellere oder Spezialisierungen anderer, übergeordneter Berufsbezeichnungen üblich sind (z. B. Statistiker, Informatiker)\"\"\"\n",
    "\n",
    "char_counter = {}\n",
    "for char in sample_sentence:\n",
    "    try:\n",
    "        char_counter[char] += 1\n",
    "    except KeyError:\n",
    "        char_counter[char] = 1\n",
    "\n",
    "print(sorted(char_counter.items(), key=lambda x: x[1], reverse=True))\n"
   ]
  },
  {
   "cell_type": "code",
   "execution_count": null,
   "metadata": {},
   "outputs": [],
   "source": []
  }
 ],
 "metadata": {
  "interpreter": {
   "hash": "b0fa6594d8f4cbf19f97940f81e996739fb7646882a419484c72d19e05852a7e"
  },
  "kernelspec": {
   "display_name": "Python 3 (ipykernel)",
   "language": "python",
   "name": "python3"
  },
  "language_info": {
   "codemirror_mode": {
    "name": "ipython",
    "version": 3
   },
   "file_extension": ".py",
   "mimetype": "text/x-python",
   "name": "python",
   "nbconvert_exporter": "python",
   "pygments_lexer": "ipython3",
   "version": "3.9.12"
  }
 },
 "nbformat": 4,
 "nbformat_minor": 2
}
