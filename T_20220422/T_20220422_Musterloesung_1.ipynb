{
 "cells": [
  {
   "cell_type": "markdown",
   "id": "c8bf5b07",
   "metadata": {},
   "source": [
    "# Tutorium DSCB 230"
   ]
  },
  {
   "cell_type": "markdown",
   "id": "d058160b",
   "metadata": {},
   "source": [
    "Raphaele Salvatore Licciardo\n"
   ]
  },
  {
   "cell_type": "markdown",
   "id": "06ea89ff",
   "metadata": {},
   "source": [
    "## T_20220422"
   ]
  },
  {
   "cell_type": "markdown",
   "id": "726b28d0",
   "metadata": {},
   "source": [
    "### Aufgabe 1: List Comprehension\n",
    "\n",
    "Das Listenverständnis, das oft als Teil der funktionalen Programmierung in Python angesehen wird, ermöglicht es, mit weniger Code Listen für eine Schleife zu erstellen. Kurz gesagt, es ist eine wahrhaft pythonische Art des Programmierens. Weniger Code - mehr Effektivität. \n",
    "Versuchen Sie also Listen zu befüllen, mit möglichst wenig Zeilen Code. \n",
    "1. Füllen Sie eine Liste, klassisch mit einer Forschleife. Es sollen alle Zahlen von 0 bis 9 enthalten sein.\n",
    "2. Füllen Sie eine Liste, nach den Regel der List Comprehension. Es sollen alle Zahlen von 0 bis 9 enthalten sein.\n",
    "3. Formen Sie Teilaufgabe 2 so um, das nun nur noch alle gerade Zahlen enthalten sind.\n",
    "4. Formen Sie Teilaufgabe 3 so um, das nun nur noch alle gerade Zahlen enthalten sind, und diese mit 2 multipliziert werden.\n",
    "5. Gegeben seien folgende Listen, erarbeiten sie mithilfe der List Comprehension folgende Ausgabe:\n",
    "\n",
    "```python3\n",
    "nums = [1, 2, 3, 4, 5]\n",
    "letters = ['A', 'B', 'C', 'D', 'E']\n",
    "```\n",
    "\n",
    "```python3\n",
    "output:\n",
    "[[1, 'A'], [1, 'B'], [1, 'C'], [1, 'D'], [1, 'E'], [2, 'A'], [2, 'B'], [2, ......\n",
    "```\n",
    "\n",
    "6. Schreiben Sie ein Programm, welches mittels der List Comprehension, einen Beispiel Text `dscb230` in jeden einzelnen Char aufteilt und in einer Liste speichert, also:\n",
    "\n",
    "```python3\n",
    "output:\n",
    "['d', 's', 'c', 'b', '2', '3', '0']\n",
    "```\n"
   ]
  },
  {
   "cell_type": "code",
   "execution_count": 1,
   "id": "83e28a1b",
   "metadata": {},
   "outputs": [
    {
     "data": {
      "text/plain": [
       "[0, 1, 2, 3, 4, 5, 6, 7, 8, 9]"
      ]
     },
     "execution_count": 1,
     "metadata": {},
     "output_type": "execute_result"
    }
   ],
   "source": [
    "my_list = []\n",
    "for x in range(10): \n",
    "    my_list.append(x)\n",
    "my_list"
   ]
  },
  {
   "cell_type": "code",
   "execution_count": 2,
   "id": "d046a765",
   "metadata": {},
   "outputs": [
    {
     "data": {
      "text/plain": [
       "[0, 1, 2, 3, 4, 5, 6, 7, 8, 9]"
      ]
     },
     "execution_count": 2,
     "metadata": {},
     "output_type": "execute_result"
    }
   ],
   "source": [
    "my_list = [x for x in range(10)]\n",
    "my_list"
   ]
  },
  {
   "cell_type": "code",
   "execution_count": 3,
   "id": "7cff614a",
   "metadata": {},
   "outputs": [
    {
     "data": {
      "text/plain": [
       "[0, 2, 4, 6, 8]"
      ]
     },
     "execution_count": 3,
     "metadata": {},
     "output_type": "execute_result"
    }
   ],
   "source": [
    "my_list = [x for x in range(10) if x % 2 == 0]\n",
    "my_list"
   ]
  },
  {
   "cell_type": "code",
   "execution_count": 4,
   "id": "bd34ccb7",
   "metadata": {},
   "outputs": [
    {
     "data": {
      "text/plain": [
       "[0, 4, 8, 12, 16]"
      ]
     },
     "execution_count": 4,
     "metadata": {},
     "output_type": "execute_result"
    }
   ],
   "source": [
    "my_list = [x * 2 for x in range(10) if x % 2 == 0]\n",
    "my_list"
   ]
  },
  {
   "cell_type": "code",
   "execution_count": 5,
   "id": "501e06f8",
   "metadata": {},
   "outputs": [
    {
     "data": {
      "text/plain": [
       "[[1, 'A'],\n",
       " [1, 'B'],\n",
       " [1, 'C'],\n",
       " [1, 'D'],\n",
       " [1, 'E'],\n",
       " [2, 'A'],\n",
       " [2, 'B'],\n",
       " [2, 'C'],\n",
       " [2, 'D'],\n",
       " [2, 'E'],\n",
       " [3, 'A'],\n",
       " [3, 'B'],\n",
       " [3, 'C'],\n",
       " [3, 'D'],\n",
       " [3, 'E'],\n",
       " [4, 'A'],\n",
       " [4, 'B'],\n",
       " [4, 'C'],\n",
       " [4, 'D'],\n",
       " [4, 'E'],\n",
       " [5, 'A'],\n",
       " [5, 'B'],\n",
       " [5, 'C'],\n",
       " [5, 'D'],\n",
       " [5, 'E']]"
      ]
     },
     "execution_count": 5,
     "metadata": {},
     "output_type": "execute_result"
    }
   ],
   "source": [
    "nums = [1, 2, 3, 4, 5]\n",
    "letters = ['A', 'B', 'C', 'D', 'E']\n",
    "my_list = [[n, l] for n in nums for l in letters]\n",
    "my_list"
   ]
  },
  {
   "cell_type": "code",
   "execution_count": 6,
   "id": "243799ca",
   "metadata": {},
   "outputs": [
    {
     "data": {
      "text/plain": [
       "['d', 's', 'c', 'b', '2', '3', '0']"
      ]
     },
     "execution_count": 6,
     "metadata": {},
     "output_type": "execute_result"
    }
   ],
   "source": [
    "word = \"dscb230\"\n",
    "my_list = [x for x in word if x !=\" \"]\n",
    "my_list"
   ]
  },
  {
   "cell_type": "code",
   "execution_count": null,
   "id": "ac9b820c",
   "metadata": {},
   "outputs": [],
   "source": []
  }
 ],
 "metadata": {
  "kernelspec": {
   "display_name": "Python 3 (ipykernel)",
   "language": "python",
   "name": "python3"
  },
  "language_info": {
   "codemirror_mode": {
    "name": "ipython",
    "version": 3
   },
   "file_extension": ".py",
   "mimetype": "text/x-python",
   "name": "python",
   "nbconvert_exporter": "python",
   "pygments_lexer": "ipython3",
   "version": "3.9.12"
  }
 },
 "nbformat": 4,
 "nbformat_minor": 5
}
