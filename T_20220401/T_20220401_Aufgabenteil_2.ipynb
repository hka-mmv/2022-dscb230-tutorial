{
 "cells": [
  {
   "cell_type": "markdown",
   "id": "d1e68c7e-eac4-4034-891b-4e142389209e",
   "metadata": {},
   "source": [
    "# 2. Tutorium DSCB 230\n",
    "fj"
   ]
  },
  {
   "cell_type": "markdown",
   "id": "bff06bfc-c164-4cbf-ac97-caf5ea4f4ff6",
   "metadata": {},
   "source": [
    "## 1. Bäckerei\n",
    "(*Idee aus: Stephenson, B.: The Python Workbook. A Brief Introduction with Exercises and Solutions. Texts in Computer Science. 2nd ed. 2019. Springer International Publishing; Imprint: Springer, Cham 2019, S.22*)"
   ]
  },
  {
   "cell_type": "markdown",
   "id": "f576ca8a-6679-494d-b8f8-9783391b44db",
   "metadata": {},
   "source": [
    "Eine Bäckerei speichert alle ihre Waren über ein Dictionary ab. Zu jedem Produkt wird die **Menge** und der **Stückpreis** (in €) angegeben. Es wird zudem gespeichert, ob die Ware **vom Vortag** ist, oder nicht."
   ]
  },
  {
   "cell_type": "code",
   "execution_count": 1,
   "id": "aabb3c1e-93b7-4eaa-8ffd-8d3218b5a5f5",
   "metadata": {},
   "outputs": [],
   "source": [
    "waren = [ {\"name\": \"brezel\", \"menge\" : 17, \"preis\" : 0.85, \"vom_vortag\" : False},\n",
    "          {\"name\": \"laugenstange\", \"menge\" : 4, \"preis\" : 0.90, \"vom_vortag\" : True},\n",
    "          {\"name\": \"mohnbrötchen\", \"menge\" : 9, \"preis\" : 0.78, \"vom_vortag\" : True},\n",
    "          {\"name\": \"vollkornbrot\", \"menge\" : 3, \"preis\" : 2.16, \"vom_vortag\" : False},\n",
    "          {\"name\": \"crossiant\", \"menge\" : 12, \"preis\" : 0.93, \"vom_vortag\" : False},\n",
    "          {\"name\": \"sesambrötchen\", \"menge\" : 13, \"preis\" : 0.76, \"vom_vortag\" : True}]"
   ]
  },
  {
   "cell_type": "markdown",
   "id": "b7e4b912-6ba1-49b8-acf5-799792e68152",
   "metadata": {},
   "source": [
    "**1.1**\n",
    "Bestimmen Sie das Produkt mit dem höchsten Preis. Geben Sie den Namen und den Preis an."
   ]
  },
  {
   "cell_type": "markdown",
   "id": "752c9f6f-9e53-4b81-b325-73428b43c3d5",
   "metadata": {},
   "source": [
    "**1.2** Auf Produkte vom Vortag gibt es 15% Rabatt. Ändern Sie den Preis aller Produkte vom Vortag auf den neuen Angebotspreis (in \"waren\")"
   ]
  },
  {
   "cell_type": "markdown",
   "id": "c090e5df-d999-4ac8-8d7d-c6b1383fae22",
   "metadata": {},
   "source": [
    "**1.3** Nutzen Sie die filter() Funktion, um alle Produkte vom Vortag in einer Liste zu speichern (Name und Preis). "
   ]
  },
  {
   "cell_type": "markdown",
   "id": "bf254613-6415-4f12-b778-48bfe3623d76",
   "metadata": {},
   "source": [
    "**1.4** Angenommen die Bäckerei möchte Inventur durchführen. Dazu soll eine Kopie des kompletten Warenbestands gemacht werden. Änderungen im (aktuellen) Warenbestand oder der Inventur sollen keinen Einfluss aufeinander haben. (Überprüfen Sie danach ihre Listen, indem Sie einzelne Werte verändern und vergleichen)"
   ]
  },
  {
   "cell_type": "markdown",
   "id": "e4c4f9c2-12bd-4be6-a331-5fca2c6c60cc",
   "metadata": {},
   "source": [
    "## 2. Benotungssystem\n",
    "Ein Professor möchte beim Korrigieren seiner Klausuren Zeit sparen und hat sich folgendes Benotungssystem ausgedacht: \n",
    "* Beginnt der Vorname eines Student mit einem \"F\", so bekommt er eine 1.0\n",
    "* Andernfalls bekommt der Student eine zufällige Note zwischen 2 und 5 zugeordnet\n",
    "\n",
    "Nutzen Sie die **map()** Funktion, um das System zu implementieren.\n",
    "In einer Liste soll für jeden Student ein Tuple mit Name und Note gespeichert werden.\n",
    "\n",
    "Testen Sie ihren Code mit dem Tuple \"studenten\"."
   ]
  },
  {
   "cell_type": "markdown",
   "id": "b2a1fa28-a035-4769-913b-94f69cb4bedf",
   "metadata": {},
   "source": [
    "*Zu map(): https://www.w3schools.com/python/ref_func_map.asp*"
   ]
  },
  {
   "cell_type": "code",
   "execution_count": 5,
   "id": "24ff8961-d2f8-4f94-acbb-3120f050207a",
   "metadata": {},
   "outputs": [],
   "source": [
    "studenten = (\"Peter\", \"Julia\", \"Bob\", \"Fabian\", \"Tim\", \"Fiola\")"
   ]
  },
  {
   "cell_type": "markdown",
   "id": "273c7de2-74d1-4a2b-a571-575affa4324d",
   "metadata": {},
   "source": [
    "## 3. CSV Datei"
   ]
  },
  {
   "cell_type": "markdown",
   "id": "1e316c1e-b76b-4709-9a2d-4e3fc9d8a6be",
   "metadata": {},
   "source": [
    "**3.1** Schreiben Sie eine Funktion, die die Anzahl von Zeilen einer CSV Datei zurückgibt\n"
   ]
  }
 ],
 "metadata": {
  "kernelspec": {
   "display_name": "Python 3 (ipykernel)",
   "language": "python",
   "name": "python3"
  },
  "language_info": {
   "codemirror_mode": {
    "name": "ipython",
    "version": 3
   },
   "file_extension": ".py",
   "mimetype": "text/x-python",
   "name": "python",
   "nbconvert_exporter": "python",
   "pygments_lexer": "ipython3",
   "version": "3.9.7"
  }
 },
 "nbformat": 4,
 "nbformat_minor": 5
}
