{
 "cells": [
  {
   "cell_type": "markdown",
   "metadata": {},
   "source": [
    "# Tutorium DSCB 230"
   ]
  },
  {
   "cell_type": "markdown",
   "metadata": {},
   "source": [
    "Tim Ehmann"
   ]
  },
  {
   "cell_type": "markdown",
   "metadata": {},
   "source": [
    "## T_20220401"
   ]
  },
  {
   "cell_type": "markdown",
   "metadata": {},
   "source": [
    "### Aufgabe 1\n",
    "\n",
    "Basics Wiederholung\n",
    "\n",
    "1. Fügen sie die zwei Listen **treibstoffe** und **preise** zu einer Liste **treibstoffpreise** aus Tupeln mithilfe von **zip()** zusammen \n",
    "2. Aktualisieren Sie für Super E10 den Preis zu 1.87 in **treibstoffpreise**\n",
    "3. Entfernen Sie den Eintrag für CNG aus **treibstoffpreise**\n",
    "4. Geben Sie **dieselpreise** ab dem dritten Eintrag aus\n",
    "5. Geben Sie **dieselpreise** im Monat Februar aus (Index 3 bis 6)\n",
    "5. Geben Sie jeden zweiten Eintrag von **dieselpreise** aus (start bei Index 0)"
   ]
  },
  {
   "cell_type": "code",
   "execution_count": null,
   "metadata": {},
   "outputs": [],
   "source": [
    "treibstoff = [\"Diesel\", \"LKW Diesel\", \"Super E10\", \"Super Plus\", \"LPG\", \"CNG\"]\n",
    "preise = [2.08, 2.09, 1.94, 2.08, 1.10, 1.09]\n",
    "\n",
    "\n",
    "dieselpreise = [(\"2022-01-17\", 1.408), (\"2022-01-24\", 1.418), (\"2022-01-31\", 1.430), (\"2022-02-07\", 1.441), (\"2022-02-14\", 1.457), (\"2022-02-21\", 1.464), (\"2022-02-28\", 1.520), (\"2022-03-07\", 1.719),(\"2022-03-14\", 2.023), (\"2022-03-21\", 1.828)]\n"
   ]
  },
  {
   "cell_type": "markdown",
   "metadata": {},
   "source": [
    "### Aufgabe 2\n",
    "\n",
    "Im letzten Tutorium wurde ein Dictionary **freundschaften** erstellt, in dem für jeden User die Namen der Freunde gespeichert werden. Zudem wurde eine Funktion **anzahl_an_freunden** erstellt, welche einen User als Input nimmt und dann mithilfe des **freundschaften** dictionaries die Anzahl an Freunden ausgibt.\n",
    "\n",
    "Versuchen Sie nun, eine Liste so zu erstellen, in der für jeden Nutzer der Name und die Anzahl dessen Freunde als Tupel gespeichert wird. z.B. [('Paul', 2), ('Marie', 3), ... ]"
   ]
  },
  {
   "cell_type": "code",
   "execution_count": null,
   "metadata": {},
   "outputs": [],
   "source": [
    "nutzer = [\n",
    "    {\"id\": 0, \"name\": \"Paul\"},\n",
    "    {\"id\": 1, \"name\": \"Marie\"},\n",
    "    {\"id\": 2, \"name\": \"Sue\"},\n",
    "    {\"id\": 3, \"name\": \"Justus\"},\n",
    "    {\"id\": 4, \"name\": \"Anna\"},\n",
    "    {\"id\": 5, \"name\": \"Marian\"},\n",
    "    {\"id\": 6, \"name\": \"Svenja\"},\n",
    "    {\"id\": 7, \"name\": \"Devin\"},\n",
    "    {\"id\": 8, \"name\": \"Lars\"},\n",
    "    {\"id\": 9, \"name\": \"Peter\"},\n",
    "]\n",
    "\n",
    "freundschaften = {\n",
    "    'Paul': ['Marie', 'Sue'], \n",
    "    'Marie': ['Paul', 'Sue', 'Justus'], \n",
    "    'Sue': ['Paul', 'Marie', 'Justus', 'Lars'], \n",
    "    'Justus': ['Marie', 'Sue', 'Anna'], \n",
    "    'Anna': ['Justus', 'Marian'], \n",
    "    'Marian': ['Anna', 'Svenja', 'Devin'], \n",
    "    'Svenja': ['Marian', 'Lars'], \n",
    "    'Devin': ['Marian', 'Lars'], \n",
    "    'Lars': ['Sue', 'Svenja', 'Devin', 'Peter'], \n",
    "    'Peter': ['Lars']}\n",
    "\n",
    "def anzahl_an_freunden(nutzer):\n",
    "    \"\"\"Gibt Die Anzahl an Freunden eines Nutzers aus\"\"\"\n",
    "    name = nutzer[\"name\"]\n",
    "    return len(freundschaften[name])\n",
    "\n",
    "freundesanzahl_nach_name = [\n",
    "   \n",
    "]\n"
   ]
  },
  {
   "cell_type": "markdown",
   "metadata": {},
   "source": [
    "### Aufgabe 3\n",
    "\n",
    "Sortieren Sie nun die Liste absteigend nach Der Anzahl der Freunde. Verwenden Sie dafür die .sort() Methode.\n",
    "Falls die vorherige Aufgabe nicht bearbeitet wurde, verwenden Sie die bereitgestellte Liste.\n",
    "\n",
    "Hilfreiche Ressourcen:\n",
    "\n",
    "https://pythonguides.com/python-sort-list-of-tuples/\n",
    "\n",
    "Zur Verständnis Vertiefung:\n",
    "\n",
    "https://stackoverflow.com/questions/8966538/syntax-behind-sortedkey-lambda#answer-42966511"
   ]
  },
  {
   "cell_type": "code",
   "execution_count": null,
   "metadata": {},
   "outputs": [],
   "source": [
    "\"\"\"\n",
    "freundesanzahl_nach_name = [('Paul', 2), ('Marie', 3), ('Sue', 4), ('Justus', 3), \n",
    "('Anna', 2), ('Marian', 3), ('Svenja', 2), ('Devin', 2), ('Lars', 4), ('Peter', 1)]\n",
    "\"\"\"\n"
   ]
  }
 ],
 "metadata": {
  "interpreter": {
   "hash": "b0fa6594d8f4cbf19f97940f81e996739fb7646882a419484c72d19e05852a7e"
  },
  "kernelspec": {
   "display_name": "Python 3.9.7 64-bit",
   "language": "python",
   "name": "python3"
  },
  "language_info": {
   "codemirror_mode": {
    "name": "ipython",
    "version": 3
   },
   "file_extension": ".py",
   "mimetype": "text/x-python",
   "name": "python",
   "nbconvert_exporter": "python",
   "pygments_lexer": "ipython3",
   "version": "3.9.7"
  },
  "orig_nbformat": 4
 },
 "nbformat": 4,
 "nbformat_minor": 2
}
