{
 "cells": [
  {
   "cell_type": "markdown",
   "id": "c8bf5b07",
   "metadata": {},
   "source": [
    "# Tutorium DSCB 230"
   ]
  },
  {
   "cell_type": "markdown",
   "id": "d058160b",
   "metadata": {},
   "source": [
    "Raphaele Salvatore Licciardo, B.Sc."
   ]
  },
  {
   "cell_type": "markdown",
   "id": "06ea89ff",
   "metadata": {},
   "source": [
    "## T_20220401"
   ]
  },
  {
   "cell_type": "markdown",
   "id": "726b28d0",
   "metadata": {},
   "source": [
    "### Aufgabe 1: Wiederholung - List und Dict in Python3\n",
    "1. Eine Liste erstellen und ein Element hinzufügen\n",
    "2. Ein Element an der zweiten Stelle hinzufügen\n",
    "3. Ein Element entfernen\n",
    "4. Erstellen Sie eine zweite Liste und konkatenieren Sie diese\n",
    "5. Zerschneiden Sie die neue Liste an zwei beliebigen Stellen\n",
    "6. Erstellen Sie ein beliebiges Dictionary\n",
    "7. Fügen Sie dem Dict ein weiters Element hinzu\n",
    "8. Entfernen Sie aus dem Dict das neue Element.\n",
    "9. Geben Sie mittels einer For-Schleife, alle Keys und Values aus dem Dict aus.\n"
   ]
  },
  {
   "cell_type": "markdown",
   "id": "82102477",
   "metadata": {},
   "source": [
    "### Aufgabe 2: Funktionales Programmieren mittels Filter, Map und Reduce \n",
    "\n",
    "Schreiben Sie eine Python Programm, auf Basis der Funktionalen Programmierung. \n",
    "\n",
    "1) Erstellen Sie zunächst eine Liste mit Zufallszahlen zwischen 10 und 10.000. Die Länge sollte positiv sein, aber nicht über 10 liegen. Nun soll nach Ausführung nur noch die geraden Zahlen in einer Liste vorhanden sein.\n",
    "\n",
    "2) Schreiben Sie nun eine Funktion welche überprüft ob eine übergebene Nummer gerade ist. Die Funktion sollte nur aus einer Zeile bestehen (Tipp: Modulo Operator)\n",
    "\n",
    "3) Rufen Sie ihre Funktion nach dem Prinzip der Funktionalen Programmierung auf, extrahieren Sie alle geraden Zahlen und speichern Sie diese in einer Liste."
   ]
  },
  {
   "cell_type": "markdown",
   "id": "57fc37a2",
   "metadata": {},
   "source": [
    "### Aufgabe 3: Shallow Copy und Deep Copy in Python3\n",
    "\n",
    "Schreiben Sie ein Programm Ihrer Wahl, es sollte Shallow Copy und Deep Copy realisieren. Erklären Sie anschließend einem der 3 Tutoren Ihr Programm und was der Unterschied zwischen Shallow- und Deep Copy ist."
   ]
  },
  {
   "cell_type": "markdown",
   "id": "28832282",
   "metadata": {},
   "source": [
    "### Aufgabe 4: Fortgeschritten \n",
    "\n",
    "Implementieren Sie Mergesort in Python3."
   ]
  }
 ],
 "metadata": {
  "kernelspec": {
   "display_name": "Python 3 (ipykernel)",
   "language": "python",
   "name": "python3"
  },
  "language_info": {
   "codemirror_mode": {
    "name": "ipython",
    "version": 3
   },
   "file_extension": ".py",
   "mimetype": "text/x-python",
   "name": "python",
   "nbconvert_exporter": "python",
   "pygments_lexer": "ipython3",
   "version": "3.9.10"
  }
 },
 "nbformat": 4,
 "nbformat_minor": 5
}
