{
 "cells": [
  {
   "cell_type": "markdown",
   "id": "d1e68c7e-eac4-4034-891b-4e142389209e",
   "metadata": {},
   "source": [
    "# 2. Tutorium DSCB 230\n",
    "# Musterlösung\n"
   ]
  },
  {
   "cell_type": "markdown",
   "id": "bff06bfc-c164-4cbf-ac97-caf5ea4f4ff6",
   "metadata": {},
   "source": [
    "## 1. Bäckerei\n",
    "(*Idee aus: Stephenson, B.: The Python Workbook. A Brief Introduction with Exercises and Solutions. Texts in Computer Science. 2nd ed. 2019. Springer International Publishing; Imprint: Springer, Cham 2019, S.22*)"
   ]
  },
  {
   "cell_type": "markdown",
   "id": "f576ca8a-6679-494d-b8f8-9783391b44db",
   "metadata": {},
   "source": [
    "Eine Bäckerei speichert alle ihre Waren über ein Dictionary ab. Zu jedem Produkt wird die **Menge** und der **Stückpreis** (in €) angegeben. Es wird zudem gespeichert, ob die Ware **vom Vortag** ist, oder nicht."
   ]
  },
  {
   "cell_type": "code",
   "execution_count": 52,
   "id": "aabb3c1e-93b7-4eaa-8ffd-8d3218b5a5f5",
   "metadata": {},
   "outputs": [],
   "source": [
    "waren = [ {\"name\": \"brezel\", \"menge\" : 17, \"preis\" : 0.85, \"vom_vortag\" : False},\n",
    "          {\"name\": \"laugenstange\", \"menge\" : 4, \"preis\" : 0.90, \"vom_vortag\" : True},\n",
    "          {\"name\": \"mohnbrötchen\", \"menge\" : 9, \"preis\" : 0.78, \"vom_vortag\" : True},\n",
    "          {\"name\": \"vollkornbrot\", \"menge\" : 3, \"preis\" : 2.16, \"vom_vortag\" : False},\n",
    "          {\"name\": \"crossiant\", \"menge\" : 12, \"preis\" : 0.93, \"vom_vortag\" : False},\n",
    "          {\"name\": \"sesambrötchen\", \"menge\" : 13, \"preis\" : 0.76, \"vom_vortag\" : True}]"
   ]
  },
  {
   "cell_type": "markdown",
   "id": "b7e4b912-6ba1-49b8-acf5-799792e68152",
   "metadata": {},
   "source": [
    "**1.1**\n",
    "Bestimmen Sie das Produkt mit dem höchsten Preis. Geben Sie den Namen und den Preis an."
   ]
  },
  {
   "cell_type": "code",
   "execution_count": 55,
   "id": "fc100273-ef12-4596-8394-0ef1fed3a706",
   "metadata": {},
   "outputs": [
    {
     "name": "stdout",
     "output_type": "stream",
     "text": [
      "['vollkornbrot', 2.16]\n"
     ]
    }
   ],
   "source": [
    "max_preis = [0, 0]\n",
    "\n",
    "for product in waren:\n",
    "    if product[\"preis\"] > max_preis[1]:\n",
    "        max_preis = [product[\"name\"], product[\"preis\"]]\n",
    "\n",
    "print(max_preis)"
   ]
  },
  {
   "cell_type": "markdown",
   "id": "752c9f6f-9e53-4b81-b325-73428b43c3d5",
   "metadata": {},
   "source": [
    "**1.2** Auf Produkte vom Vortag gibt es 15% Rabatt. Ändern Sie den Preis aller Produkte vom Vortag auf den neuen Angebotspreis (in \"waren\")"
   ]
  },
  {
   "cell_type": "code",
   "execution_count": 88,
   "id": "9de864e7-e261-40e1-b821-c75c2a5c4558",
   "metadata": {},
   "outputs": [
    {
     "data": {
      "text/plain": [
       "[{'name': 'brezel', 'menge': 17, 'preis': 0.85, 'vom_vortag': False},\n",
       " {'name': 'laugenstange', 'menge': 4, 'preis': 0.65, 'vom_vortag': True},\n",
       " {'name': 'mohnbrötchen', 'menge': 9, 'preis': 0.56, 'vom_vortag': True},\n",
       " {'name': 'vollkornbrot', 'menge': 3, 'preis': 2.16, 'vom_vortag': False},\n",
       " {'name': 'crossiant', 'menge': 12, 'preis': 0.93, 'vom_vortag': False},\n",
       " {'name': 'sesambrötchen', 'menge': 13, 'preis': 0.55, 'vom_vortag': True}]"
      ]
     },
     "execution_count": 88,
     "metadata": {},
     "output_type": "execute_result"
    }
   ],
   "source": [
    "for product in waren:\n",
    "    if product[\"vom_vortag\"]:\n",
    "        product[\"preis\"] = round(product[\"preis\"] - (product[\"preis\"] * 0.15), 2) # Runden macht hier Sinn, da es sich um Euro-Beträge handelt\n",
    "        \n",
    "waren"
   ]
  },
  {
   "cell_type": "markdown",
   "id": "c090e5df-d999-4ac8-8d7d-c6b1383fae22",
   "metadata": {},
   "source": [
    "**1.3** Nutzen Sie die filter() Funktion, um alle Produkte vom Vortag in einer Liste zu speichern (Name und Preis). "
   ]
  },
  {
   "cell_type": "code",
   "execution_count": 86,
   "id": "726a3bb2-346a-48a4-a7dd-2d64b150d2b0",
   "metadata": {},
   "outputs": [
    {
     "data": {
      "text/plain": [
       "[('laugenstange', 0.77), ('mohnbrötchen', 0.66), ('sesambrötchen', 0.65)]"
      ]
     },
     "execution_count": 86,
     "metadata": {},
     "output_type": "execute_result"
    }
   ],
   "source": [
    "# Mit \"lambda-Funktion\"\n",
    "vom_vortag = list(filter(lambda x: x[\"vom_vortag\"], waren)) # Diese Liste beinhaltet Produkte mit \"allen Attributen\", gefiltert nach dem Vortag\n",
    "\n",
    "angebot = [(x[\"name\"], x[\"preis\"]) for x in vom_vortag] # Durch eine list-comprehension (alternativ über for-Schleife \"manuell\") erhält man den gewünschten output von (Name, Preis) \n",
    "\n",
    "angebot"
   ]
  },
  {
   "cell_type": "code",
   "execution_count": 85,
   "id": "4dccd4e2-5412-4349-8e95-6f8c46187c85",
   "metadata": {},
   "outputs": [
    {
     "data": {
      "text/plain": [
       "[('laugenstange', 0.77), ('mohnbrötchen', 0.66), ('sesambrötchen', 0.65)]"
      ]
     },
     "execution_count": 85,
     "metadata": {},
     "output_type": "execute_result"
    }
   ],
   "source": [
    "# Mit ausgelagerter Funktion\n",
    "def vom_vortag(product):\n",
    "    if product[\"vom_vortag\"]:\n",
    "        return product\n",
    "    \n",
    "vom_vortag = list(filter(vom_vortag, waren))\n",
    "\n",
    "angebot = [(x[\"name\"], x[\"preis\"]) for x in vom_vortag]\n",
    "\n",
    "angebot"
   ]
  },
  {
   "cell_type": "code",
   "execution_count": 87,
   "id": "c97b3753-8dd7-44f3-9cca-f3b63049391e",
   "metadata": {},
   "outputs": [
    {
     "data": {
      "text/plain": [
       "[('laugenstange', 0.77), ('mohnbrötchen', 0.66), ('sesambrötchen', 0.65)]"
      ]
     },
     "execution_count": 87,
     "metadata": {},
     "output_type": "execute_result"
    }
   ],
   "source": [
    "# HINWEIS:\n",
    "# In diesem Fall wäre eine list-comprehension geschickter:\n",
    "\n",
    "angebot = [(x[\"name\"], x[\"preis\"]) for x in waren if x[\"vom_vortag\"]]\n",
    "angebot"
   ]
  },
  {
   "cell_type": "markdown",
   "id": "bf254613-6415-4f12-b778-48bfe3623d76",
   "metadata": {},
   "source": [
    "**1.4** Angenommen die Bäckerei möchte Inventur durchführen. Dazu soll eine Kopie des kompletten Warenbestands gemacht werden. Änderungen im (aktuellen) Warenbestand oder der Inventur sollen keinen Einfluss aufeinander haben. (Überprüfen Sie danach ihre Listen, indem Sie einzelne Werte verändern und vergleichen)"
   ]
  },
  {
   "cell_type": "code",
   "execution_count": 90,
   "id": "0d90200d-eb86-43be-b8ba-6c5ec52a89b7",
   "metadata": {},
   "outputs": [
    {
     "data": {
      "text/plain": [
       "[{'name': 'brezel', 'menge': 17, 'preis': 0.85, 'vom_vortag': False},\n",
       " {'name': 'laugenstange', 'menge': 4, 'preis': 0.65, 'vom_vortag': True},\n",
       " {'name': 'mohnbrötchen', 'menge': 9, 'preis': 0.56, 'vom_vortag': True},\n",
       " {'name': 'vollkornbrot', 'menge': 3, 'preis': 2.16, 'vom_vortag': False},\n",
       " {'name': 'crossiant', 'menge': 12, 'preis': 0.93, 'vom_vortag': False},\n",
       " {'name': 'sesambrötchen', 'menge': 13, 'preis': 0.55, 'vom_vortag': True}]"
      ]
     },
     "execution_count": 90,
     "metadata": {},
     "output_type": "execute_result"
    }
   ],
   "source": [
    "from copy import deepcopy\n",
    "\n",
    "# z.B: mit deepcopy\n",
    "inventur = deepcopy(waren)\n",
    "\n",
    "inventur"
   ]
  },
  {
   "cell_type": "code",
   "execution_count": 93,
   "id": "4216c999-8f45-48f5-a9c3-0d967d4a4da6",
   "metadata": {},
   "outputs": [
    {
     "name": "stdout",
     "output_type": "stream",
     "text": [
      "17\n",
      "0.65\n"
     ]
    }
   ],
   "source": [
    "# Tests, ob das Kopieren funktioniert hat\n",
    "inventur[0][\"menge\"] = 10\n",
    "print(waren[0][\"menge\"])\n",
    "\n",
    "waren[1][\"preis\"] = 10\n",
    "print(inventur[1][\"preis\"])"
   ]
  },
  {
   "cell_type": "markdown",
   "id": "e4c4f9c2-12bd-4be6-a331-5fca2c6c60cc",
   "metadata": {},
   "source": [
    "## 2. Benotungssystem\n",
    "Ein Professor möchte beim Korrigieren seiner Klausuren Zeit sparen und hat sich folgendes Benotungssystem ausgedacht: \n",
    "* Beginnt der Vorname eines Student mit einem \"F\", so bekommt er eine 1\n",
    "* Andernfalls bekommt der Student eine zufällige Note zwischen 2 und 5 zugeordnet\n",
    "\n",
    "Nutzen Sie die **map()** Funktion, um das System zu implementieren.\n",
    "In einer Liste soll für jeden Student ein Tuple mit Name und Note gespeichert werden.\n",
    "\n",
    "Testen Sie ihren Code mit dem Tuple \"studenten\"."
   ]
  },
  {
   "cell_type": "markdown",
   "id": "b2a1fa28-a035-4769-913b-94f69cb4bedf",
   "metadata": {},
   "source": [
    "*Zu map(): https://www.w3schools.com/python/ref_func_map.asp*"
   ]
  },
  {
   "cell_type": "code",
   "execution_count": 5,
   "id": "24ff8961-d2f8-4f94-acbb-3120f050207a",
   "metadata": {},
   "outputs": [],
   "source": [
    "studenten = (\"Peter\", \"Julia\", \"Bob\", \"Fabian\", \"Tim\", \"Fiola\")"
   ]
  },
  {
   "cell_type": "code",
   "execution_count": 63,
   "id": "5a04eeaf-560d-457b-88ea-c59ae98adf3f",
   "metadata": {},
   "outputs": [
    {
     "data": {
      "text/plain": [
       "[('Peter', 2),\n",
       " ('Julia', 4),\n",
       " ('Bob', 5),\n",
       " ('Fabian', 1),\n",
       " ('Tim', 4),\n",
       " ('Fiola', 1)]"
      ]
     },
     "execution_count": 63,
     "metadata": {},
     "output_type": "execute_result"
    }
   ],
   "source": [
    "from random import randrange\n",
    "\n",
    "def bekomme_note(name):\n",
    "    if name[0] == \"F\":\n",
    "        note = 1\n",
    "        return (name, note)\n",
    "    \n",
    "    else:\n",
    "        note = randrange(2, 6)\n",
    "        return (name, note)\n",
    "\n",
    "noten = list(map(bekomme_note, studenten))\n",
    "noten"
   ]
  },
  {
   "cell_type": "markdown",
   "id": "273c7de2-74d1-4a2b-a571-575affa4324d",
   "metadata": {},
   "source": [
    "## 3. CSV Datei"
   ]
  },
  {
   "cell_type": "markdown",
   "id": "1e316c1e-b76b-4709-9a2d-4e3fc9d8a6be",
   "metadata": {},
   "source": [
    "**3.1** Schreiben Sie eine Funktion, die die Anzahl von Zeilen einer CSV Datei zurückgibt\n"
   ]
  },
  {
   "cell_type": "markdown",
   "id": "17b45713-1a2a-45ab-ad47-478d094520cf",
   "metadata": {},
   "source": [
    "Zum Testen können Sie die CSV Dateien im GitHub Repo verwenden"
   ]
  },
  {
   "cell_type": "code",
   "execution_count": 94,
   "id": "55c20d3f-00ad-48be-a65b-b9c8ca66b0bb",
   "metadata": {},
   "outputs": [],
   "source": [
    "import csv\n",
    "\n",
    "def line_number_of_csv(csv):\n",
    "\n",
    "    #Öffnen einer CSV Datei\n",
    "    with open(csv, \"r\") as csv_file:\n",
    "\n",
    "        #Einlesen der Datei\n",
    "        csv_reader = csv.reader(csv_file)\n",
    "\n",
    "        #Zählen der Zeilen\n",
    "        line_count = 0\n",
    "        for row in csv_reader:\n",
    "            line_count += 1\n",
    "\n",
    "        return line_count"
   ]
  },
  {
   "cell_type": "code",
   "execution_count": null,
   "id": "4910fa85-50c1-41fb-84ff-344b24205b6f",
   "metadata": {},
   "outputs": [],
   "source": [
    "# Tests\n",
    "line_number_of_csv(\"adressen.csv\")"
   ]
  }
 ],
 "metadata": {
  "kernelspec": {
   "display_name": "Python 3 (ipykernel)",
   "language": "python",
   "name": "python3"
  },
  "language_info": {
   "codemirror_mode": {
    "name": "ipython",
    "version": 3
   },
   "file_extension": ".py",
   "mimetype": "text/x-python",
   "name": "python",
   "nbconvert_exporter": "python",
   "pygments_lexer": "ipython3",
   "version": "3.9.7"
  }
 },
 "nbformat": 4,
 "nbformat_minor": 5
}
