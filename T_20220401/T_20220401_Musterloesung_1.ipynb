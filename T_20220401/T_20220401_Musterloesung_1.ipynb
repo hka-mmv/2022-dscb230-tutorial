{
 "cells": [
  {
   "cell_type": "markdown",
   "id": "c8bf5b07",
   "metadata": {},
   "source": [
    "# Tutorium DSCB 230"
   ]
  },
  {
   "cell_type": "markdown",
   "id": "d058160b",
   "metadata": {},
   "source": [
    "Raphaele Salvatore Licciardo\n"
   ]
  },
  {
   "cell_type": "markdown",
   "id": "06ea89ff",
   "metadata": {},
   "source": [
    "## T_20220401"
   ]
  },
  {
   "cell_type": "markdown",
   "id": "726b28d0",
   "metadata": {},
   "source": [
    "### Aufgabe 1: Wiederholung - List und Dict in Python3\n",
    "1. Eine Liste erstellen und ein Element hinzufügen\n",
    "2. Ein Element an der zweiten Stelle hinzufügen\n",
    "3. Ein Element entfernen\n",
    "4. Erstellen Sie eine zweite Liste und konkatenieren Sie diese\n",
    "5. Zerschneiden Sie die neue Liste an zwei beliebigen Stellen\n",
    "6. Erstellen Sie ein beliebiges Dictionary\n",
    "7. Fügen Sie dem Dict ein weiters Element hinzu\n",
    "8. Entfernen Sie aus dem Dict das neue Element.\n",
    "9. Geben Sie mittels einer For-Schleife, alle Keys und Values aus dem Dict aus.\n"
   ]
  },
  {
   "cell_type": "code",
   "execution_count": 81,
   "id": "ad83f07a",
   "metadata": {},
   "outputs": [
    {
     "name": "stdout",
     "output_type": "stream",
     "text": [
      "1 foo\n",
      "2 bar\n"
     ]
    }
   ],
   "source": [
    "# 2.1\n",
    "my_list = [1, 2, 3, 4]\n",
    "my_list.append(5)\n",
    "# 2.2\n",
    "my_list.insert(1, 0)\n",
    "# 2.3\n",
    "my_list.pop(1)\n",
    "# 2.4\n",
    "foo = [5, 6, 7, 8]\n",
    "my_list += foo\n",
    "# 2.5\n",
    "my_list[2:4]\n",
    "# 2.6\n",
    "my_dict = {1: \"foo\", 2: \"bar\"}\n",
    "# 2.7\n",
    "my_dict[3] = \"foobar\"\n",
    "# 2.8\n",
    "del my_dict[3]\n",
    "# 2.9\n",
    "for key, values in my_dict.items():\n",
    "    print(key, values)"
   ]
  },
  {
   "cell_type": "markdown",
   "id": "82102477",
   "metadata": {},
   "source": [
    "### Aufgabe 2: Funktionales Programmieren mittels Filter, Map und Reduce \n",
    "\n",
    "Schreiben Sie eine Python Programm, auf Basis der Funktionalen Programmierung. \n",
    "\n",
    "1) Erstellen Sie zunächst eine Liste mit Zufallszahlen zwischen 10 und 10.000. Die Länge sollte positiv sein, aber nicht über 10 liegen. Nun soll nach Ausführung nur noch die geraden Zahlen in einer Liste vorhanden sein.\n",
    "\n",
    "2) Schreiben Sie nun eine Funktion welche überprüft ob eine übergebene Nummer gerade ist. Die Funktion sollte nur aus einer Zeile bestehen (Tipp: Modulo Operator)\n",
    "\n",
    "3) Rufen Sie ihre Funktion nach dem Prinzip der Funktionalen Programmierung auf, extrahieren Sie alle geraden Zahlen und speichern Sie diese in einer Liste."
   ]
  },
  {
   "cell_type": "code",
   "execution_count": 73,
   "id": "a00a7cb8",
   "metadata": {
    "scrolled": true
   },
   "outputs": [
    {
     "name": "stdout",
     "output_type": "stream",
     "text": [
      "[5321, 6308, 3765] [6308]\n"
     ]
    }
   ],
   "source": [
    "import random\n",
    "min_range, max_range = 10, 10000\n",
    "numbers = random.sample(range(min_range, max_range), random.randint(0, 10))\n",
    "\n",
    "def check_even(number): \n",
    "    return True if number % 2 == 0 else False\n",
    "\n",
    "even_numbers_iter = filter(check_even, numbers) \n",
    "even_numbers = list(even_numbers_iter)\n",
    "\n",
    "print(numbers, even_numbers)"
   ]
  },
  {
   "cell_type": "markdown",
   "id": "57fc37a2",
   "metadata": {},
   "source": [
    "### Aufgabe 3: Shallow Copy und Deep Copy in Python3\n",
    "\n",
    "Schreiben Sie ein Programm Ihrer Wahl, es sollte Shallow Copy und Deep Copy realisieren. Erklären Sie anschließend einem der 3 Tutoren Ihr Programm und was der Unterschied zwischen Shallow- und Deep Copy ist."
   ]
  },
  {
   "cell_type": "code",
   "execution_count": 77,
   "id": "0fc8527d",
   "metadata": {},
   "outputs": [
    {
     "name": "stdout",
     "output_type": "stream",
     "text": [
      "[0, 1, 2, 3, 4, 5, 6, 7, 8, 9]\n"
     ]
    }
   ],
   "source": [
    "# Shallow Copy\n",
    "a = [0, 1, 2, 3, 4, 5, 6, 7, 8, 9]\n",
    "b = a\n",
    "print(b)"
   ]
  },
  {
   "cell_type": "code",
   "execution_count": 79,
   "id": "d497607e",
   "metadata": {},
   "outputs": [
    {
     "name": "stdout",
     "output_type": "stream",
     "text": [
      "[0, 1, 2, 3, 4, 5, 6, 7, 8, 9]\n"
     ]
    }
   ],
   "source": [
    "# Deep Copy\n",
    "import copy \n",
    "a = [0, 1, 2, 3, 4, 5, 6, 7, 8, 9]\n",
    "b = copy.deepcopy(a)\n",
    "print(b)"
   ]
  },
  {
   "cell_type": "markdown",
   "id": "62d6f0c9",
   "metadata": {},
   "source": [
    "- Shallow Copy: Tritt ein sobald der Zuweisungsoperator (=) verwendet wird, in dem obigen Beispiel enthält b lediglich eine Referenz auf die Daten welche von a in den Speicher gelegt worden sind. Die Daten existieren also lediglich ein mal, obwohl diese im Code zwei mal gespeichert worden sind.\n",
    "- Deep Copy: Klont die Daten, die Daten sind somit zwei mal im Speicher enthalten. A hat seine eigene Daten und B hat seine eigene Daten."
   ]
  },
  {
   "cell_type": "markdown",
   "id": "66fa5090",
   "metadata": {},
   "source": [
    "### Aufgabe 4: Fortgeschritten \n",
    "\n",
    "Implementieren Sie Mergesort in Python3."
   ]
  },
  {
   "cell_type": "code",
   "execution_count": 2,
   "id": "a322dc34",
   "metadata": {},
   "outputs": [
    {
     "name": "stdout",
     "output_type": "stream",
     "text": [
      "[5, 6, 7, 11, 12, 13]\n"
     ]
    }
   ],
   "source": [
    "def mergesort(arr):\n",
    "    if len(arr) < 2:\n",
    "        return sorted(arr)\n",
    "    result, i, j = [], 0, 0\n",
    "    middle = int(len(arr) / 2)\n",
    "    left = mergesort(arr[:middle])\n",
    "    right = mergesort(arr[middle:])\n",
    "    while i < len(left) and j < len(right):\n",
    "        if left[i] > right[j]:\n",
    "            result.append(right[j])\n",
    "            j += 1\n",
    "        else:\n",
    "            result.append(left[i])\n",
    "            i += 1\n",
    "    result += left[i:]\n",
    "    result += right[j:]\n",
    "    return result\n",
    "\n",
    "print(mergesort([12, 11, 13, 5, 6, 7]))"
   ]
  },
  {
   "cell_type": "code",
   "execution_count": null,
   "id": "bf9f62ab",
   "metadata": {},
   "outputs": [],
   "source": []
  }
 ],
 "metadata": {
  "kernelspec": {
   "display_name": "Python 3 (ipykernel)",
   "language": "python",
   "name": "python3"
  },
  "language_info": {
   "codemirror_mode": {
    "name": "ipython",
    "version": 3
   },
   "file_extension": ".py",
   "mimetype": "text/x-python",
   "name": "python",
   "nbconvert_exporter": "python",
   "pygments_lexer": "ipython3",
   "version": "3.9.10"
  }
 },
 "nbformat": 4,
 "nbformat_minor": 5
}
