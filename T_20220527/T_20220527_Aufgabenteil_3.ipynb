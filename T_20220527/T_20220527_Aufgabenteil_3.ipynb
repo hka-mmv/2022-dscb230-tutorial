{
 "cells": [
  {
   "cell_type": "markdown",
   "metadata": {},
   "source": [
    "# Tutorium DSCB 230\n",
    "Tim Ehmann\n",
    "\n",
    "### Aufgabenteil 3\n",
    "\n",
    "Ihre Aufgabe ist es, mithilfe von zwei Dateien `order_payments_dataset.csv` und `orders_dataset.csv` aus dem Ordner `archive` eines online Shops den Umsatz sowie die Anzahl an Bestellungen in einer bestimmten Stunde in einem Diagramm darzustellen. z.B. wie viele Bestellungen gibt es zwischen 0 und 1 Uhr und welcher Umsatz wird dabei erzielt?\n",
    "\n",
    "Das Datum und die Uhrzeit der Bestellung finden Sie in der `orders_dataset.csv` Datei, die Kosten in der `order_payments_dataset.csv`. Folglich müssen Sie diese erstmal zu einem Dataset mithilfe einer gemeinsamen Spalte mergen.\n",
    "\n",
    "Aufgrund der großen Unterschiede in der Größenordnung soll das Diagramm zwei y-Achsen haben, sodass die Anzahl an Bestellungen und der Umsatz gut dargestellt werden kann.\n",
    "\n",
    "Quelle der Daten: https://www.kaggle.com/datasets/olistbr/brazilian-ecommerce\n"
   ]
  },
  {
   "cell_type": "code",
   "execution_count": null,
   "metadata": {},
   "outputs": [],
   "source": []
  }
 ],
 "metadata": {
  "interpreter": {
   "hash": "b0fa6594d8f4cbf19f97940f81e996739fb7646882a419484c72d19e05852a7e"
  },
  "kernelspec": {
   "display_name": "Python 3.9.7 64-bit",
   "language": "python",
   "name": "python3"
  },
  "language_info": {
   "codemirror_mode": {
    "name": "ipython",
    "version": 3
   },
   "file_extension": ".py",
   "mimetype": "text/x-python",
   "name": "python",
   "nbconvert_exporter": "python",
   "pygments_lexer": "ipython3",
   "version": "3.9.7"
  },
  "orig_nbformat": 4
 },
 "nbformat": 4,
 "nbformat_minor": 2
}
