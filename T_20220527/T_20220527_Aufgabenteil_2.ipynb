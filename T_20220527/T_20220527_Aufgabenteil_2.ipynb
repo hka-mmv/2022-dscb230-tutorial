{
 "cells": [
  {
   "cell_type": "markdown",
   "id": "05a8e9a1-be2c-4bbc-be91-863839974bf2",
   "metadata": {},
   "source": [
    "# Tutorium DSCB 230\n",
    "fj\n",
    "\n",
    "### Aufgabenteil 2\n",
    "**2.1** Ein Unternehmen hat alle ihre Mitarbeiter mit einer MitarbeiterID, Geschlecht, Namen, Abteilung und Gehalt in einer CSV Datei (employees.csv) gespeichert. \n",
    "Die Geschäftsführung möchte nun sehen, wie viel ein Mitarbeiter*in durchschnittlich pro Abteilung verdient. Stellen Sie die Ergebnisse grafisch als Säulendiagramm dar, die Abteilung mit dem höchsten Durchschnittseinkommen soll dabei ganz links, die mit dem geringsten ganz rechts stehen. "
   ]
  },
  {
   "cell_type": "markdown",
   "id": "994ff9bb-843a-48f5-a0ac-be653610f3ef",
   "metadata": {},
   "source": [
    "**2.2** Sie sollen nun auf Wunsch des Gleichstellungsbeauftragten die Gehaltsdifferenz (Differenz zwischen Durchschnittsgehalt Männer und Durchschnittsgehalt Frauen) pro Abteilung herausfinden. Stellen Sie diese grafisch als Säulendiagramm dar, wobei die Abteilung mit der höchsten Differenz ganz links stehen soll, die mit der geringsten ganz recht."
   ]
  }
 ],
 "metadata": {
  "kernelspec": {
   "display_name": "Python 3 (ipykernel)",
   "language": "python",
   "name": "python3"
  },
  "language_info": {
   "codemirror_mode": {
    "name": "ipython",
    "version": 3
   },
   "file_extension": ".py",
   "mimetype": "text/x-python",
   "name": "python",
   "nbconvert_exporter": "python",
   "pygments_lexer": "ipython3",
   "version": "3.9.7"
  }
 },
 "nbformat": 4,
 "nbformat_minor": 5
}
