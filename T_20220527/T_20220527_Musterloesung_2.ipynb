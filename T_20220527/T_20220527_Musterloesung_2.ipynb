{
 "cells": [
  {
   "cell_type": "markdown",
   "id": "05a8e9a1-be2c-4bbc-be91-863839974bf2",
   "metadata": {},
   "source": [
    "# Tutorium DSCB 230\n",
    "fj\n",
    "\n",
    "### Aufgabenteil 2\n",
    "**2.1** Ein Unternehmen hat alle ihre Mitarbeiter mit einer MitarbeiterID, Geschlecht, Namen, Abteilung und Gehalt in einer CSV Datei (employees.csv) gespeichert. \n",
    "Die Geschäftsführung möchte nun sehen, wie viel ein Mitarbeiter*in durchschnittlich pro Abteilung verdient. Stellen Sie die Ergebnisse grafisch als Säulendiagramm dar, die Abteilung mit dem höchsten Durchschnittseinkommen soll dabei ganz links, die mit dem geringsten ganz rechts stehen. "
   ]
  },
  {
   "cell_type": "code",
   "execution_count": 1,
   "id": "f4ade9ad-5c5e-4d62-a266-688a71de78ec",
   "metadata": {},
   "outputs": [],
   "source": [
    "import pandas as pd"
   ]
  },
  {
   "cell_type": "code",
   "execution_count": 2,
   "id": "8c34f734-c6aa-48dc-a3a0-0872eac2b846",
   "metadata": {},
   "outputs": [
    {
     "data": {
      "text/html": [
       "<div>\n",
       "<style scoped>\n",
       "    .dataframe tbody tr th:only-of-type {\n",
       "        vertical-align: middle;\n",
       "    }\n",
       "\n",
       "    .dataframe tbody tr th {\n",
       "        vertical-align: top;\n",
       "    }\n",
       "\n",
       "    .dataframe thead th {\n",
       "        text-align: right;\n",
       "    }\n",
       "</style>\n",
       "<table border=\"1\" class=\"dataframe\">\n",
       "  <thead>\n",
       "    <tr style=\"text-align: right;\">\n",
       "      <th></th>\n",
       "      <th>id</th>\n",
       "      <th>gender</th>\n",
       "      <th>name</th>\n",
       "      <th>department</th>\n",
       "      <th>income</th>\n",
       "    </tr>\n",
       "  </thead>\n",
       "  <tbody>\n",
       "    <tr>\n",
       "      <th>0</th>\n",
       "      <td>709223</td>\n",
       "      <td>Female</td>\n",
       "      <td>Clarissa Farebrother</td>\n",
       "      <td>Support</td>\n",
       "      <td>2650.9</td>\n",
       "    </tr>\n",
       "    <tr>\n",
       "      <th>1</th>\n",
       "      <td>161823</td>\n",
       "      <td>Female</td>\n",
       "      <td>Livia Coniff</td>\n",
       "      <td>Support</td>\n",
       "      <td>2336.6</td>\n",
       "    </tr>\n",
       "    <tr>\n",
       "      <th>2</th>\n",
       "      <td>217015</td>\n",
       "      <td>Female</td>\n",
       "      <td>Aileen Glandfield</td>\n",
       "      <td>Human Resources</td>\n",
       "      <td>1518.3</td>\n",
       "    </tr>\n",
       "    <tr>\n",
       "      <th>3</th>\n",
       "      <td>968489</td>\n",
       "      <td>Male</td>\n",
       "      <td>Cosmo Doddrell</td>\n",
       "      <td>Business Development</td>\n",
       "      <td>7861.0</td>\n",
       "    </tr>\n",
       "    <tr>\n",
       "      <th>4</th>\n",
       "      <td>850038</td>\n",
       "      <td>Male</td>\n",
       "      <td>Neill Bloys</td>\n",
       "      <td>Accounting</td>\n",
       "      <td>5033.0</td>\n",
       "    </tr>\n",
       "    <tr>\n",
       "      <th>...</th>\n",
       "      <td>...</td>\n",
       "      <td>...</td>\n",
       "      <td>...</td>\n",
       "      <td>...</td>\n",
       "      <td>...</td>\n",
       "    </tr>\n",
       "    <tr>\n",
       "      <th>995</th>\n",
       "      <td>405201</td>\n",
       "      <td>Female</td>\n",
       "      <td>Kara Allworthy</td>\n",
       "      <td>Training</td>\n",
       "      <td>2345.0</td>\n",
       "    </tr>\n",
       "    <tr>\n",
       "      <th>996</th>\n",
       "      <td>205418</td>\n",
       "      <td>Male</td>\n",
       "      <td>Cesaro Oloshin</td>\n",
       "      <td>Engineering</td>\n",
       "      <td>2206.4</td>\n",
       "    </tr>\n",
       "    <tr>\n",
       "      <th>997</th>\n",
       "      <td>142678</td>\n",
       "      <td>Female</td>\n",
       "      <td>Dorothea Pooley</td>\n",
       "      <td>Engineering</td>\n",
       "      <td>2988.3</td>\n",
       "    </tr>\n",
       "    <tr>\n",
       "      <th>998</th>\n",
       "      <td>192229</td>\n",
       "      <td>Female</td>\n",
       "      <td>Lexy Flips</td>\n",
       "      <td>Marketing</td>\n",
       "      <td>4818.8</td>\n",
       "    </tr>\n",
       "    <tr>\n",
       "      <th>999</th>\n",
       "      <td>363509</td>\n",
       "      <td>Female</td>\n",
       "      <td>Carlie Kingh</td>\n",
       "      <td>Product Management</td>\n",
       "      <td>2588.6</td>\n",
       "    </tr>\n",
       "  </tbody>\n",
       "</table>\n",
       "<p>1000 rows × 5 columns</p>\n",
       "</div>"
      ],
      "text/plain": [
       "         id  gender                  name            department  income\n",
       "0    709223  Female  Clarissa Farebrother               Support  2650.9\n",
       "1    161823  Female          Livia Coniff               Support  2336.6\n",
       "2    217015  Female     Aileen Glandfield       Human Resources  1518.3\n",
       "3    968489    Male        Cosmo Doddrell  Business Development  7861.0\n",
       "4    850038    Male           Neill Bloys            Accounting  5033.0\n",
       "..      ...     ...                   ...                   ...     ...\n",
       "995  405201  Female        Kara Allworthy              Training  2345.0\n",
       "996  205418    Male        Cesaro Oloshin           Engineering  2206.4\n",
       "997  142678  Female       Dorothea Pooley           Engineering  2988.3\n",
       "998  192229  Female            Lexy Flips             Marketing  4818.8\n",
       "999  363509  Female          Carlie Kingh    Product Management  2588.6\n",
       "\n",
       "[1000 rows x 5 columns]"
      ]
     },
     "execution_count": 2,
     "metadata": {},
     "output_type": "execute_result"
    }
   ],
   "source": [
    "df = pd.read_csv(\"employees.csv\")\n",
    "df"
   ]
  },
  {
   "cell_type": "code",
   "execution_count": 3,
   "id": "253fe891-d538-4a1a-9fc0-51e2ddee09fa",
   "metadata": {},
   "outputs": [],
   "source": [
    "df_dept = df.groupby(\"department\")[\"income\"].mean().to_frame()\n",
    "df_dept = df_dept.sort_values(by=[\"income\"], ascending=False)\n"
   ]
  },
  {
   "cell_type": "code",
   "execution_count": 4,
   "id": "5fc56390-7cd6-4f3c-81cb-0b45bc001f9f",
   "metadata": {},
   "outputs": [
    {
     "data": {
      "image/png": "[encoded data removed]",
      "text/plain": [
       "<Figure size 432x288 with 1 Axes>"
      ]
     },
     "metadata": {
      "needs_background": "light"
     },
     "output_type": "display_data"
    }
   ],
   "source": [
    "import matplotlib.pyplot as plt\n",
    "plt.bar(df_dept.index, df_dept[\"income\"])\n",
    "plt.xticks(fontsize = 10, rotation=90)\n",
    "plt.show()"
   ]
  },
  {
   "cell_type": "markdown",
   "id": "994ff9bb-843a-48f5-a0ac-be653610f3ef",
   "metadata": {},
   "source": [
    "**2.2** Sie sollen nun auf Wunsch des Gleichstellungsbeauftragten die Gehaltsdifferenz (Differenz zwischen Durchschnittsgehalt Männer und Durchschnittsgehalt Frauen) pro Abteilung herausfinden. Stellen Sie diese grafisch als Säulendiagramm dar, wobei die Abteilung mit der höchsten Differenz ganz links stehen soll, die mit der geringsten ganz recht."
   ]
  },
  {
   "cell_type": "code",
   "execution_count": 5,
   "id": "e45d085a-58f1-40a3-9dc6-776e00b6c400",
   "metadata": {},
   "outputs": [],
   "source": [
    "df_gender = df.groupby([\"department\", \"gender\" ])[\"income\"].mean().to_frame().reset_index()"
   ]
  },
  {
   "cell_type": "code",
   "execution_count": 24,
   "id": "1c4494e1-32f6-4f0c-bcc8-7a35e470deb8",
   "metadata": {},
   "outputs": [],
   "source": [
    "df_gender[\"difference\"] = df_gender[\"income\"].rolling(window=2).apply(lambda x: x.iloc[1] - x.iloc[0])"
   ]
  },
  {
   "cell_type": "code",
   "execution_count": 21,
   "id": "c2d77622-7c29-4695-b95b-47e0ce9ae241",
   "metadata": {},
   "outputs": [
    {
     "name": "stderr",
     "output_type": "stream",
     "text": [
      "/opt/anaconda3/lib/python3.9/site-packages/pandas/core/frame.py:4906: SettingWithCopyWarning: \n",
      "A value is trying to be set on a copy of a slice from a DataFrame\n",
      "\n",
      "See the caveats in the documentation: https://pandas.pydata.org/pandas-docs/stable/user_guide/indexing.html#returning-a-view-versus-a-copy\n",
      "  return super().drop(\n"
     ]
    }
   ],
   "source": [
    "df_diff = df_gender.loc[df_gender[\"gender\"] == \"Male\"]\n",
    "df_diff.drop([\"gender\", \"income\"], axis=1, inplace=True)\n",
    "df_diff = df_diff.sort_values(by=[\"difference\"], ascending=False)"
   ]
  },
  {
   "cell_type": "code",
   "execution_count": 22,
   "id": "52c89b64-5ae0-4b5e-85f6-05b972df6d50",
   "metadata": {},
   "outputs": [
    {
     "data": {
      "image/png": "[encoded data removed]",
      "text/plain": [
       "<Figure size 432x288 with 1 Axes>"
      ]
     },
     "metadata": {
      "needs_background": "light"
     },
     "output_type": "display_data"
    }
   ],
   "source": [
    "import matplotlib.pyplot as plt\n",
    "plt.bar(df_diff[\"department\"], df_diff[\"difference\"])\n",
    "plt.xticks(fontsize = 10, rotation=90)\n",
    "plt.show()"
   ]
  }
 ],
 "metadata": {
  "kernelspec": {
   "display_name": "Python 3 (ipykernel)",
   "language": "python",
   "name": "python3"
  },
  "language_info": {
   "codemirror_mode": {
    "name": "ipython",
    "version": 3
   },
   "file_extension": ".py",
   "mimetype": "text/x-python",
   "name": "python",
   "nbconvert_exporter": "python",
   "pygments_lexer": "ipython3",
   "version": "3.9.7"
  }
 },
 "nbformat": 4,
 "nbformat_minor": 5
}
