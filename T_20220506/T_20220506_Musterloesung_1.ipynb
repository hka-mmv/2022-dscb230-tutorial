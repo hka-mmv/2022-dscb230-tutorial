{
 "cells": [
  {
   "cell_type": "markdown",
   "id": "c8bf5b07",
   "metadata": {
    "pycharm": {
     "name": "#%% md\n"
    }
   },
   "source": [
    "# Tutorium DSCB 230"
   ]
  },
  {
   "cell_type": "markdown",
   "id": "d058160b",
   "metadata": {
    "pycharm": {
     "name": "#%% md\n"
    }
   },
   "source": [
    "Raphaele Salvatore Licciardo\n"
   ]
  },
  {
   "cell_type": "markdown",
   "id": "17710d72",
   "metadata": {
    "pycharm": {
     "name": "#%% md\n"
    }
   },
   "source": [
    "### Aufgabe 1: Python 3.10\n",
    "\n",
    "In dieser Aufgabe behandeln wir die Neuerungen in Python 3.10. "
   ]
  },
  {
   "cell_type": "markdown",
   "id": "f4ed7d5f",
   "metadata": {
    "pycharm": {
     "name": "#%% md\n"
    }
   },
   "source": [
    "#### PEP 634: Structural Pattern Matching\n",
    "\n",
    "Um verschiedene Fälle zu unterscheiden sind euch bereits `if-else Statements` bekannt. In Hochsprachen wie Java, C/C++, uvm. gibt es neben dem `if-else Statements` noch eine weitere Variante, die `Match-Case` / `Switch-Case` Statements. Der Kompilier in Hochsprachen bzw. Interpreter von Python3 weiß bei `if-else Statements` die Reihenfolge der Auswertung nicht und kann somit keinerlei Optimierungen vornehmen. Bei kleinen `if-else Statements` kein Problem. Bei größeren `if-else Statements` kann es hierbei Ratsam sein, auf die bessere `Match-Case` / `Switch-Case` Alternative zu wechseln. Dort können alle Klauseln gleichzeitig ausgewertet werden und in eine effizientere Reihenfolge gebracht werden.\n",
    "\n",
    "Stellt einen HTTP Request an die Hochschul-Webseite (nutzt hierzu das Package `requests`). Anschließend solltet ihr den Statuscode dieser Abfrage ermitteln und mit einer `Match-Case` / `Switch-Case` Statement auf unterschiedliche Ergebnisse überprüfen. Ist das Ergebnis `100`, `200`, `300`, `401-403`, `504`, gibt eine passende Ausgabe aus. Überlegt euch, was mit den übrigen HTTP Statuscodes passiert."
   ]
  },
  {
   "cell_type": "code",
   "execution_count": 2,
   "id": "4f8eefc9",
   "metadata": {
    "pycharm": {
     "name": "#%%\n"
    }
   },
   "outputs": [
    {
     "data": {
      "text/plain": [
       "'OK'"
      ]
     },
     "execution_count": 2,
     "metadata": {},
     "output_type": "execute_result"
    }
   ],
   "source": [
    "import requests\n",
    "\n",
    "def http_error(status):\n",
    "    match status:\n",
    "        case 100:\n",
    "            return \"Continue\"\n",
    "        case 200:\n",
    "            return \"OK\"\n",
    "        case 300:\n",
    "            return \"Multiple Choice\"\n",
    "        case 401 | 403 | 404:\n",
    "            return \"Not allowed\"\n",
    "        case 504:\n",
    "            return \"Gateway Timeout\"\n",
    "        case _:\n",
    "            return \"Something's wrong with the internet\"\n",
    "\n",
    "http_error(requests.get(\"https://www.h-ka.de/\").status_code)"
   ]
  }
 ],
 "metadata": {
  "kernelspec": {
   "display_name": "py310",
   "language": "python",
   "name": "py310"
  },
  "language_info": {
   "codemirror_mode": {
    "name": "ipython",
    "version": 3
   },
   "file_extension": ".py",
   "mimetype": "text/x-python",
   "name": "python",
   "nbconvert_exporter": "python",
   "pygments_lexer": "ipython3",
   "version": "3.10.4"
  }
 },
 "nbformat": 4,
 "nbformat_minor": 5
}
