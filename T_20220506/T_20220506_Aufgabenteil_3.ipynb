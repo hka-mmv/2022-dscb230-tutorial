{
 "cells": [
  {
   "cell_type": "markdown",
   "metadata": {},
   "source": [
    "### Aufgabenteil 3\n",
    "\n",
    "Tim Ehmann"
   ]
  },
  {
   "cell_type": "markdown",
   "metadata": {},
   "source": [
    "#### Try-Except inklusive eigenen Fehlermeldungen\n",
    "\n",
    "In einer Trading App können verschiedene Anlageprodukte gehandelt werden. Dabei sollen die Nutzer dadurch geschützt werden, dass bestimmte Fehlermeldungen in dem Kauf-/Verkausprozess ausgegeben werden. Liegt der Preis, für den ein Nutzer ein Produkt verkaufen will, unter dem Preis, den ein anderer Nutzer bereits für dieses Produkt bietet, soll ein \"PriceTooSmallError\" ausgegeben werden und der gebotene Preis vorgeschlagen werden. Dabei soll das Programm nicht abstürzen, sondern der Nutzer soll dann die Möglichkeit haben, einen neuen Preis einzugeben. Das Gleiche Prinzip gilt bei dem Kauf. Will ein Nutzer ein Produkt für ein Preis kaufen, der über dem minimal verlangten Preis liegt, so soll ein \"PriceTooHighError\" zusammen mit dem vorgeschlagenem Preis ausgegeben werden und der Nutzer soll auch hier einen neuen Preis eingeben können."
   ]
  },
  {
   "cell_type": "code",
   "execution_count": null,
   "metadata": {},
   "outputs": [],
   "source": [
    "class PriceTooSmallError(Exception):\n",
    "    \"\"\"Falls ein Nutzer ein Anlageprodukt zu einem Preis verkaufen will, der unter dem Preis liegt, den ein\n",
    "    anderer Nutzer für diesen bietet, so wird dieser Fehler ausgegeben.\"\"\"\n",
    "    pass\n",
    "\n",
    "class PriceTooHighError(Exception):\n",
    "    \"\"\"Falls ein Nutzer ein Anlageprodukt zu einem Preis kaufen will, der über dem Preis liegt, den ein\n",
    "    anderer Nutzer für diesen verlangt, so wird dieser Fehler ausgegeben.\"\"\"\n",
    "    pass\n",
    "\n",
    "class Produkt():\n",
    "\n",
    "    def __init__(self, name, ask, bid):\n",
    "        self.name = name\n",
    "        self.ask = ask      # ask ist der niedrigste Preis, für den ein Nutzer ein Produkt verkaufen will\n",
    "        self.bid = bid      # bid ist der höchste Preis, für den ein Nutzer ein Produkt kaufen will\n",
    "    \n",
    "    def __str__(self):\n",
    "        return f\"Produktname: {self.name}, ask: {self.ask}, bid: {self.bid}\"\n",
    "\n",
    "    def sell_product(self, sell_price):\n",
    "        if sell_price < self.bid:\n",
    "            raise PriceTooSmallError(sell_price, self.bid)\n",
    "        elif sell_price < self.ask:\n",
    "            self.ask = sell_price\n",
    "\n",
    "    def buy_product(self, buy_price):\n",
    "        if buy_price > self.ask:\n",
    "            raise PriceTooHighError(buy_price, self.ask)\n",
    "        elif buy_price > self.bid: \n",
    "            self.bid = buy_price\n",
    "\n",
    "\n",
    "def sell_product(product: Produkt, price: float):\n",
    "    \"\"\" Es soll versucht werden, ein Produkt für einen Preis zu verkaufen\"\"\"\n",
    "    pass\n",
    "\n",
    "def buy_product(product: Produkt, price: float):\n",
    "    \"\"\" Es soll versucht werden, ein Produkt für einen Preis zu kaufen\"\"\"\n",
    "    pass\n",
    "\n",
    "\n",
    "msft = Produkt(\"Microsoft\", 260, 255)\n",
    "\n",
    "print(msft)\n",
    "\n",
    "sell_product(msft, 245)\n",
    "sell_product(msft, 258)\n",
    "buy_product(msft, 265)\n",
    "\n",
    "print(msft)\n",
    "\n",
    "\n"
   ]
  }
 ],
 "metadata": {
  "language_info": {
   "name": "python"
  },
  "orig_nbformat": 4
 },
 "nbformat": 4,
 "nbformat_minor": 2
}
