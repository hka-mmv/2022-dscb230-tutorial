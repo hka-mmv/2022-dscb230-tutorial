{
 "cells": [
  {
   "cell_type": "markdown",
   "id": "8cae36b7-dbd3-4764-9a63-52ef68bf55d0",
   "metadata": {},
   "source": [
    "### Aufgabenteil 2\n",
    "#### Qualitätssicherung mit unittest"
   ]
  },
  {
   "cell_type": "markdown",
   "id": "4ee551a5-5997-4db1-8af4-967bee599ae7",
   "metadata": {},
   "source": [
    "Ein Automobilhersteller vermutet einen Fehler in der Software ihrer neuen Modelle. Um diese Vermutung zu prüfen, sollen Sie nun mit dem **unittest-Modul** Tests programmieren. Schauen Sie sich zunächst die Klassen Motor und Auto an."
   ]
  },
  {
   "cell_type": "code",
   "execution_count": 52,
   "id": "f06204bd-9d73-4487-904a-83e85a1bada0",
   "metadata": {},
   "outputs": [],
   "source": [
    "class Motor():\n",
    "    \"\"\" Klasse, die einen Motor repräsentiert \"\"\"\n",
    "    \n",
    "    def __init__(self, zylinder, ps, treibstoff):\n",
    "        self.zylinder = zylinder\n",
    "        self.ps = ps\n",
    "        self.treibstoff = treibstoff\n",
    "    \n",
    "    def __str__(self):\n",
    "        return f\"Motor mit {self.zylinder} Zylindern und {self.ps} PS, der {self.treibstoff} benötigt.\"\n",
    "        \n",
    "    def richtig_getankt(self, getankter_treibstoff):\n",
    "        \"\"\" Prüft, ob ein Treibstoff dem benötigten Treibstoff entspricht \"\"\"\n",
    "        \n",
    "        if getankter_treibstoff == self.treibstoff:\n",
    "            return \"Treibstoff richtig getankt\"\n",
    "        \n",
    "        else:\n",
    "            return \"Treibstoff richtig getankt\""
   ]
  },
  {
   "cell_type": "code",
   "execution_count": 53,
   "id": "900e7bba-c2eb-436e-8627-7d842a0e5519",
   "metadata": {},
   "outputs": [],
   "source": [
    "from datetime import datetime\n",
    "class Auto():\n",
    "    \"\"\" Klasse, die ein Auto repräsentiert \"\"\"\n",
    "    \n",
    "    def __init__(self, modell_name, motor, tankfüllung, baujahr, listenpreis):\n",
    "        self.modell_name = modell_name\n",
    "        self.motor = motor\n",
    "        self.tankfüllung = tankfüllung\n",
    "        self.baujahr = baujahr\n",
    "        self.listenpreis = 0 \n",
    "        \n",
    "    def __str__(self):\n",
    "        return f\"{self.modell_name} aus dem Jahr {self.baujahr} hat einen {self.motor}\"\n",
    "    \n",
    "    def tanken(self, treibstoff):\n",
    "        \"\"\" Simuliert das Tanken und führt eine Prüfung auf Richtigkeit des Treibstoffs aus \"\"\"\n",
    "        \n",
    "        self.tankfüllung = treibstoff\n",
    "        return self.motor.richtig_getankt(self.tankfüllung)\n",
    "    \n",
    "    def benoetigt_wartung(self):\n",
    "        \"\"\" Das Auto braucht alle fünf Jahre eine Wartung, dies soll mit dieser Methode geprüft werden \"\"\"\n",
    "        \n",
    "        if (datetime.now().year - self.baujahr) % 3 == 0:\n",
    "            return f\"Das Auto benötigt eine Wartung.\"\n",
    "        return f\"Das Auto benötigt zuzeit keine Wartung\""
   ]
  },
  {
   "cell_type": "markdown",
   "id": "b670e1d7-ee31-4707-a1db-674acf5982e6",
   "metadata": {},
   "source": [
    "Mögliche Fehler (d.h. noch nicht überprüfte Fehler) wurden identifiziert. Schreiben Sie Tests, um die Software zu überprüfen. Nutzen Sie hierfür (assertEqual, assertTrue, assertIn):\n",
    "    \n",
    "   - Beim Tanken wird nicht korrekt angezeit, ob der getankte Treibstoff richtig ist\n",
    "   - Der Name des Modells wird durch die String Methode nicht angezeigt\n",
    "   - Es wird zu oft angezeigt, dass das Auto eine Wartung braucht\n",
    "   - Der Listenpreis wird falsch gespeichert\n",
    "  "
   ]
  },
  {
   "cell_type": "markdown",
   "id": "ec68c825-3ca3-4cc4-8ba7-98bed60112b9",
   "metadata": {},
   "source": [
    "*Hinweis:* unittest.main schaut auf sys.argv und der erste Parameter ist, was IPython oder Jupyter gestartet hat (daher der Fehler, dass die Kernel-Verbindungsdatei kein gültiges Attribut ist). Die Übergabe einer expliziten Liste (argv=['first-arg-is-ignored'], exit=False) an unittest.main verhindert, dass IPython und Jupyter auf sys.argv schauen. Die Übergabe von exit=False verhindert, dass unittest.main den Kernell-Prozess herunterfährt"
   ]
  },
  {
   "cell_type": "code",
   "execution_count": 58,
   "id": "e38585c1-6732-4b5a-b1f9-41864c247c62",
   "metadata": {},
   "outputs": [],
   "source": [
    "import unittest"
   ]
  },
  {
   "cell_type": "code",
   "execution_count": 61,
   "id": "f90daf1a-92cd-4728-a14d-c0007a9ca0e5",
   "metadata": {},
   "outputs": [
    {
     "name": "stderr",
     "output_type": "stream",
     "text": [
      "F.FF\n",
      "======================================================================\n",
      "FAIL: test_listenpreis (__main__.SoftwareTest)\n",
      "----------------------------------------------------------------------\n",
      "Traceback (most recent call last):\n",
      "  File \"/var/folders/4v/7n25rgnx2zz8qd1csgnh63vw0000gn/T/ipykernel_11063/1995734061.py\", line 21, in test_listenpreis\n",
      "    self.assertTrue(auto.listenpreis == 70000, \"Listenpreis wurde nicht richtig implementiert\")\n",
      "AssertionError: False is not true : Listenpreis wurde nicht richtig implementiert\n",
      "\n",
      "======================================================================\n",
      "FAIL: test_tanken (__main__.SoftwareTest)\n",
      "----------------------------------------------------------------------\n",
      "Traceback (most recent call last):\n",
      "  File \"/var/folders/4v/7n25rgnx2zz8qd1csgnh63vw0000gn/T/ipykernel_11063/1995734061.py\", line 6, in test_tanken\n",
      "    self.assertEqual(auto.tanken(\"Diesel\"), \"Treibstoff nicht richtig getankt\", \"richtig_getankt Methode nicht richtig implementiert\")\n",
      "AssertionError: 'Treibstoff richtig getankt' != 'Treibstoff nicht richtig getankt'\n",
      "- Treibstoff richtig getankt\n",
      "+ Treibstoff nicht richtig getankt\n",
      "?            ++++++\n",
      " : richtig_getankt Methode nicht richtig implementiert\n",
      "\n",
      "======================================================================\n",
      "FAIL: test_wartung (__main__.SoftwareTest)\n",
      "----------------------------------------------------------------------\n",
      "Traceback (most recent call last):\n",
      "  File \"/var/folders/4v/7n25rgnx2zz8qd1csgnh63vw0000gn/T/ipykernel_11063/1995734061.py\", line 16, in test_wartung\n",
      "    self.assertEqual(auto.benoetigt_wartung(), \"Das Auto benötigt eine Wartung.\", \"benoetigt_wartung Methode nicht richtig implementiert\")\n",
      "AssertionError: 'Das Auto benötigt zuzeit keine Wartung' != 'Das Auto benötigt eine Wartung.'\n",
      "- Das Auto benötigt zuzeit keine Wartung\n",
      "?                   --------\n",
      "+ Das Auto benötigt eine Wartung.\n",
      "?                               +\n",
      " : benoetigt_wartung Methode nicht richtig implementiert\n",
      "\n",
      "----------------------------------------------------------------------\n",
      "Ran 4 tests in 0.005s\n",
      "\n",
      "FAILED (failures=3)\n"
     ]
    },
    {
     "data": {
      "text/plain": [
       "<unittest.main.TestProgram at 0x7fd718a643d0>"
      ]
     },
     "execution_count": 61,
     "metadata": {},
     "output_type": "execute_result"
    }
   ],
   "source": [
    "class SoftwareTest(unittest.TestCase):\n",
    "    \n",
    "    def test_tanken(self):\n",
    "        motor = Motor(4, 120, \"Benzin\")\n",
    "        auto = Auto(\"E-Klasse\", motor, \"Benzin\", 2013, 70000)\n",
    "        self.assertEqual(auto.tanken(\"Diesel\"), \"Treibstoff nicht richtig getankt\", \"richtig_getankt Methode nicht richtig implementiert\")\n",
    "    \n",
    "    def test_name(self):\n",
    "        motor = Motor(4, 120, \"Benzin\")\n",
    "        auto = Auto(\"E-Klasse\", motor, \"Benzin\", 2020, 70000)\n",
    "        self.assertIn(\"E-Klasse\", str(auto), \"Name nicht in der String Methode\")\n",
    "        \n",
    "    def test_wartung(self):\n",
    "        motor = Motor(4, 120, \"Benzin\")\n",
    "        auto = Auto(\"E-Klasse\", motor, \"Benzin\", datetime.now().year-5, 70000)\n",
    "        self.assertEqual(auto.benoetigt_wartung(), \"Das Auto benötigt eine Wartung.\", \"benoetigt_wartung Methode nicht richtig implementiert\")\n",
    "    \n",
    "    def test_listenpreis(self):\n",
    "        motor = Motor(4, 120, \"Benzin\")\n",
    "        auto = Auto(\"E-Klasse\", motor, \"Benzin\", 2020, 70000)\n",
    "        self.assertTrue(auto.listenpreis == 70000, \"Listenpreis wurde nicht richtig implementiert\")\n",
    "    \n",
    "    \n",
    "        \n",
    "unittest.main(argv=['first-arg-is-ignored'], exit=False)\n"
   ]
  }
 ],
 "metadata": {
  "kernelspec": {
   "display_name": "Python 3 (ipykernel)",
   "language": "python",
   "name": "python3"
  },
  "language_info": {
   "codemirror_mode": {
    "name": "ipython",
    "version": 3
   },
   "file_extension": ".py",
   "mimetype": "text/x-python",
   "name": "python",
   "nbconvert_exporter": "python",
   "pygments_lexer": "ipython3",
   "version": "3.9.7"
  }
 },
 "nbformat": 4,
 "nbformat_minor": 5
}
