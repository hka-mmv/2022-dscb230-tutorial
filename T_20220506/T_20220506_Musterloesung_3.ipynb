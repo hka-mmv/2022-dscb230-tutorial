{
 "cells": [
  {
   "cell_type": "markdown",
   "metadata": {},
   "source": [
    "### Aufgabenteil 3"
   ]
  },
  {
   "cell_type": "markdown",
   "metadata": {},
   "source": [
    "#### Try-Except inklusive eigenen Fehlermeldungen\n",
    "\n",
    "In einer Trading App können verschiedene Anlageprodukte gehandelt werden. Dabei sollen die Nutzer dadurch geschützt werden, dass bestimmte Fehlermeldungen in dem Kauf-/Verkausprozess ausgegeben werden. Liegt der Preis, für den ein Nutzer ein Produkt verkaufen will, unter dem Preis, den ein anderer Nutzer bereits für dieses Produkt bietet, soll ein \"PriceTooSmallError\" ausgegeben werden und der gebotene Preis vorgeschlagen werden. Dabei soll das Programm nicht abstürzen, sondern der Nutzer soll dann die Möglichkeit haben, einen neuen Preis einzugeben. Das Gleiche Prinzip gibt es bei dem Kauf. Will ein Nutzer ein Produkt für ein Preis kaufen, der über dem minimal verlangten Preis liegt, so soll ein \"PriceTooHighError\" zusammen mit dem vorgeschlagenem Preis ausgegeben werden und der Nutzer soll auch hier einen neuen Preis eingeben können"
   ]
  },
  {
   "cell_type": "code",
   "execution_count": 1,
   "metadata": {},
   "outputs": [
    {
     "name": "stdout",
     "output_type": "stream",
     "text": [
      "Produktname: Microsoft, ask: 260, bid: 255\n",
      "Der eingegebene Preis von 245€ liegt unter dem maximal gebotenem Preis von 255€\n",
      "Der eingegebene Preis von 1€ liegt unter dem maximal gebotenem Preis von 255€\n"
     ]
    },
    {
     "ename": "ValueError",
     "evalue": "invalid literal for int() with base 10: ''",
     "output_type": "error",
     "traceback": [
      "\u001b[0;31m---------------------------------------------------------------------------\u001b[0m",
      "\u001b[0;31mPriceTooSmallError\u001b[0m                        Traceback (most recent call last)",
      "\u001b[0;32m/var/folders/27/rw3093250gvf841xt9hmzs580000gn/T/ipykernel_25369/4240505957.py\u001b[0m in \u001b[0;36msell_product\u001b[0;34m(product, price)\u001b[0m\n\u001b[1;32m     35\u001b[0m     \u001b[0;32mtry\u001b[0m\u001b[0;34m:\u001b[0m\u001b[0;34m\u001b[0m\u001b[0;34m\u001b[0m\u001b[0m\n\u001b[0;32m---> 36\u001b[0;31m         \u001b[0mproduct\u001b[0m\u001b[0;34m.\u001b[0m\u001b[0msell_product\u001b[0m\u001b[0;34m(\u001b[0m\u001b[0mprice\u001b[0m\u001b[0;34m)\u001b[0m\u001b[0;34m\u001b[0m\u001b[0;34m\u001b[0m\u001b[0m\n\u001b[0m\u001b[1;32m     37\u001b[0m     \u001b[0;32mexcept\u001b[0m \u001b[0mException\u001b[0m \u001b[0;32mas\u001b[0m \u001b[0me\u001b[0m\u001b[0;34m:\u001b[0m\u001b[0;34m\u001b[0m\u001b[0;34m\u001b[0m\u001b[0m\n",
      "\u001b[0;32m/var/folders/27/rw3093250gvf841xt9hmzs580000gn/T/ipykernel_25369/4240505957.py\u001b[0m in \u001b[0;36msell_product\u001b[0;34m(self, sell_price)\u001b[0m\n\u001b[1;32m     22\u001b[0m         \u001b[0;32mif\u001b[0m \u001b[0msell_price\u001b[0m \u001b[0;34m<\u001b[0m \u001b[0mself\u001b[0m\u001b[0;34m.\u001b[0m\u001b[0mbid\u001b[0m\u001b[0;34m:\u001b[0m\u001b[0;34m\u001b[0m\u001b[0;34m\u001b[0m\u001b[0m\n\u001b[0;32m---> 23\u001b[0;31m             \u001b[0;32mraise\u001b[0m \u001b[0mPriceTooSmallError\u001b[0m\u001b[0;34m(\u001b[0m\u001b[0msell_price\u001b[0m\u001b[0;34m,\u001b[0m \u001b[0mself\u001b[0m\u001b[0;34m.\u001b[0m\u001b[0mbid\u001b[0m\u001b[0;34m)\u001b[0m\u001b[0;34m\u001b[0m\u001b[0;34m\u001b[0m\u001b[0m\n\u001b[0m\u001b[1;32m     24\u001b[0m         \u001b[0;32melif\u001b[0m \u001b[0msell_price\u001b[0m \u001b[0;34m<\u001b[0m \u001b[0mself\u001b[0m\u001b[0;34m.\u001b[0m\u001b[0mask\u001b[0m\u001b[0;34m:\u001b[0m\u001b[0;34m\u001b[0m\u001b[0;34m\u001b[0m\u001b[0m\n",
      "\u001b[0;31mPriceTooSmallError\u001b[0m: Der eingegebene Preis von 245€ liegt unter dem maximal gebotenem Preis von 255€",
      "\nDuring handling of the above exception, another exception occurred:\n",
      "\u001b[0;31mPriceTooSmallError\u001b[0m                        Traceback (most recent call last)",
      "\u001b[0;32m/var/folders/27/rw3093250gvf841xt9hmzs580000gn/T/ipykernel_25369/4240505957.py\u001b[0m in \u001b[0;36msell_product\u001b[0;34m(product, price)\u001b[0m\n\u001b[1;32m     35\u001b[0m     \u001b[0;32mtry\u001b[0m\u001b[0;34m:\u001b[0m\u001b[0;34m\u001b[0m\u001b[0;34m\u001b[0m\u001b[0m\n\u001b[0;32m---> 36\u001b[0;31m         \u001b[0mproduct\u001b[0m\u001b[0;34m.\u001b[0m\u001b[0msell_product\u001b[0m\u001b[0;34m(\u001b[0m\u001b[0mprice\u001b[0m\u001b[0;34m)\u001b[0m\u001b[0;34m\u001b[0m\u001b[0;34m\u001b[0m\u001b[0m\n\u001b[0m\u001b[1;32m     37\u001b[0m     \u001b[0;32mexcept\u001b[0m \u001b[0mException\u001b[0m \u001b[0;32mas\u001b[0m \u001b[0me\u001b[0m\u001b[0;34m:\u001b[0m\u001b[0;34m\u001b[0m\u001b[0;34m\u001b[0m\u001b[0m\n",
      "\u001b[0;32m/var/folders/27/rw3093250gvf841xt9hmzs580000gn/T/ipykernel_25369/4240505957.py\u001b[0m in \u001b[0;36msell_product\u001b[0;34m(self, sell_price)\u001b[0m\n\u001b[1;32m     22\u001b[0m         \u001b[0;32mif\u001b[0m \u001b[0msell_price\u001b[0m \u001b[0;34m<\u001b[0m \u001b[0mself\u001b[0m\u001b[0;34m.\u001b[0m\u001b[0mbid\u001b[0m\u001b[0;34m:\u001b[0m\u001b[0;34m\u001b[0m\u001b[0;34m\u001b[0m\u001b[0m\n\u001b[0;32m---> 23\u001b[0;31m             \u001b[0;32mraise\u001b[0m \u001b[0mPriceTooSmallError\u001b[0m\u001b[0;34m(\u001b[0m\u001b[0msell_price\u001b[0m\u001b[0;34m,\u001b[0m \u001b[0mself\u001b[0m\u001b[0;34m.\u001b[0m\u001b[0mbid\u001b[0m\u001b[0;34m)\u001b[0m\u001b[0;34m\u001b[0m\u001b[0;34m\u001b[0m\u001b[0m\n\u001b[0m\u001b[1;32m     24\u001b[0m         \u001b[0;32melif\u001b[0m \u001b[0msell_price\u001b[0m \u001b[0;34m<\u001b[0m \u001b[0mself\u001b[0m\u001b[0;34m.\u001b[0m\u001b[0mask\u001b[0m\u001b[0;34m:\u001b[0m\u001b[0;34m\u001b[0m\u001b[0;34m\u001b[0m\u001b[0m\n",
      "\u001b[0;31mPriceTooSmallError\u001b[0m: Der eingegebene Preis von 1€ liegt unter dem maximal gebotenem Preis von 255€",
      "\nDuring handling of the above exception, another exception occurred:\n",
      "\u001b[0;31mValueError\u001b[0m                                Traceback (most recent call last)",
      "\u001b[0;32m/var/folders/27/rw3093250gvf841xt9hmzs580000gn/T/ipykernel_25369/4240505957.py\u001b[0m in \u001b[0;36m<module>\u001b[0;34m\u001b[0m\n\u001b[1;32m     50\u001b[0m \u001b[0mprint\u001b[0m\u001b[0;34m(\u001b[0m\u001b[0mmsft\u001b[0m\u001b[0;34m)\u001b[0m\u001b[0;34m\u001b[0m\u001b[0;34m\u001b[0m\u001b[0m\n\u001b[1;32m     51\u001b[0m \u001b[0;34m\u001b[0m\u001b[0m\n\u001b[0;32m---> 52\u001b[0;31m \u001b[0msell_product\u001b[0m\u001b[0;34m(\u001b[0m\u001b[0mmsft\u001b[0m\u001b[0;34m,\u001b[0m \u001b[0;36m245\u001b[0m\u001b[0;34m)\u001b[0m\u001b[0;34m\u001b[0m\u001b[0;34m\u001b[0m\u001b[0m\n\u001b[0m\u001b[1;32m     53\u001b[0m \u001b[0msell_product\u001b[0m\u001b[0;34m(\u001b[0m\u001b[0mmsft\u001b[0m\u001b[0;34m,\u001b[0m \u001b[0;36m258\u001b[0m\u001b[0;34m)\u001b[0m\u001b[0;34m\u001b[0m\u001b[0;34m\u001b[0m\u001b[0m\n\u001b[1;32m     54\u001b[0m \u001b[0mbuy_product\u001b[0m\u001b[0;34m(\u001b[0m\u001b[0mmsft\u001b[0m\u001b[0;34m,\u001b[0m \u001b[0;36m265\u001b[0m\u001b[0;34m)\u001b[0m\u001b[0;34m\u001b[0m\u001b[0;34m\u001b[0m\u001b[0m\n",
      "\u001b[0;32m/var/folders/27/rw3093250gvf841xt9hmzs580000gn/T/ipykernel_25369/4240505957.py\u001b[0m in \u001b[0;36msell_product\u001b[0;34m(product, price)\u001b[0m\n\u001b[1;32m     37\u001b[0m     \u001b[0;32mexcept\u001b[0m \u001b[0mException\u001b[0m \u001b[0;32mas\u001b[0m \u001b[0me\u001b[0m\u001b[0;34m:\u001b[0m\u001b[0;34m\u001b[0m\u001b[0;34m\u001b[0m\u001b[0m\n\u001b[1;32m     38\u001b[0m         \u001b[0mprint\u001b[0m\u001b[0;34m(\u001b[0m\u001b[0me\u001b[0m\u001b[0;34m)\u001b[0m\u001b[0;34m\u001b[0m\u001b[0;34m\u001b[0m\u001b[0m\n\u001b[0;32m---> 39\u001b[0;31m         \u001b[0msell_product\u001b[0m\u001b[0;34m(\u001b[0m\u001b[0mproduct\u001b[0m\u001b[0;34m,\u001b[0m \u001b[0mint\u001b[0m\u001b[0;34m(\u001b[0m\u001b[0minput\u001b[0m\u001b[0;34m(\u001b[0m\u001b[0;34mf\"bitte einen neuen Preis für den Verkauf von {product.name} eingeben\"\u001b[0m\u001b[0;34m)\u001b[0m\u001b[0;34m)\u001b[0m\u001b[0;34m)\u001b[0m\u001b[0;34m\u001b[0m\u001b[0;34m\u001b[0m\u001b[0m\n\u001b[0m\u001b[1;32m     40\u001b[0m \u001b[0;34m\u001b[0m\u001b[0m\n\u001b[1;32m     41\u001b[0m \u001b[0;32mdef\u001b[0m \u001b[0mbuy_product\u001b[0m\u001b[0;34m(\u001b[0m\u001b[0mproduct\u001b[0m\u001b[0;34m:\u001b[0m \u001b[0mProdukt\u001b[0m\u001b[0;34m,\u001b[0m \u001b[0mprice\u001b[0m\u001b[0;34m:\u001b[0m \u001b[0mfloat\u001b[0m\u001b[0;34m)\u001b[0m\u001b[0;34m:\u001b[0m\u001b[0;34m\u001b[0m\u001b[0;34m\u001b[0m\u001b[0m\n",
      "\u001b[0;32m/var/folders/27/rw3093250gvf841xt9hmzs580000gn/T/ipykernel_25369/4240505957.py\u001b[0m in \u001b[0;36msell_product\u001b[0;34m(product, price)\u001b[0m\n\u001b[1;32m     37\u001b[0m     \u001b[0;32mexcept\u001b[0m \u001b[0mException\u001b[0m \u001b[0;32mas\u001b[0m \u001b[0me\u001b[0m\u001b[0;34m:\u001b[0m\u001b[0;34m\u001b[0m\u001b[0;34m\u001b[0m\u001b[0m\n\u001b[1;32m     38\u001b[0m         \u001b[0mprint\u001b[0m\u001b[0;34m(\u001b[0m\u001b[0me\u001b[0m\u001b[0;34m)\u001b[0m\u001b[0;34m\u001b[0m\u001b[0;34m\u001b[0m\u001b[0m\n\u001b[0;32m---> 39\u001b[0;31m         \u001b[0msell_product\u001b[0m\u001b[0;34m(\u001b[0m\u001b[0mproduct\u001b[0m\u001b[0;34m,\u001b[0m \u001b[0mint\u001b[0m\u001b[0;34m(\u001b[0m\u001b[0minput\u001b[0m\u001b[0;34m(\u001b[0m\u001b[0;34mf\"bitte einen neuen Preis für den Verkauf von {product.name} eingeben\"\u001b[0m\u001b[0;34m)\u001b[0m\u001b[0;34m)\u001b[0m\u001b[0;34m)\u001b[0m\u001b[0;34m\u001b[0m\u001b[0;34m\u001b[0m\u001b[0m\n\u001b[0m\u001b[1;32m     40\u001b[0m \u001b[0;34m\u001b[0m\u001b[0m\n\u001b[1;32m     41\u001b[0m \u001b[0;32mdef\u001b[0m \u001b[0mbuy_product\u001b[0m\u001b[0;34m(\u001b[0m\u001b[0mproduct\u001b[0m\u001b[0;34m:\u001b[0m \u001b[0mProdukt\u001b[0m\u001b[0;34m,\u001b[0m \u001b[0mprice\u001b[0m\u001b[0;34m:\u001b[0m \u001b[0mfloat\u001b[0m\u001b[0;34m)\u001b[0m\u001b[0;34m:\u001b[0m\u001b[0;34m\u001b[0m\u001b[0;34m\u001b[0m\u001b[0m\n",
      "\u001b[0;31mValueError\u001b[0m: invalid literal for int() with base 10: ''"
     ]
    }
   ],
   "source": [
    "class PriceTooSmallError(Exception):\n",
    "    \"\"\"Falls ein verlangter Preis unter dem gebotenen Preis liegt, wird diese Exception geworfen\"\"\"\n",
    "    def __init__(self, entered_price, suggested_price):\n",
    "        super().__init__(f\"Der eingegebene Preis von {entered_price}€ liegt unter dem maximal gebotenem Preis von {suggested_price}€\")\n",
    "\n",
    "class PriceTooHighError(Exception):\n",
    "    \"\"\"Falls ein gebotener Preis über dem verlangten Preis liegt, wird diese Exception geworfen\"\"\"\n",
    "    def __init__(self, entered_price, suggested_price):\n",
    "        super().__init__(f\"Der eingegebene Preis von {entered_price}€ liegt über dem minimal verlangten Preis von {suggested_price}€\")\n",
    "\n",
    "class Produkt():\n",
    "\n",
    "    def __init__(self, name, ask, bid):\n",
    "        self.name = name\n",
    "        self.ask = ask\n",
    "        self.bid = bid\n",
    "    \n",
    "    def __str__(self):\n",
    "        return f\"Produktname: {self.name}, ask: {self.ask}, bid: {self.bid}\"\n",
    "\n",
    "    def sell_product(self, sell_price):\n",
    "        if sell_price < self.bid:\n",
    "            raise PriceTooSmallError(sell_price, self.bid)\n",
    "        elif sell_price < self.ask:\n",
    "            self.ask = sell_price\n",
    "\n",
    "    def buy_product(self, buy_price):\n",
    "        if buy_price > self.ask:\n",
    "            raise PriceTooHighError(buy_price, self.ask)\n",
    "        elif buy_price > self.bid: \n",
    "            self.bid = buy_price\n",
    "\n",
    "\n",
    "def sell_product(product: Produkt, price: float):\n",
    "    try:\n",
    "        product.sell_product(price)\n",
    "    except Exception as e:\n",
    "        print(e)\n",
    "        sell_product(product, int(input(f\"bitte einen neuen Preis für den Verkauf von {product.name} eingeben\")))\n",
    "\n",
    "def buy_product(product: Produkt, price: float):\n",
    "    try:\n",
    "        product.buy_product(price)\n",
    "    except Exception as e:\n",
    "        print(e)\n",
    "        buy_product(product, int(input(f\"bitte einen neuen Preis für den Kauf von {product.name} eingeben\")))\n",
    "\n",
    "msft = Produkt(\"Microsoft\", 260, 255)\n",
    "\n",
    "print(msft)\n",
    "\n",
    "sell_product(msft, 245)\n",
    "sell_product(msft, 258)\n",
    "buy_product(msft, 265)\n",
    "\n",
    "print(msft)\n",
    "\n",
    "\n"
   ]
  }
 ],
 "metadata": {
  "interpreter": {
   "hash": "b0fa6594d8f4cbf19f97940f81e996739fb7646882a419484c72d19e05852a7e"
  },
  "kernelspec": {
   "display_name": "Python 3.9.7 64-bit",
   "language": "python",
   "name": "python3"
  },
  "language_info": {
   "codemirror_mode": {
    "name": "ipython",
    "version": 3
   },
   "file_extension": ".py",
   "mimetype": "text/x-python",
   "name": "python",
   "nbconvert_exporter": "python",
   "pygments_lexer": "ipython3",
   "version": "3.9.7"
  },
  "orig_nbformat": 4
 },
 "nbformat": 4,
 "nbformat_minor": 2
}
