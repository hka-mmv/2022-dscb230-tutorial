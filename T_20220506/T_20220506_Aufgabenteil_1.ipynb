{
 "cells": [
  {
   "cell_type": "markdown",
   "id": "c8bf5b07",
   "metadata": {
    "pycharm": {
     "name": "#%% md\n"
    }
   },
   "source": [
    "# Tutorium DSCB 230"
   ]
  },
  {
   "cell_type": "markdown",
   "id": "d058160b",
   "metadata": {
    "pycharm": {
     "name": "#%% md\n"
    }
   },
   "source": [
    "Raphaele Salvatore Licciardo\n"
   ]
  },
  {
   "cell_type": "markdown",
   "id": "06ea89ff",
   "metadata": {
    "pycharm": {
     "name": "#%% md\n"
    }
   },
   "source": [
    "## T_20220506"
   ]
  },
  {
   "cell_type": "markdown",
   "id": "90f85ee9",
   "metadata": {
    "pycharm": {
     "name": "#%% md\n"
    }
   },
   "source": [
    "In diesem Aufgabenblatt wird sich zum Teil mit Python Version 3.10 beschäftigt. Bevor damit angefangen werden kann, müsst ihr *ggf.* euer System updaten.\n",
    "\n",
    "### Lokales System\n",
    "\n",
    "#### MacOS\n",
    "\n",
    "```\n",
    "$ brew install python@3.10\n",
    "$ brew unlink python@3.9\n",
    "$ brew link python@3.10\n",
    "```\n",
    "\n",
    "Solltet ihr den Homebrew Packetmanager nicht installiert haben, führt folgenden Befehl in der Kommandozeile aus. Das Skript erklärt, was es tun wird und wartet, bevor es etwas macht.\n",
    "\n",
    "```\n",
    "$ /bin/bash -c \"$(curl -fsSL https://raw.githubusercontent.com/Homebrew/install/HEAD/install.sh)\"\n",
    "```\n",
    "\n",
    "#### Linux\n",
    "\n",
    "Stellen Sie sicher, dass Ihr System auf dem neuesten Stand ist und die erforderlichen Pakete installiert sind.\n",
    "\n",
    "```\n",
    "$ sudo apt update && sudo apt upgrade -y\n",
    "```\n",
    "\n",
    "Installieren Sie die erforderliche Abhängigkeit für das Hinzufügen benutzerdefinierter PPAs.\n",
    "\n",
    "```\n",
    "$ sudo apt install software-properties-common -y\n",
    "```\n",
    "\n",
    "Dann fügen Sie das deadsnakes PPA wie folgt zur Liste der Quellen des APT-Paketmanagers hinzu.\n",
    "\n",
    "```\n",
    "$ sudo add-apt-repository ppa:deadsnakes/ppa\n",
    "```\n",
    "\n",
    "Nachdem das deadsnakes-Repository zu Ihrem Linux-System hinzugefügt wurde, laden Sie nun Python 3.10 mit dem folgenden Befehl herunter.\n",
    "\n",
    "```\n",
    "$ sudo apt install python3.10\n",
    "```\n",
    "\n",
    "#### Windows\n",
    "\n",
    "Nutzt den Python Installer.\n",
    "\n",
    "### Jupyter Notebook (Unix/Linux)\n",
    "\n",
    "Nun ist euer lokales System auf Python3 aktualisiert! Ein Jupyter Notebook läuft in der Regel dennoch auf einer älteren Python Version. Hierfür solltet ihr folgende Kommandos in eurer Kommandozeilen ausführen. Dies ist nur für Unix / Linux Syteme getestet, sollte auf Windows aber Problemlos klappen. Diesen Schritt könnt ihr auch überspringen, und die Aufgaben in eine Python-Datei erledigen (da euer System obig auf Python 3.10 geupdatet wurde, kein Problem).\n",
    "\n",
    "```\n",
    "$ pip3 install virtualenv\n",
    "$ virtualenv nameofthevenv --python python3.10\n",
    "$ source nameofthevenv/bin/activate\n",
    "(nameofthevenv) $ pip3 install jupyter ipykernel\n",
    "(nameofthevenv) $ python -m ipykernel install --user --name nameofthevenv\n",
    "(nameofthevenv) $ jupyter notebook\n",
    "```\n",
    "\n",
    "Die Virtuelle Umgebung, welche ihr euch hier erstellt, habe ich bereits erledigt und mit beigefügt. Dennoch solltet ihr zur Übung es probieren, alleine zu schaffen.\n",
    "\n",
    "Geht nun in eurem Jupyter Notebook auf `Kernel > Change Kernel > nameofthevenv`. Jupyter Notebook läuft nun auf Python3.10.\n",
    "\n",
    "### Testen\n",
    "\n",
    "Ob das Update erfolgreich funktioniert hat, sollte der folgende Code `3.10.4` ausgeben. Ist dies der Fall, könnt ihr mit der unten stehenden Aufgabe beginnen."
   ]
  },
  {
   "cell_type": "code",
   "execution_count": null,
   "id": "401156a2",
   "metadata": {
    "pycharm": {
     "name": "#%%\n"
    }
   },
   "outputs": [
    {
     "name": "stdout",
     "output_type": "stream",
     "text": [
      "3.10.4\n"
     ]
    }
   ],
   "source": [
    "import sys\n",
    "\n",
    "print(f\"{sys.version_info[0]}.{sys.version_info[1]}.{sys.version_info[2]}\")"
   ]
  },
  {
   "cell_type": "markdown",
   "id": "726b28d0",
   "metadata": {
    "pycharm": {
     "name": "#%% md\n"
    }
   },
   "source": [
    "### Aufgabe 1: Python 3.10\n",
    "\n",
    "In dieser Aufgabe behandeln wir die Neuerungen in Python 3.10. "
   ]
  },
  {
   "cell_type": "markdown",
   "id": "1b58d8d6",
   "metadata": {
    "pycharm": {
     "name": "#%% md\n"
    }
   },
   "source": [
    "#### PEP 634: Structural Pattern Matching\n",
    "\n",
    "Um verschiedene Fälle zu unterscheiden sind euch bereits `if-else Statements` bekannt. In Hochsprachen wie Java, C/C++, uvm. gibt es neben dem `if-else Statements` noch eine weitere Variante, die `Match-Case` / `Switch-Case` Statements. Der Kompilier in Hochsprachen bzw. Interpreter von Python3 weiß bei `if-else Statements` die Reihenfolge der Auswertung nicht und kann somit keinerlei Optimierungen vornehmen. Bei kleinen `if-else Statements` kein Problem. Bei größeren `if-else Statements` kann es hierbei Ratsam sein, auf die bessere `Match-Case` / `Switch-Case` Alternative zu wechseln. Dort können alle Klauseln gleichzeitig ausgewertet werden und in eine effizientere Reihenfolge gebracht werden.\n",
    "\n",
    "Stellt einen HTTP Request an die Hochschul-Webseite (nutzt hierzu das Package `requests`). Anschließend solltet ihr den Statuscode dieser Abfrage ermitteln und mit einer `Match-Case` / `Switch-Case` Statement auf unterschiedliche Ergebnisse überprüfen. Ist das Ergebnis `100`, `200`, `300`, `401-403`, `504`, gibt eine passende Ausgabe aus. Überlegt euch, was mit den übrigen HTTP Statuscodes passiert."
   ]
  }
 ],
 "metadata": {
  "kernelspec": {
   "display_name": "py310",
   "language": "python",
   "name": "py310"
  },
  "language_info": {
   "codemirror_mode": {
    "name": "ipython",
    "version": 3
   },
   "file_extension": ".py",
   "mimetype": "text/x-python",
   "name": "python",
   "nbconvert_exporter": "python",
   "pygments_lexer": "ipython3",
   "version": "3.10.4"
  }
 },
 "nbformat": 4,
 "nbformat_minor": 5
}
