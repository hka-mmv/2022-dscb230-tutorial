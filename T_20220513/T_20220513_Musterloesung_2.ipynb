{
 "cells": [
  {
   "cell_type": "markdown",
   "id": "eb023128-43e9-4df8-b704-5c37ed458cd4",
   "metadata": {},
   "source": [
    "# Tutorium DSCB 230"
   ]
  },
  {
   "cell_type": "markdown",
   "id": "8433bc5d-ce67-440e-b609-50607d71832a",
   "metadata": {},
   "source": [
    "fj"
   ]
  },
  {
   "cell_type": "markdown",
   "id": "d56392ce-5786-4512-8457-3e40fd7c23f1",
   "metadata": {},
   "source": [
    "### Aufgabe 2: Fehlerbehandlung"
   ]
  },
  {
   "cell_type": "markdown",
   "id": "680fc1d6-ee25-4be0-8527-9635dcb30cfe",
   "metadata": {},
   "source": [
    "Ein Streaming Anbieter strukturiert seine Daten in zwei Klassen. Die Klasse Account repräsentiert einen Account eines Nutzers, in dem Name, Alter und über den Account angemeldete Geräte gespeichert werden. Über die Methode device_hinzufuegen kann ein Gerät den angemeldeten Geräten hinzugefügt werden. \n",
    "\n",
    "Die Klasse Film repräsentiert einen Film mit Name, Rating und FSK. Über die Methode alter_ueberpruefen kann geprüft werden, ob ein Account das Mindestalter für den Film unterschreitet. Mit der Methode lade_rating wird das Rating des Film aus einem separaten df geladen. \n",
    "\n",
    "Ihre Aufgabe ist es drei Fehler abzufangen, bzw. zu handeln:\n",
    "\n",
    "1) Erstellen Sie eine eigene Exception, die aufgerufen wird, wenn die Maximalanzahl von Geräten (5) erreicht ist, jedoch trotzdem versucht wird ein weiteres Gerät hinzuzufügen. Die Fehlermeldung soll zurückgeben: \"Die Maximalanzahl an Geräten für den Account von {Account.name} ist erreicht\". Ersetzen Sie {Account.name} mit dem Accountnamen. \n",
    "\n",
    "2) Erstellen Sie eine eigene Exception, die aufgerufen wird, wenn das Mindestalter für einen Film unterschritten wird. Die Fehlermeldung soll zurückgeben: \"Das Mindesalter für den Film {Film.name} wurde um {Differenz} Jahre unterschritten\". Ersetzen Sie {Film.name} mit dem Accountnamen und {Differenz} mit der Differenz des Mindestalters und dem im Account angegebnen Alter.\n",
    "\n",
    "3) Es kann sein, dass zu einem Film kein Rating gespeichert ist, aber trotzdem versucht wird, dieses zu laden. Fangen Sie den Fehler mit einem try/except ab. Sollte das Rating nicht geladen werden können, soll ein Rating von 5 festgelegt werden."
   ]
  },
  {
   "cell_type": "markdown",
   "id": "df3e6ff0-3313-46e3-b634-8ca2f52ff293",
   "metadata": {},
   "source": [
    "*Hinweis:* https://www.programiz.com/python-programming/user-defined-exception"
   ]
  },
  {
   "cell_type": "code",
   "execution_count": 6,
   "id": "9a10b276-00a5-4fd0-902d-50c36401aa0c",
   "metadata": {},
   "outputs": [],
   "source": [
    "class Device:\n",
    "    def __init__(self, name, ip):\n",
    "        self.name = name\n",
    "        self.ip = ip"
   ]
  },
  {
   "cell_type": "code",
   "execution_count": 17,
   "id": "ccd31bfa-04c8-4c1f-9ca9-e7aa5ec54c8e",
   "metadata": {},
   "outputs": [],
   "source": [
    "class Account:\n",
    "    def __init__(self, name, alter):\n",
    "        self.name = name\n",
    "        self.alter = alter\n",
    "        self.devices = []\n",
    "        \n",
    "    def device_hinzufuegen(self, device):\n",
    "        if len(self.devices) == 5:\n",
    "            raise MaxAnzahlError(self.name)\n",
    "        \n",
    "        else:\n",
    "            self.devices.append(device)"
   ]
  },
  {
   "cell_type": "code",
   "execution_count": 28,
   "id": "0f0d131a-4a4a-41d8-b534-656a2c434e00",
   "metadata": {},
   "outputs": [],
   "source": [
    "class Film:\n",
    "    def __init__(self, name, fsk):\n",
    "        self.name = name\n",
    "        self.rating = None\n",
    "        self.fsk = fsk\n",
    "        \n",
    "    def alter_ueberpruefen(self, account):\n",
    "        if self.fsk >= account.alter:\n",
    "            raise MindestalterError(self.name, self.fsk, account.alter)\n",
    "    \n",
    "    def lade_rating(self, df_rating):\n",
    "        try:\n",
    "            self.rating = df_rating.loc[self.name][\"rating\"]\n",
    "            \n",
    "        except:\n",
    "            self.rating = 5"
   ]
  },
  {
   "cell_type": "code",
   "execution_count": 29,
   "id": "7eb14711-f96d-4307-a40c-20cae903ab77",
   "metadata": {},
   "outputs": [
    {
     "data": {
      "text/html": [
       "<div>\n",
       "<style scoped>\n",
       "    .dataframe tbody tr th:only-of-type {\n",
       "        vertical-align: middle;\n",
       "    }\n",
       "\n",
       "    .dataframe tbody tr th {\n",
       "        vertical-align: top;\n",
       "    }\n",
       "\n",
       "    .dataframe thead th {\n",
       "        text-align: right;\n",
       "    }\n",
       "</style>\n",
       "<table border=\"1\" class=\"dataframe\">\n",
       "  <thead>\n",
       "    <tr style=\"text-align: right;\">\n",
       "      <th></th>\n",
       "      <th>rating</th>\n",
       "    </tr>\n",
       "    <tr>\n",
       "      <th>name</th>\n",
       "      <th></th>\n",
       "    </tr>\n",
       "  </thead>\n",
       "  <tbody>\n",
       "    <tr>\n",
       "      <th>Titanic</th>\n",
       "      <td>7.9</td>\n",
       "    </tr>\n",
       "    <tr>\n",
       "      <th>Der_Pate</th>\n",
       "      <td>9.2</td>\n",
       "    </tr>\n",
       "    <tr>\n",
       "      <th>Pulp_Fiction</th>\n",
       "      <td>8.9</td>\n",
       "    </tr>\n",
       "    <tr>\n",
       "      <th>Inception</th>\n",
       "      <td>8.7</td>\n",
       "    </tr>\n",
       "    <tr>\n",
       "      <th>Rocky</th>\n",
       "      <td>8.0</td>\n",
       "    </tr>\n",
       "  </tbody>\n",
       "</table>\n",
       "</div>"
      ],
      "text/plain": [
       "              rating\n",
       "name                \n",
       "Titanic          7.9\n",
       "Der_Pate         9.2\n",
       "Pulp_Fiction     8.9\n",
       "Inception        8.7\n",
       "Rocky            8.0"
      ]
     },
     "execution_count": 29,
     "metadata": {},
     "output_type": "execute_result"
    }
   ],
   "source": [
    "import pandas as pd\n",
    "film_rating = {'name': ['Titanic', 'Der_Pate', 'Pulp_Fiction', 'Inception', 'Rocky'],\n",
    "               'rating': [7.9, 9.2, 8.9, 8.7, 8.0]}\n",
    "df_filme = pd.DataFrame(film_rating,columns = [\"name\", \"rating\"])\n",
    "df_filme.set_index(\"name\", inplace=True)\n",
    "df_filme"
   ]
  },
  {
   "cell_type": "code",
   "execution_count": 30,
   "id": "25fee072-984c-4844-9089-64047420dacb",
   "metadata": {},
   "outputs": [],
   "source": [
    "# 1\n",
    "\n",
    "class MaxAnzahlError(Exception):\n",
    "    \"\"\"Exception die ausgelöst wird, wenn zu viele Geräte angemeldet werden.\"\"\"\n",
    "\n",
    "    def __init__(self, acc):\n",
    "        self.acc = acc\n",
    "        self.message = f\"Die Maximalanzahl an Geräten für den Account {self.acc} ist erreicht.\"\n",
    "        super().__init__(self.message)"
   ]
  },
  {
   "cell_type": "code",
   "execution_count": 31,
   "id": "4b589700-f328-4ed0-bc70-c34ff720ac06",
   "metadata": {},
   "outputs": [],
   "source": [
    "# 2\n",
    "\n",
    "class MindestalterError(Exception):\n",
    "    \"\"\"Exception die ausgelöst wird, wenn das Mindestalter nicht erreicht wird.\"\"\"\n",
    "\n",
    "    def __init__(self, name, fsk, alter):\n",
    "        self.name = name\n",
    "        self.differenz = fsk - alter\n",
    "        self.message = f\"Das Mindesalter für den Film {self.name} wurde um {self.differenz} Jahre unterschritten.\"\n",
    "        super().__init__(self.message)"
   ]
  },
  {
   "cell_type": "code",
   "execution_count": 32,
   "id": "5365a76d-270c-451b-ae15-a1e494059337",
   "metadata": {},
   "outputs": [],
   "source": [
    "handy = Device(\"Handy\", \"164.117.163.174\")\n",
    "acc = Account(\"Bob\", 11)\n",
    "matrix = Film(\"Matrix\", 16)\n",
    "for _ in range(5):\n",
    "    acc.device_hinzufuegen(handy)"
   ]
  },
  {
   "cell_type": "markdown",
   "id": "edb1376c-e664-4476-bc55-1faa583ac60a",
   "metadata": {},
   "source": [
    "Folgende Zellen sollten die selbsterstellten Exceptions auslösen"
   ]
  },
  {
   "cell_type": "code",
   "execution_count": 33,
   "id": "5d9f9044-fc48-4884-a510-b54460116917",
   "metadata": {},
   "outputs": [
    {
     "ename": "MaxAnzahlError",
     "evalue": "Die Maximalanzahl an Geräten für den Account Bob ist erreicht.",
     "output_type": "error",
     "traceback": [
      "\u001b[0;31m---------------------------------------------------------------------------\u001b[0m",
      "\u001b[0;31mMaxAnzahlError\u001b[0m                            Traceback (most recent call last)",
      "\u001b[0;32m/var/folders/4v/7n25rgnx2zz8qd1csgnh63vw0000gn/T/ipykernel_8367/1301128116.py\u001b[0m in \u001b[0;36m<module>\u001b[0;34m\u001b[0m\n\u001b[1;32m      1\u001b[0m \u001b[0;31m# 1\u001b[0m\u001b[0;34m\u001b[0m\u001b[0;34m\u001b[0m\u001b[0m\n\u001b[0;32m----> 2\u001b[0;31m \u001b[0macc\u001b[0m\u001b[0;34m.\u001b[0m\u001b[0mdevice_hinzufuegen\u001b[0m\u001b[0;34m(\u001b[0m\u001b[0mhandy\u001b[0m\u001b[0;34m)\u001b[0m\u001b[0;34m\u001b[0m\u001b[0;34m\u001b[0m\u001b[0m\n\u001b[0m",
      "\u001b[0;32m/var/folders/4v/7n25rgnx2zz8qd1csgnh63vw0000gn/T/ipykernel_8367/788857610.py\u001b[0m in \u001b[0;36mdevice_hinzufuegen\u001b[0;34m(self, device)\u001b[0m\n\u001b[1;32m      7\u001b[0m     \u001b[0;32mdef\u001b[0m \u001b[0mdevice_hinzufuegen\u001b[0m\u001b[0;34m(\u001b[0m\u001b[0mself\u001b[0m\u001b[0;34m,\u001b[0m \u001b[0mdevice\u001b[0m\u001b[0;34m)\u001b[0m\u001b[0;34m:\u001b[0m\u001b[0;34m\u001b[0m\u001b[0;34m\u001b[0m\u001b[0m\n\u001b[1;32m      8\u001b[0m         \u001b[0;32mif\u001b[0m \u001b[0mlen\u001b[0m\u001b[0;34m(\u001b[0m\u001b[0mself\u001b[0m\u001b[0;34m.\u001b[0m\u001b[0mdevices\u001b[0m\u001b[0;34m)\u001b[0m \u001b[0;34m==\u001b[0m \u001b[0;36m5\u001b[0m\u001b[0;34m:\u001b[0m\u001b[0;34m\u001b[0m\u001b[0;34m\u001b[0m\u001b[0m\n\u001b[0;32m----> 9\u001b[0;31m             \u001b[0;32mraise\u001b[0m \u001b[0mMaxAnzahlError\u001b[0m\u001b[0;34m(\u001b[0m\u001b[0mself\u001b[0m\u001b[0;34m.\u001b[0m\u001b[0mname\u001b[0m\u001b[0;34m)\u001b[0m\u001b[0;34m\u001b[0m\u001b[0;34m\u001b[0m\u001b[0m\n\u001b[0m\u001b[1;32m     10\u001b[0m \u001b[0;34m\u001b[0m\u001b[0m\n\u001b[1;32m     11\u001b[0m         \u001b[0;32melse\u001b[0m\u001b[0;34m:\u001b[0m\u001b[0;34m\u001b[0m\u001b[0;34m\u001b[0m\u001b[0m\n",
      "\u001b[0;31mMaxAnzahlError\u001b[0m: Die Maximalanzahl an Geräten für den Account Bob ist erreicht."
     ]
    }
   ],
   "source": [
    "# 1\n",
    "acc.device_hinzufuegen(handy)"
   ]
  },
  {
   "cell_type": "code",
   "execution_count": 34,
   "id": "d9d35aaa-da14-4979-94d9-867ddc8dfdea",
   "metadata": {},
   "outputs": [
    {
     "ename": "MindestalterError",
     "evalue": "Das Mindesalter für den Film Matrix wurde um 5 Jahre unterschritten.",
     "output_type": "error",
     "traceback": [
      "\u001b[0;31m---------------------------------------------------------------------------\u001b[0m",
      "\u001b[0;31mMindestalterError\u001b[0m                         Traceback (most recent call last)",
      "\u001b[0;32m/var/folders/4v/7n25rgnx2zz8qd1csgnh63vw0000gn/T/ipykernel_8367/3692255471.py\u001b[0m in \u001b[0;36m<module>\u001b[0;34m\u001b[0m\n\u001b[1;32m      1\u001b[0m \u001b[0;31m# 2\u001b[0m\u001b[0;34m\u001b[0m\u001b[0;34m\u001b[0m\u001b[0m\n\u001b[0;32m----> 2\u001b[0;31m \u001b[0mmatrix\u001b[0m\u001b[0;34m.\u001b[0m\u001b[0malter_ueberpruefen\u001b[0m\u001b[0;34m(\u001b[0m\u001b[0macc\u001b[0m\u001b[0;34m)\u001b[0m\u001b[0;34m\u001b[0m\u001b[0;34m\u001b[0m\u001b[0m\n\u001b[0m",
      "\u001b[0;32m/var/folders/4v/7n25rgnx2zz8qd1csgnh63vw0000gn/T/ipykernel_8367/1671444708.py\u001b[0m in \u001b[0;36malter_ueberpruefen\u001b[0;34m(self, account)\u001b[0m\n\u001b[1;32m      7\u001b[0m     \u001b[0;32mdef\u001b[0m \u001b[0malter_ueberpruefen\u001b[0m\u001b[0;34m(\u001b[0m\u001b[0mself\u001b[0m\u001b[0;34m,\u001b[0m \u001b[0maccount\u001b[0m\u001b[0;34m)\u001b[0m\u001b[0;34m:\u001b[0m\u001b[0;34m\u001b[0m\u001b[0;34m\u001b[0m\u001b[0m\n\u001b[1;32m      8\u001b[0m         \u001b[0;32mif\u001b[0m \u001b[0mself\u001b[0m\u001b[0;34m.\u001b[0m\u001b[0mfsk\u001b[0m \u001b[0;34m>=\u001b[0m \u001b[0maccount\u001b[0m\u001b[0;34m.\u001b[0m\u001b[0malter\u001b[0m\u001b[0;34m:\u001b[0m\u001b[0;34m\u001b[0m\u001b[0;34m\u001b[0m\u001b[0m\n\u001b[0;32m----> 9\u001b[0;31m             \u001b[0;32mraise\u001b[0m \u001b[0mMindestalterError\u001b[0m\u001b[0;34m(\u001b[0m\u001b[0mself\u001b[0m\u001b[0;34m.\u001b[0m\u001b[0mname\u001b[0m\u001b[0;34m,\u001b[0m \u001b[0mself\u001b[0m\u001b[0;34m.\u001b[0m\u001b[0mfsk\u001b[0m\u001b[0;34m,\u001b[0m \u001b[0maccount\u001b[0m\u001b[0;34m.\u001b[0m\u001b[0malter\u001b[0m\u001b[0;34m)\u001b[0m\u001b[0;34m\u001b[0m\u001b[0;34m\u001b[0m\u001b[0m\n\u001b[0m\u001b[1;32m     10\u001b[0m \u001b[0;34m\u001b[0m\u001b[0m\n\u001b[1;32m     11\u001b[0m     \u001b[0;32mdef\u001b[0m \u001b[0mlade_rating\u001b[0m\u001b[0;34m(\u001b[0m\u001b[0mself\u001b[0m\u001b[0;34m,\u001b[0m \u001b[0mdf_rating\u001b[0m\u001b[0;34m)\u001b[0m\u001b[0;34m:\u001b[0m\u001b[0;34m\u001b[0m\u001b[0;34m\u001b[0m\u001b[0m\n",
      "\u001b[0;31mMindestalterError\u001b[0m: Das Mindesalter für den Film Matrix wurde um 5 Jahre unterschritten."
     ]
    }
   ],
   "source": [
    "# 2\n",
    "matrix.alter_ueberpruefen(acc)"
   ]
  },
  {
   "cell_type": "markdown",
   "id": "4d0333e2-ca31-4171-ac6c-a75e3cd1c69b",
   "metadata": {},
   "source": [
    "Folgende Zelle sollte nach der Bearbeitung der Aufgabe keine Fehler auslösen"
   ]
  },
  {
   "cell_type": "code",
   "execution_count": 39,
   "id": "5dccfbe8-8243-49ec-8a9d-90335cffb5ab",
   "metadata": {},
   "outputs": [],
   "source": [
    "# 3\n",
    "matrix.lade_rating(df_filme)"
   ]
  }
 ],
 "metadata": {
  "kernelspec": {
   "display_name": "Python 3 (ipykernel)",
   "language": "python",
   "name": "python3"
  },
  "language_info": {
   "codemirror_mode": {
    "name": "ipython",
    "version": 3
   },
   "file_extension": ".py",
   "mimetype": "text/x-python",
   "name": "python",
   "nbconvert_exporter": "python",
   "pygments_lexer": "ipython3",
   "version": "3.9.7"
  }
 },
 "nbformat": 4,
 "nbformat_minor": 5
}
