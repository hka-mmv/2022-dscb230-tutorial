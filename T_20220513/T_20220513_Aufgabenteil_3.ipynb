{
 "cells": [
  {
   "cell_type": "markdown",
   "metadata": {},
   "source": [
    "# Tutorium DSCB 230\n",
    "\n",
    "Tim Ehmann\n"
   ]
  },
  {
   "cell_type": "markdown",
   "metadata": {},
   "source": [
    "#### Aufgabe 3: Python 3.10 Features\n",
    "\n",
    "Für `for` Schleifen ist die `zip` Methode in vielen Fällen sehr hilfreich, um mehrere Listen überschaulich zu kombinieren. Dabei kann es jedoch zu nervigen und schwer zu findenden Bugs kommen, wenn die Listen unterschiedlich lang sind, besonders bei größeren Datensätzen."
   ]
  },
  {
   "cell_type": "code",
   "execution_count": null,
   "metadata": {},
   "outputs": [],
   "source": [
    "l1 = [\"Martin\", \"Paul\", \"Sahra\", \"Justin\", \"Emmy\"]\n",
    "l2 = [\"Stuttgart\", \"Karlsruhe\", \"Berlin\", \"Frankfurt\", \"München\"]\n",
    "l3 = [70173, 76187, 10115, 60306]\n",
    "\n",
    "for name, ort, plz in zip(l1, l2, l3):\n",
    "    print (f\"{name} aus {plz}-{ort} \")"
   ]
  },
  {
   "cell_type": "markdown",
   "metadata": {},
   "source": [
    "Wenn Sie den Code ausführen, merken Sie, dass die Informationen zu Emmy aus München verloren gegangen ist, da die Postleitzahl von ihr in der Liste fehlt. Diesen Bug abzufangen würde in 3.9 oder älteren Versionen einen Vergleich der Listenlängen benötigen. In 3.10 kam der Parameter `strict` zur Zip-Methode hinzu. Hierbei können nur noch gleichlange Iterables gezippt werden, wenn strict auf True gesetzt ist."
   ]
  },
  {
   "cell_type": "code",
   "execution_count": null,
   "metadata": {},
   "outputs": [],
   "source": [
    "for name, ort, plz in zip(l1, l2, l3, strict = True):\n",
    "    print (f\"{name} aus {plz}-{ort} \")"
   ]
  },
  {
   "cell_type": "markdown",
   "metadata": {},
   "source": [
    "Wenn Sie versuchen, diesen Code nun auszuführen, wird ein Fehler geworfen."
   ]
  },
  {
   "cell_type": "markdown",
   "metadata": {},
   "source": [
    "Aus den Statistik Vorlesungen von letztem Jahr sollte Ihnen der Pearsonsche Korrelationskoeffizient noch ein Begriff sein. Diesen zu berechnen ist jetzt seit Python 3.10 direkt implementiert und kann über das `statistics` modul mithilfe von `statistics.correlation()` verwendet werden. Diese Zahl beschreibt aber nur den Grad einer linearen Korrelation. Zudem kann mit `statistics.covariance()` die Kovarianz zweier Merkmale und mit `statistics.linear_regression()` die Parameter einer Regressiongeraden berechnet werden.\n",
    "\n",
    "Berechnen Sie zuerst den Pearsonschen Korrelationsgroße zwischen Alter und Größe bei Jungs und Mäödchen zwischen dem Alter 1 und 14. Stellen Sie danach die Größe von Mädchen und Jungs abhängig vom Alter mithilfe von matplotlib dar sowie die durch das statistics Modul berechnete Lineare Regressionsgerade."
   ]
  },
  {
   "cell_type": "code",
   "execution_count": null,
   "metadata": {},
   "outputs": [],
   "source": [
    "import statistics\n",
    "import matplotlib.pyplot as plt\n"
   ]
  }
 ],
 "metadata": {
  "interpreter": {
   "hash": "b0fa6594d8f4cbf19f97940f81e996739fb7646882a419484c72d19e05852a7e"
  },
  "kernelspec": {
   "display_name": "Python 3.9.7 64-bit",
   "language": "python",
   "name": "python3"
  },
  "language_info": {
   "codemirror_mode": {
    "name": "ipython",
    "version": 3
   },
   "file_extension": ".py",
   "mimetype": "text/x-python",
   "name": "python",
   "nbconvert_exporter": "python",
   "pygments_lexer": "ipython3",
   "version": "3.10.4"
  },
  "orig_nbformat": 4
 },
 "nbformat": 4,
 "nbformat_minor": 2
}
