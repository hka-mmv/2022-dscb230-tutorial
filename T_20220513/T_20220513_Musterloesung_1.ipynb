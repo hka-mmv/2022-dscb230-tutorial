{
 "cells": [
  {
   "cell_type": "markdown",
   "id": "c8bf5b07",
   "metadata": {
    "pycharm": {
     "name": "#%% md\n"
    }
   },
   "source": [
    "# Tutorium DSCB 230"
   ]
  },
  {
   "cell_type": "markdown",
   "id": "d058160b",
   "metadata": {
    "pycharm": {
     "name": "#%% md\n"
    }
   },
   "source": [
    "Raphaele Salvatore Licciardo\n"
   ]
  },
  {
   "cell_type": "markdown",
   "id": "17710d72",
   "metadata": {
    "pycharm": {
     "name": "#%% md\n"
    }
   },
   "source": [
    "### Aufgabe 1: Unit Test"
   ]
  },
  {
   "cell_type": "markdown",
   "id": "f4ed7d5f",
   "metadata": {
    "pycharm": {
     "name": "#%% md\n"
    }
   },
   "source": [
    "**Schreibt ein Programm welches Pi annähert.**\n",
    "\n",
    "Hierfür gibt es viele verschiedene Ansätze, es kann Pi mittels `math` oder auch `numpy` abgefragt werden. Versucht nun mittels der [Leibniz Formel](https://en.wikipedia.org/wiki/Leibniz_formula_for_%CF%80) Pi eigenständig zu errechnen. Anschließend soll das Ergebnis eurer eigenen Rechnung in einem Unit-Test überprüft werden. Wie kann nun eure Lösung überprüft werden, ohne Pi *hardcodiert* in den Code reinzuschreiben? Überprüfen Sie die ersten n Nachkommastellen.\n",
    "\n",
    "Fortgeschritte Aufgabe: Versucht ebenfalls Euler zu implementieren, erweitert entsprechend die Test Fälle."
   ]
  },
  {
   "cell_type": "code",
   "execution_count": 72,
   "id": "e65d49f2",
   "metadata": {},
   "outputs": [],
   "source": [
    "import math\n",
    "import unittest\n",
    "import numpy as np\n",
    "\n",
    "GENAUIGKEIT = 10000000"
   ]
  },
  {
   "cell_type": "code",
   "execution_count": 83,
   "id": "ba841f72",
   "metadata": {},
   "outputs": [],
   "source": [
    "def leibniz():\n",
    "    myPi, k = 0, 0\n",
    "    while int(round(myPi * GENAUIGKEIT * 4)) != int(round(math.pi * GENAUIGKEIT)):\n",
    "        myPi += math.pow(-1, k) / (2.0 * k + 1.0)\n",
    "        k += 1\n",
    "    return myPi * 4"
   ]
  },
  {
   "cell_type": "code",
   "execution_count": 84,
   "id": "a6b93b48",
   "metadata": {},
   "outputs": [],
   "source": [
    "def euler(): \n",
    "    myPi, sn, k = 0, 1, 1\n",
    "    while int(round(myPi * (GENAUIGKEIT * 100))) != int(round(sn * (GENAUIGKEIT*100))):\n",
    "        sn = myPi;\n",
    "        myPi += 1 / math.pow(k, 2)\n",
    "        k += 1\n",
    "    return math.sqrt(myPi * 6)"
   ]
  },
  {
   "cell_type": "code",
   "execution_count": 85,
   "id": "1157e671",
   "metadata": {},
   "outputs": [
    {
     "name": "stderr",
     "output_type": "stream",
     "text": [
      ".......\n",
      "----------------------------------------------------------------------\n",
      "Ran 7 tests in 0.002s\n",
      "\n",
      "OK\n"
     ]
    }
   ],
   "source": [
    "class TestPi(unittest.TestCase):\n",
    "    \n",
    "    digits = 4\n",
    "    \n",
    "    sol_math = round(math.pi, digits)\n",
    "    sol_np = round(np.pi, digits)\n",
    "    sol_leibniz = round(leibniz(), digits)\n",
    "    sol_euler = round(euler(), digits)\n",
    "    \n",
    "    def test_leibniz_np(self): \n",
    "        self.assertEqual(self.sol_leibniz, self.sol_np)\n",
    "                        \n",
    "    def test_leibniz_math(self): \n",
    "        self.assertEqual(self.sol_leibniz, self.sol_math)\n",
    "                        \n",
    "    def test_leibniz_euler(self): \n",
    "        self.assertEqual(self.sol_leibniz, self.sol_euler)\n",
    "\n",
    "    def test_math_np(self): \n",
    "        self.assertEqual(self.sol_math, self.sol_np)\n",
    "\n",
    "if __name__ == '__main__':\n",
    "    unittest.main(argv=['first-arg-is-ignored'], exit=False)"
   ]
  }
 ],
 "metadata": {
  "kernelspec": {
   "display_name": "Python 3 (ipykernel)",
   "language": "python",
   "name": "python3"
  },
  "language_info": {
   "codemirror_mode": {
    "name": "ipython",
    "version": 3
   },
   "file_extension": ".py",
   "mimetype": "text/x-python",
   "name": "python",
   "nbconvert_exporter": "python",
   "pygments_lexer": "ipython3",
   "version": "3.10.4"
  }
 },
 "nbformat": 4,
 "nbformat_minor": 5
}
