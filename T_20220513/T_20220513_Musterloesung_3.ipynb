{
 "cells": [
  {
   "cell_type": "markdown",
   "metadata": {},
   "source": [
    "# Tutorium DSCB 230\n",
    "\n",
    "Tim Ehmann\n"
   ]
  },
  {
   "cell_type": "markdown",
   "metadata": {},
   "source": [
    "#### Aufgabe 3: Python 3.10 Features\n",
    "\n",
    "Für `for` Schleifen ist die `zip` Methode in vielen Fällen sehr hilfreich, um mehrere Listen überschaulich zu kombinieren. Dabei kann es jedoch zu nervigen und schwer zu findenden Bugs kommen, wenn die Listen unterschiedlich lang sind, besonders bei größeren Datensätzen."
   ]
  },
  {
   "cell_type": "code",
   "execution_count": 19,
   "metadata": {},
   "outputs": [
    {
     "name": "stdout",
     "output_type": "stream",
     "text": [
      "Martin aus 70173-Stuttgart \n",
      "Paul aus 76187-Karlsruhe \n",
      "Sahra aus 10115-Berlin \n",
      "Justin aus 60306-Frankfurt \n"
     ]
    }
   ],
   "source": [
    "l1 = [\"Martin\", \"Paul\", \"Sahra\", \"Justin\", \"Emmy\"]\n",
    "l2 = [\"Stuttgart\", \"Karlsruhe\", \"Berlin\", \"Frankfurt\", \"München\"]\n",
    "l3 = [70173, 76187, 10115, 60306]\n",
    "\n",
    "for name, ort, plz in zip(l1, l2, l3):\n",
    "    print (f\"{name} aus {plz}-{ort} \")"
   ]
  },
  {
   "cell_type": "markdown",
   "metadata": {},
   "source": [
    "Wenn Sie den Code ausführen, merken Sie, dass die Informationen zu Emmy aus München verloren gegangen ist, da die Postleitzahl von ihr in der Liste fehlt. Diesen Bug abzufangen würde in 3.9 oder älteren Versionen einen Vergleich der Listenlängen benötigen. In 3.10 kam der Parameter `strict` zur Zip-Methode hinzu. Hierbei können nur noch gleichlange Iterables gezippt werden, wenn strict auf True gesetzt ist."
   ]
  },
  {
   "cell_type": "code",
   "execution_count": 18,
   "metadata": {},
   "outputs": [
    {
     "name": "stdout",
     "output_type": "stream",
     "text": [
      "Martin aus 70173-Stuttgart \n",
      "Paul aus 76187-Karlsruhe \n",
      "Sahra aus 10115-Berlin \n",
      "Justin aus 60306-Frankfurt \n"
     ]
    },
    {
     "ename": "ValueError",
     "evalue": "zip() argument 3 is shorter than arguments 1-2",
     "output_type": "error",
     "traceback": [
      "\u001b[0;31m---------------------------------------------------------------------------\u001b[0m",
      "\u001b[0;31mValueError\u001b[0m                                Traceback (most recent call last)",
      "\u001b[1;32m/Users/timehmann/Library/Mobile Documents/com~apple~CloudDocs/Studium/Data_Science_Semester2/Informatik_2/Tutorium/Aufgaben für 2022-05-13/T_20220513_Aufgabenteil_3.ipynb Cell 5'\u001b[0m in \u001b[0;36m<cell line: 1>\u001b[0;34m()\u001b[0m\n\u001b[0;32m----> <a href='vscode-notebook-cell:/Users/timehmann/Library/Mobile%20Documents/com~apple~CloudDocs/Studium/Data_Science_Semester2/Informatik_2/Tutorium/Aufgaben%20f%C3%BCr%202022-05-13/T_20220513_Aufgabenteil_3.ipynb#ch0000004?line=0'>1</a>\u001b[0m \u001b[39mfor\u001b[39;00m name, ort, plz \u001b[39min\u001b[39;00m \u001b[39mzip\u001b[39m(l1, l2, l3, strict \u001b[39m=\u001b[39m \u001b[39mTrue\u001b[39;00m):\n\u001b[1;32m      <a href='vscode-notebook-cell:/Users/timehmann/Library/Mobile%20Documents/com~apple~CloudDocs/Studium/Data_Science_Semester2/Informatik_2/Tutorium/Aufgaben%20f%C3%BCr%202022-05-13/T_20220513_Aufgabenteil_3.ipynb#ch0000004?line=1'>2</a>\u001b[0m     \u001b[39mprint\u001b[39m (\u001b[39mf\u001b[39m\u001b[39m\"\u001b[39m\u001b[39m{\u001b[39;00mname\u001b[39m}\u001b[39;00m\u001b[39m aus \u001b[39m\u001b[39m{\u001b[39;00mplz\u001b[39m}\u001b[39;00m\u001b[39m-\u001b[39m\u001b[39m{\u001b[39;00mort\u001b[39m}\u001b[39;00m\u001b[39m \u001b[39m\u001b[39m\"\u001b[39m)\n",
      "\u001b[0;31mValueError\u001b[0m: zip() argument 3 is shorter than arguments 1-2"
     ]
    }
   ],
   "source": [
    "for name, ort, plz in zip(l1, l2, l3, strict = True):\n",
    "    print (f\"{name} aus {plz}-{ort} \")"
   ]
  },
  {
   "cell_type": "markdown",
   "metadata": {},
   "source": [
    "Wenn Sie versuchen, diesen Code nun auszuführen, wird ein Fehler geworfen."
   ]
  },
  {
   "cell_type": "markdown",
   "metadata": {},
   "source": [
    "Aus den Statistik Vorlesungen von letztem Jahr sollte Ihnen der Pearsonsche Korrelationskoeffizient noch ein Begriff sein. Diesen zu berechnen ist jetzt seit Python 3.10 direkt implementiert und kann über das `statistics` modul mithilfe von `statistics.correlation()` verwendet werden. Diese Zahl beschreibt aber nur den Grad einer linearen Korrelation. Zudem kann mit `statistics.covariance()` die Kovarianz zweier Merkmale und mit `statistics.linear_regression()` die Parameter einer Regressiongeraden berechnet werden.\n",
    "\n",
    "Berechnen Sie zuerst den Pearsonschen Korrelationsgroße zwischen Alter und Größe bei Jungs und Mäödchen zwischen dem Alter 1 und 14. Stellen Sie danach die Größe von Mädchen und Jungs abhängig vom Alter mithilfe von matplotlib dar sowie die durch das statistics Modul berechnete Lineare Regressionsgerade."
   ]
  },
  {
   "cell_type": "code",
   "execution_count": 17,
   "metadata": {},
   "outputs": [
    {
     "name": "stdout",
     "output_type": "stream",
     "text": [
      "Korrelationskoeffizient Mädchen: 0.9959443615081378\n",
      "Korrelationskoeffizient Mädchen: 0.9966667127911837\n"
     ]
    },
    {
     "data": {
      "image/png": "[encoded data removed]",
      "text/plain": [
       "<Figure size 432x288 with 1 Axes>"
      ]
     },
     "metadata": {
      "needs_background": "light"
     },
     "output_type": "display_data"
    }
   ],
   "source": [
    "import statistics\n",
    "import matplotlib.pyplot as plt\n",
    "\n",
    "größe_Mädchen = [75, 87, 96, 103, 111, 117, 122, 129, 135, 142, 148, 154, 158, 165]\n",
    "alter_Mädchen = [i for i in range(1,15)]\n",
    "\n",
    "größe_Jungs = [77, 89, 97, 104, 111, 117, 124, 130, 135, 141, 147, 156, 161, 174]\n",
    "alter_Jungs = [i for i in range(1,15)]\n",
    "\n",
    "print(f'Korrelationskoeffizient Mädchen: {statistics.correlation(alter_Mädchen, größe_Mädchen)}')\n",
    "print(f'Korrelationskoeffizient Mädchen: {statistics.correlation(alter_Jungs, größe_Jungs)}')\n",
    "a_Mädchen, b_Mädchen = statistics.linear_regression(alter_Mädchen, größe_Mädchen)[0], statistics.linear_regression(alter_Mädchen, größe_Mädchen)[1]\n",
    "a_jungs, b_jungs = statistics.linear_regression(alter_Jungs, größe_Jungs)[0], statistics.linear_regression(alter_Jungs, größe_Jungs)[1]\n",
    "\n",
    "plt.plot(alter_Mädchen, größe_Mädchen, label = \"Mädchen\")\n",
    "plt.plot(alter_Jungs, größe_Jungs, label = 'Jungs')\n",
    "plt.plot([1, 14],[b_Mädchen+a_Mädchen, b_Mädchen+a_Mädchen*14])\n",
    "plt.plot([1, 14],[b_jungs+a_jungs, b_jungs+a_jungs*14])\n",
    "plt.show()"
   ]
  }
 ],
 "metadata": {
  "interpreter": {
   "hash": "b0fa6594d8f4cbf19f97940f81e996739fb7646882a419484c72d19e05852a7e"
  },
  "kernelspec": {
   "display_name": "Python 3.9.7 64-bit",
   "language": "python",
   "name": "python3"
  },
  "language_info": {
   "codemirror_mode": {
    "name": "ipython",
    "version": 3
   },
   "file_extension": ".py",
   "mimetype": "text/x-python",
   "name": "python",
   "nbconvert_exporter": "python",
   "pygments_lexer": "ipython3",
   "version": "3.10.4"
  },
  "orig_nbformat": 4
 },
 "nbformat": 4,
 "nbformat_minor": 2
}
