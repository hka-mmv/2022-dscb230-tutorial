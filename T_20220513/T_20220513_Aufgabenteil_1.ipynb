{
 "cells": [
  {
   "cell_type": "markdown",
   "id": "c8bf5b07",
   "metadata": {
    "pycharm": {
     "name": "#%% md\n"
    }
   },
   "source": [
    "# Tutorium DSCB 230"
   ]
  },
  {
   "cell_type": "markdown",
   "id": "d058160b",
   "metadata": {
    "pycharm": {
     "name": "#%% md\n"
    }
   },
   "source": [
    "Raphaele Salvatore Licciardo\n"
   ]
  },
  {
   "cell_type": "markdown",
   "id": "17710d72",
   "metadata": {
    "pycharm": {
     "name": "#%% md\n"
    }
   },
   "source": [
    "### Aufgabe 1: Unit Test"
   ]
  },
  {
   "cell_type": "markdown",
   "id": "f4ed7d5f",
   "metadata": {
    "pycharm": {
     "name": "#%% md\n"
    }
   },
   "source": [
    "**Schreibt ein Programm welches Pi annähert.**\n",
    "\n",
    "Hierfür gibt es viele verschiedene Ansätze, es kann Pi mittels `math` oder auch `numpy` abgefragt werden. Versucht nun mittels der [Leibniz Formel](https://en.wikipedia.org/wiki/Leibniz_formula_for_%CF%80) Pi eigenständig zu errechnen. Anschließend soll das Ergebnis eurer eigenen Rechnung in einem Unit-Test überprüft werden. Wie kann nun eure Lösung überprüft werden, ohne Pi *hardcodiert* in den Code reinzuschreiben? Überprüfen Sie die ersten n Nachkommastellen.\n",
    "\n",
    "Fortgeschritte Aufgabe: Versucht ebenfalls Euler zu implementieren, erweitert entsprechend die Test Fälle."
   ]
  },
  {
   "cell_type": "code",
   "execution_count": 1,
   "id": "0ea4a5ea",
   "metadata": {},
   "outputs": [],
   "source": [
    "import math\n",
    "import unittest\n",
    "import numpy as np\n",
    "\n",
    "GENAUIGKEIT = 10000000"
   ]
  },
  {
   "cell_type": "code",
   "execution_count": 83,
   "id": "640c0f8c",
   "metadata": {},
   "outputs": [],
   "source": [
    "# Sie müssen nur die Lücken (_______) auffüllen.\n",
    "def leibniz():\n",
    "    myPi, k = 0, 0\n",
    "    while int(round(myPi * _______ * 4)) != int(round(math.pi * _______)):\n",
    "        myPi += _______\n",
    "        k += 1\n",
    "    return myPi * 4"
   ]
  },
  {
   "cell_type": "code",
   "execution_count": 84,
   "id": "8815174e",
   "metadata": {},
   "outputs": [],
   "source": [
    "# FORTGESCHRITTEN\n",
    "# Sie müssen nur die Lücken (_______) auffüllen.\n",
    "def euler(): \n",
    "    myPi, sn, k = 0, 1, 1\n",
    "    while int(round(myPi * (_______ * 100))) != int(round(sn * (_______*100))):\n",
    "        sn = myPi;\n",
    "        myPi += _______\n",
    "        k += 1\n",
    "    return math.sqrt(myPi * 6)"
   ]
  },
  {
   "cell_type": "code",
   "execution_count": 4,
   "id": "cf2a38f8",
   "metadata": {},
   "outputs": [
    {
     "name": "stderr",
     "output_type": "stream",
     "text": [
      "..\n",
      "----------------------------------------------------------------------\n",
      "Ran 2 tests in 0.002s\n",
      "\n",
      "OK\n"
     ]
    }
   ],
   "source": [
    "class TestPi(unittest.TestCase):\n",
    "        \n",
    "    def test_1(self): \n",
    "        self.assertEqual(5, 2+3)\n",
    "        \n",
    "    def test_2(self): \n",
    "        self.assertFalse(5 == 2)\n",
    "\n",
    "if __name__ == '__main__':\n",
    "    unittest.main(argv=['first-arg-is-ignored'], exit=False)"
   ]
  },
  {
   "cell_type": "code",
   "execution_count": null,
   "id": "ac178af3",
   "metadata": {},
   "outputs": [],
   "source": []
  }
 ],
 "metadata": {
  "kernelspec": {
   "display_name": "Python 3 (ipykernel)",
   "language": "python",
   "name": "python3"
  },
  "language_info": {
   "codemirror_mode": {
    "name": "ipython",
    "version": 3
   },
   "file_extension": ".py",
   "mimetype": "text/x-python",
   "name": "python",
   "nbconvert_exporter": "python",
   "pygments_lexer": "ipython3",
   "version": "3.10.4"
  }
 },
 "nbformat": 4,
 "nbformat_minor": 5
}
