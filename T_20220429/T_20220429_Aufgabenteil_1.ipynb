{
 "cells": [
  {
   "cell_type": "markdown",
   "id": "c8bf5b07",
   "metadata": {},
   "source": [
    "# Tutorium DSCB 230"
   ]
  },
  {
   "cell_type": "markdown",
   "id": "d058160b",
   "metadata": {},
   "source": [
    "Raphaele Salvatore Licciardo\n"
   ]
  },
  {
   "cell_type": "markdown",
   "id": "06ea89ff",
   "metadata": {},
   "source": [
    "## T_20220429"
   ]
  },
  {
   "cell_type": "markdown",
   "id": "726b28d0",
   "metadata": {},
   "source": [
    "### Aufgabe 1: Data Cleaning + Matplotlib\n",
    "\n",
    "Lesen Sie die Beispielhaften Dummy Daten MOCK_DATA.csv ein und speichern Sie diese in einem Dataframe. Das sind z.T. sehr viele NaN Werte. Wenn alle Daten ignoriert werden würden, würden nicht mehr viele übrig bleiben. Wir verfolgen zunächst folgende Strategie: \n",
    "- Für numerische Werte wird für einen fehlenden Wert der Mittelwert der restlichen Werte eingesetzt.\n",
    "- Für nicht-numerische Werte wird für einen fehlenden Wert der häufigsten Wert (=Modus) der restlichen Werte eingesetzt.\n",
    "\n",
    "Zum Auffüllen der Werte stellt scikit-learn die Klasse SimpleImputer bereit.\n",
    "\n",
    "Im weiteren Sollen Sie nun die Häufigkeitsverteilungen (Methode: value_counts()) für das Attribut gender ermittelt und Grafisch darstellt werden. Beachten Sie das ein Säulen und Liniendiagram in einem Subplot ausgegeben werden soll."
   ]
  }
 ],
 "metadata": {
  "kernelspec": {
   "display_name": "Python 3 (ipykernel)",
   "language": "python",
   "name": "python3"
  },
  "language_info": {
   "codemirror_mode": {
    "name": "ipython",
    "version": 3
   },
   "file_extension": ".py",
   "mimetype": "text/x-python",
   "name": "python",
   "nbconvert_exporter": "python",
   "pygments_lexer": "ipython3",
   "version": "3.9.12"
  }
 },
 "nbformat": 4,
 "nbformat_minor": 5
}
