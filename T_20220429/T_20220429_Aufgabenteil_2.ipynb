{
 "cells": [
  {
   "cell_type": "markdown",
   "id": "4f2a99b5-2cf0-422c-b082-4b564273cb22",
   "metadata": {},
   "source": [
    "# Tutorium DSCB 230"
   ]
  },
  {
   "cell_type": "markdown",
   "id": "f4fcd0aa-9ae5-49fe-9fac-485706ed3609",
   "metadata": {},
   "source": [
    "fj"
   ]
  },
  {
   "cell_type": "markdown",
   "id": "519a34e9-16d4-4908-ad97-ded8646aee64",
   "metadata": {},
   "source": [
    "### 29.04.2022"
   ]
  },
  {
   "cell_type": "markdown",
   "id": "2127d833-ec8b-4f54-accd-3118776612e2",
   "metadata": {},
   "source": [
    "### Aufgabe 2 Time Series Analysis mit Pandas"
   ]
  },
  {
   "cell_type": "markdown",
   "id": "74c52775-12ed-4e1c-b4ad-d670dfb0ff7a",
   "metadata": {
    "tags": []
   },
   "source": [
    "Sie haben verschiedene Temperatursensoren installiert, die die Temperatur im 15-Minuten-Takt messen. Jeder Sensor speichert dabei zwei Werte in einer CSV-Datei ab. Sie finden diese Sensordaten in \"sensor1.csv\", \"sensor2.csv\" und \"sensor3.csv\".\n",
    "\n",
    "*Hinweis:* Sollten Sie nicht weiterkommen, bzw. wissen Sie nicht, welche Methoden Sie verwenden können, schauen Sie sich die Hinweise am Ende des Notebooks an.\n",
    "\n",
    "#### 1) Einlesen der Daten\n",
    "- Ihre erste Aufgabe ist es jede CSV-Datei als ein pandas DataFrame einzulesen und anschließend zu einem DataFrame zu kombinieren.\n",
    "- Passen Sie den Datentyp des Zeitstempels an und setzen Sie die Indizes des DataFrames auf die Werte der Zeitstempel"
   ]
  },
  {
   "cell_type": "markdown",
   "id": "0a972bbc-7cea-47d4-8f33-6243b271cad9",
   "metadata": {},
   "source": [
    "#### 2) Zugriff auf Daten der Time Series\n",
    "- Geben Sie alle Sensordaten um 7 Uhr aus\n",
    "- Geben Sie alle Sensordaten zwischen 8 und 10 Uhr aus"
   ]
  },
  {
   "cell_type": "markdown",
   "id": "631c3fbf-195e-4f4d-9316-a5b7d8a52e0f",
   "metadata": {},
   "source": [
    "#### 3) Berechnungen\n",
    "- Berechnen Sie den Tagesdurchschnitt jedes Sensors\n",
    "- Berechnen Sie den Durchschnitt aller Sensoren und speichern Sie die Werte in einer extra Spalte\n",
    "- Berechnen Sie den gleitenden Durchschnitt 5. Ordnung und speichern Sie die Werte in einer extra Spalte\n",
    "- Berechnen Sie die Temperaturänderung des einfachen Durchschnitts pro Uhrzeit (Änderung zum vorherigen Durchschnitt)"
   ]
  },
  {
   "cell_type": "markdown",
   "id": "e7cd1438-34ab-42f7-9d02-fba924fbc813",
   "metadata": {},
   "source": [
    "#### 4) Visualisieren\n",
    "- Stellen Sie den Verlauf des Durchschnitts, sowie des gleitenden Durchschnitts jeweils als Liniendiagramm dar. \n",
    "\n",
    "*(Empfehlung: nutzen Sie aus Gründen der Übersichtlichkeit zwei verschiedene Diagramme)*"
   ]
  },
  {
   "cell_type": "markdown",
   "id": "46c660ae-33f5-4374-8b46-c8c841f9dfc5",
   "metadata": {},
   "source": [
    "#### Hinweise\n",
    "1) read_csv(), merge(), to_datetime(), set_index()\n",
    "2) loc[value], loc[value:value2]\n",
    "3) mean() -> axis-Attribut betrachten, rolling(), diff(), shift()"
   ]
  }
 ],
 "metadata": {
  "kernelspec": {
   "display_name": "Python 3 (ipykernel)",
   "language": "python",
   "name": "python3"
  },
  "language_info": {
   "codemirror_mode": {
    "name": "ipython",
    "version": 3
   },
   "file_extension": ".py",
   "mimetype": "text/x-python",
   "name": "python",
   "nbconvert_exporter": "python",
   "pygments_lexer": "ipython3",
   "version": "3.9.7"
  }
 },
 "nbformat": 4,
 "nbformat_minor": 5
}
