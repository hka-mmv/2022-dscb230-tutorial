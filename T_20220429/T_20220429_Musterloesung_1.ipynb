{
 "cells": [
  {
   "cell_type": "markdown",
   "id": "c8bf5b07",
   "metadata": {},
   "source": [
    "# Tutorium DSCB 230"
   ]
  },
  {
   "cell_type": "markdown",
   "id": "d058160b",
   "metadata": {},
   "source": [
    "Raphaele Salvatore Licciardo\n"
   ]
  },
  {
   "cell_type": "markdown",
   "id": "06ea89ff",
   "metadata": {},
   "source": [
    "## T_20220429"
   ]
  },
  {
   "cell_type": "markdown",
   "id": "726b28d0",
   "metadata": {},
   "source": [
    "### Aufgabe 1: Data Cleaning + Matplotlib\n",
    "\n",
    "Lesen Sie die Beispielhaften Dummy Daten MOCK_DATA.csv ein und speichern Sie diese in einem Dataframe. Das sind z.T. sehr viele NaN Werte. Wenn alle Daten ignoriert werden würden, würden nicht mehr viele übrig bleiben. Wir verfolgen zunächst folgende Strategie: \n",
    "- Für numerische Werte wird für einen fehlenden Wert der Mittelwert der restlichen Werte eingesetzt.\n",
    "- Für nicht-numerische Werte wird für einen fehlenden Wert der häufigsten Wert (=Modus) der restlichen Werte eingesetzt.\n",
    "\n",
    "Zum Auffüllen der Werte stellt scikit-learn die Klasse SimpleImputer bereit.\n",
    "\n",
    "Im weiteren Sollen Sie nun die Häufigkeitsverteilungen (Methode: value_counts()) für das Attribut gender ermittelt und Grafisch darstellt werden. Beachten Sie das ein Säulen und Liniendiagram in einem Subplot ausgegeben werden soll."
   ]
  },
  {
   "cell_type": "code",
   "execution_count": 4,
   "id": "ac9b820c",
   "metadata": {},
   "outputs": [],
   "source": [
    "import pandas as pd\n",
    "import numpy as np\n",
    "import matplotlib.pyplot as plt\n",
    "from sklearn.impute import SimpleImputer\n",
    "\n",
    "pd.options.display.max_columns = 50\n",
    "\n",
    "df = pd.read_csv(\"MOCK_DATA.csv\")"
   ]
  },
  {
   "cell_type": "code",
   "execution_count": 2,
   "id": "f2d9f21d",
   "metadata": {},
   "outputs": [
    {
     "data": {
      "text/plain": [
       "id              0\n",
       "first_name      0\n",
       "last_name       0\n",
       "email           0\n",
       "gender          0\n",
       "ip_address    217\n",
       "dtype: int64"
      ]
     },
     "execution_count": 2,
     "metadata": {},
     "output_type": "execute_result"
    }
   ],
   "source": [
    "# Zähle alle NaN Werte bevor sie herausgefiltert werden\n",
    "df.isna().sum()"
   ]
  },
  {
   "cell_type": "code",
   "execution_count": 5,
   "id": "9a37beec",
   "metadata": {},
   "outputs": [
    {
     "data": {
      "text/html": [
       "<div>\n",
       "<style scoped>\n",
       "    .dataframe tbody tr th:only-of-type {\n",
       "        vertical-align: middle;\n",
       "    }\n",
       "\n",
       "    .dataframe tbody tr th {\n",
       "        vertical-align: top;\n",
       "    }\n",
       "\n",
       "    .dataframe thead th {\n",
       "        text-align: right;\n",
       "    }\n",
       "</style>\n",
       "<table border=\"1\" class=\"dataframe\">\n",
       "  <thead>\n",
       "    <tr style=\"text-align: right;\">\n",
       "      <th></th>\n",
       "      <th>id</th>\n",
       "      <th>first_name</th>\n",
       "      <th>last_name</th>\n",
       "      <th>email</th>\n",
       "      <th>gender</th>\n",
       "      <th>ip_address</th>\n",
       "    </tr>\n",
       "  </thead>\n",
       "  <tbody>\n",
       "    <tr>\n",
       "      <th>0</th>\n",
       "      <td>1.0</td>\n",
       "      <td>Rafaellle</td>\n",
       "      <td>Gabbott</td>\n",
       "      <td>rgabbott0@theguardian.com</td>\n",
       "      <td>Male</td>\n",
       "      <td>0.213.82.66</td>\n",
       "    </tr>\n",
       "    <tr>\n",
       "      <th>1</th>\n",
       "      <td>2.0</td>\n",
       "      <td>Ellerey</td>\n",
       "      <td>Gudgion</td>\n",
       "      <td>egudgion1@seattletimes.com</td>\n",
       "      <td>Male</td>\n",
       "      <td>207.26.67.233</td>\n",
       "    </tr>\n",
       "    <tr>\n",
       "      <th>2</th>\n",
       "      <td>3.0</td>\n",
       "      <td>Lionello</td>\n",
       "      <td>Timmermann</td>\n",
       "      <td>ltimmermann2@aol.com</td>\n",
       "      <td>Male</td>\n",
       "      <td>131.92.198.132</td>\n",
       "    </tr>\n",
       "    <tr>\n",
       "      <th>3</th>\n",
       "      <td>4.0</td>\n",
       "      <td>Alva</td>\n",
       "      <td>Burnell</td>\n",
       "      <td>aburnell3@smh.com.au</td>\n",
       "      <td>Male</td>\n",
       "      <td>158.10.101.170</td>\n",
       "    </tr>\n",
       "    <tr>\n",
       "      <th>4</th>\n",
       "      <td>5.0</td>\n",
       "      <td>Dur</td>\n",
       "      <td>Dulanty</td>\n",
       "      <td>ddulanty4@cmu.edu</td>\n",
       "      <td>Male</td>\n",
       "      <td>238.153.6.253</td>\n",
       "    </tr>\n",
       "    <tr>\n",
       "      <th>...</th>\n",
       "      <td>...</td>\n",
       "      <td>...</td>\n",
       "      <td>...</td>\n",
       "      <td>...</td>\n",
       "      <td>...</td>\n",
       "      <td>...</td>\n",
       "    </tr>\n",
       "    <tr>\n",
       "      <th>995</th>\n",
       "      <td>996.0</td>\n",
       "      <td>Dore</td>\n",
       "      <td>De Fraine</td>\n",
       "      <td>ddefrainern@statcounter.com</td>\n",
       "      <td>Male</td>\n",
       "      <td>101.147.83.65</td>\n",
       "    </tr>\n",
       "    <tr>\n",
       "      <th>996</th>\n",
       "      <td>997.0</td>\n",
       "      <td>Tamera</td>\n",
       "      <td>Marzella</td>\n",
       "      <td>tmarzellaro@odnoklassniki.ru</td>\n",
       "      <td>Female</td>\n",
       "      <td>62.193.131.20</td>\n",
       "    </tr>\n",
       "    <tr>\n",
       "      <th>997</th>\n",
       "      <td>998.0</td>\n",
       "      <td>Bill</td>\n",
       "      <td>Killingworth</td>\n",
       "      <td>bkillingworthrp@cafepress.com</td>\n",
       "      <td>Female</td>\n",
       "      <td>125.153.236.230</td>\n",
       "    </tr>\n",
       "    <tr>\n",
       "      <th>998</th>\n",
       "      <td>999.0</td>\n",
       "      <td>Pearce</td>\n",
       "      <td>Pasquale</td>\n",
       "      <td>ppasqualerq@feedburner.com</td>\n",
       "      <td>Male</td>\n",
       "      <td>0.213.82.66</td>\n",
       "    </tr>\n",
       "    <tr>\n",
       "      <th>999</th>\n",
       "      <td>1000.0</td>\n",
       "      <td>Nickie</td>\n",
       "      <td>Ghelardoni</td>\n",
       "      <td>nghelardonirr@berkeley.edu</td>\n",
       "      <td>Male</td>\n",
       "      <td>0.213.82.66</td>\n",
       "    </tr>\n",
       "  </tbody>\n",
       "</table>\n",
       "<p>1000 rows × 6 columns</p>\n",
       "</div>"
      ],
      "text/plain": [
       "         id first_name     last_name                          email  gender  \\\n",
       "0       1.0  Rafaellle       Gabbott      rgabbott0@theguardian.com    Male   \n",
       "1       2.0    Ellerey       Gudgion     egudgion1@seattletimes.com    Male   \n",
       "2       3.0   Lionello    Timmermann           ltimmermann2@aol.com    Male   \n",
       "3       4.0       Alva       Burnell           aburnell3@smh.com.au    Male   \n",
       "4       5.0        Dur       Dulanty              ddulanty4@cmu.edu    Male   \n",
       "..      ...        ...           ...                            ...     ...   \n",
       "995   996.0       Dore     De Fraine    ddefrainern@statcounter.com    Male   \n",
       "996   997.0     Tamera      Marzella   tmarzellaro@odnoklassniki.ru  Female   \n",
       "997   998.0       Bill  Killingworth  bkillingworthrp@cafepress.com  Female   \n",
       "998   999.0     Pearce      Pasquale     ppasqualerq@feedburner.com    Male   \n",
       "999  1000.0     Nickie    Ghelardoni     nghelardonirr@berkeley.edu    Male   \n",
       "\n",
       "          ip_address  \n",
       "0        0.213.82.66  \n",
       "1      207.26.67.233  \n",
       "2     131.92.198.132  \n",
       "3     158.10.101.170  \n",
       "4      238.153.6.253  \n",
       "..               ...  \n",
       "995    101.147.83.65  \n",
       "996    62.193.131.20  \n",
       "997  125.153.236.230  \n",
       "998      0.213.82.66  \n",
       "999      0.213.82.66  \n",
       "\n",
       "[1000 rows x 6 columns]"
      ]
     },
     "execution_count": 5,
     "metadata": {},
     "output_type": "execute_result"
    }
   ],
   "source": [
    "# NaN Werte entfernen\n",
    "\n",
    "# ermittle alle Numerischen Columns\n",
    "num = df.select_dtypes(\"number\").columns\n",
    "# ermittle alle nicht-Numerischen Columns\n",
    "qua = df.select_dtypes(\"object\").columns\n",
    "\n",
    "# Entferne die Numerischen Columns, indem die NaN Werte durch den Mittelwert ersetzt werden.\n",
    "imp_mean = SimpleImputer(missing_values=np.nan, strategy= 'mean').fit(df[num])\n",
    "# Entferne die Numerischen Columns, indem die NaN Werte durch den häufigsten Wert ersetzt werden.\n",
    "imp_most = SimpleImputer(missing_values=np.nan, strategy= 'most_frequent').fit(df[qua])\n",
    "\n",
    "# Transformieren und Speichern der Werte\n",
    "df[num] = imp_mean.transform(df[num])\n",
    "df[qua] = imp_most.transform(df[qua])\n",
    "\n",
    "# Ausgabe\n",
    "df"
   ]
  },
  {
   "cell_type": "code",
   "execution_count": 6,
   "id": "21173219",
   "metadata": {},
   "outputs": [
    {
     "data": {
      "text/plain": [
       "id            0\n",
       "first_name    0\n",
       "last_name     0\n",
       "email         0\n",
       "gender        0\n",
       "ip_address    0\n",
       "dtype: int64"
      ]
     },
     "execution_count": 6,
     "metadata": {},
     "output_type": "execute_result"
    }
   ],
   "source": [
    "# Zähle alle NaN Werte nachdem sie herausgefiltert werden\n",
    "df.isna().sum()"
   ]
  },
  {
   "cell_type": "code",
   "execution_count": 7,
   "id": "c8ca9843",
   "metadata": {},
   "outputs": [
    {
     "data": {
      "image/png": "[encoded data removed]",
      "text/plain": [
       "<Figure size 1080x360 with 2 Axes>"
      ]
     },
     "metadata": {
      "needs_background": "light"
     },
     "output_type": "display_data"
    }
   ],
   "source": [
    "# Subplot erstellen mit zwei Graphen mit einer Größe von 15x5\n",
    "fig, (ax1, ax2) = plt.subplots(1, 2, figsize=(15,5))\n",
    "# Graph 1: Balkendiagramm\n",
    "df.value_counts(df[\"gender\"]).plot(kind=\"bar\", ax=ax1)\n",
    "# Graph 2: Säulendiagramm\n",
    "df.value_counts(df[\"gender\"]).plot(ax=ax2)\n",
    "# Rotieren der x Achsen Labels um keine Überschneidungen zu haben\n",
    "plt.xticks(rotation=90)\n",
    "# Ausgabe\n",
    "plt.show()"
   ]
  },
  {
   "cell_type": "code",
   "execution_count": null,
   "id": "cfc0c244",
   "metadata": {},
   "outputs": [],
   "source": []
  }
 ],
 "metadata": {
  "kernelspec": {
   "display_name": "Python 3 (ipykernel)",
   "language": "python",
   "name": "python3"
  },
  "language_info": {
   "codemirror_mode": {
    "name": "ipython",
    "version": 3
   },
   "file_extension": ".py",
   "mimetype": "text/x-python",
   "name": "python",
   "nbconvert_exporter": "python",
   "pygments_lexer": "ipython3",
   "version": "3.9.12"
  }
 },
 "nbformat": 4,
 "nbformat_minor": 5
}
