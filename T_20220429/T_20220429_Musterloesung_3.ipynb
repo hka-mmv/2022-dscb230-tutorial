{
 "cells": [
  {
   "cell_type": "markdown",
   "metadata": {},
   "source": [
    "# Tutorium DSCB 230\n",
    "\n",
    "Tim Ehmann\n",
    "\n",
    "29.04.2022"
   ]
  },
  {
   "cell_type": "markdown",
   "metadata": {},
   "source": [
    "### Aufgabenteil 3\n",
    "\n",
    "- Zu einem Wettbewerb haben sich mehrere Personen angemeldet, aber nicht alle haben teilgenommen,\n",
    "weshalb sich in den Ergebnisdaten NaN Werte gebildet haben. Ersetzten Sie diese durch den Wert 0"
   ]
  },
  {
   "cell_type": "code",
   "execution_count": null,
   "metadata": {},
   "outputs": [],
   "source": [
    "import pandas as pd\n",
    "import numpy as np\n",
    "exam_data = {'name': ['Anna', 'Dima', 'Katherina', 'James', 'Emily', 'Michael', 'Florian', 'Laura', 'Kevin', 'Jonas'],\n",
    "        'score': [12, 9, 16, np.nan, 10, 20, 14, np.nan, 8, 19],\n",
    "        'attempts': [1, 3, 2, 3, 2, 3, 1, 1, 2, 1],\n",
    "        'qualify': ['yes', 'no', 'yes', 'no', 'no', 'yes', 'yes', 'no', 'no', 'yes']}\n",
    "df = pd.DataFrame(exam_data)\n",
    "df =  df.fillna(0)"
   ]
  },
  {
   "cell_type": "markdown",
   "metadata": {},
   "source": [
    "- Florians Punkteanzahl soll im Nachhinein auf 15 erhöht werden und aufgrund eines Täuschungsversuches\n",
    "wird Jonas disqualifiziert und der Teilnehmer mit der nächsthöchsten Punktzahl soll nachnominiert werden.\n",
    "Aktualisieren Sie das Dataframe mit den neuen Informationen."
   ]
  },
  {
   "cell_type": "code",
   "execution_count": null,
   "metadata": {},
   "outputs": [],
   "source": [
    "df.at[6, 'score'] = 15\n",
    "df.at[9, 'qualify'] = 'no'\n",
    "df.at[4, 'qualify'] = 'yes'"
   ]
  },
  {
   "cell_type": "markdown",
   "metadata": {},
   "source": [
    "- In der Hauptrunde des Wettbewerbs hat jeder Teilnehmer 5 Versuche, um eine höchstmögliche Punkteanzahl\n",
    "aufzustellen. Überprüfen Sie mithilfe der Datei scores.csv, welche Daten von Teilnehmern des Wettbewerbs über mehrere Jahre gesammelt hat, ob die erreichte Punktzahl mit der Nummer des Versuches zusammenhängt.\n",
    "Verwenden Sie hierfür die Aggregatfunktionen mean(), median() oder auch std()\n",
    "- Stellen Sie diesen mithilfe eines Diagrammes dar, indem die Durchschnittliche Punktzahl der Versuche angezeigt werden.\n",
    "Hinweis: der csv Datei fehlen noch die Spaltennamen. Fügen Sie diese hinzu (Participant_ID, Attempt_1, Attempt_2, ...)"
   ]
  },
  {
   "cell_type": "code",
   "execution_count": 28,
   "metadata": {},
   "outputs": [
    {
     "data": {
      "text/plain": [
       "<matplotlib.collections.PathCollection at 0x128782fd0>"
      ]
     },
     "execution_count": 28,
     "metadata": {},
     "output_type": "execute_result"
    },
    {
     "data": {
      "image/png": "[encoded data removed]",
      "text/plain": [
       "<Figure size 432x288 with 1 Axes>"
      ]
     },
     "metadata": {
      "needs_background": "light"
     },
     "output_type": "display_data"
    }
   ],
   "source": [
    "df1 = pd.read_csv('scores.csv')\n",
    "df1.columns=['Participant_ID', 'Attempt_1', 'Attempt_2', 'Attempt_3', 'Attempt_4', 'Attempt_5']\n",
    "df1.mean()\n",
    "df1.mean()\n",
    "\n",
    "import matplotlib.pyplot as plt\n",
    "\n",
    "xs = ['Attempt_1','Attempt_2', 'Attempt_3', 'Attempt_4', 'Attempt_5']\n",
    "ys = [df1['Attempt_1'].mean(), df1['Attempt_2'].mean(), df1['Attempt_3'].mean(), df1['Attempt_4'].mean(), df1['Attempt_5'].mean()]\n",
    "plt.scatter(xs, ys)"
   ]
  }
 ],
 "metadata": {
  "interpreter": {
   "hash": "b0fa6594d8f4cbf19f97940f81e996739fb7646882a419484c72d19e05852a7e"
  },
  "kernelspec": {
   "display_name": "Python 3.9.7 64-bit",
   "language": "python",
   "name": "python3"
  },
  "language_info": {
   "codemirror_mode": {
    "name": "ipython",
    "version": 3
   },
   "file_extension": ".py",
   "mimetype": "text/x-python",
   "name": "python",
   "nbconvert_exporter": "python",
   "pygments_lexer": "ipython3",
   "version": "3.9.7"
  },
  "orig_nbformat": 4
 },
 "nbformat": 4,
 "nbformat_minor": 2
}
