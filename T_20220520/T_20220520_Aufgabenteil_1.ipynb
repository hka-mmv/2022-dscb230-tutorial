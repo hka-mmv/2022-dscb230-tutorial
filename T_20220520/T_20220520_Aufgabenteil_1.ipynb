{
 "cells": [
  {
   "cell_type": "markdown",
   "id": "c8bf5b07",
   "metadata": {
    "pycharm": {
     "name": "#%% md\n"
    }
   },
   "source": [
    "# Tutorium DSCB 230"
   ]
  },
  {
   "cell_type": "markdown",
   "id": "d058160b",
   "metadata": {
    "pycharm": {
     "name": "#%% md\n"
    }
   },
   "source": [
    "Raphaele Salvatore Licciardo\n"
   ]
  },
  {
   "cell_type": "markdown",
   "id": "17710d72",
   "metadata": {
    "pycharm": {
     "name": "#%% md\n"
    }
   },
   "source": [
    "### Aufgabe 1: Fehlerbehandlung"
   ]
  },
  {
   "cell_type": "markdown",
   "id": "f4ed7d5f",
   "metadata": {
    "pycharm": {
     "name": "#%% md\n"
    }
   },
   "source": [
    "**Teilaufgabe 1:**\n",
    "Bitte schreiben Sie ein Programm, welches zwei Zahlen entgegennimmt. Diese sollen addiert werden, das Ergebnis soll anschließend returned werden. Bitte beachten sie, dass der Nutzer auch nicht Integer Werte eingeben kann, formuliert hierfür eine passende Fehlerbehandlung.Hinweis: Hierbei gibt es verschiedene Ansätze, eine universelle Lösung ist also nicht vorhanden.\n",
    "\n",
    "**Teilaufgabe 2:**\n",
    "Nun ist bekannt, wie Fehler behandelt werden. Es gibt ebenfalls Anwendungen bei denen Fehler erwünscht sind, um hiermit weiter arbeiten zu können. Versucht nun die gleiche Funktionalität wie aus Aufgabe 1 zu schreiben, jedoch ohne Try Except Block, dennoch soll bei falschem Input eine Ausnahme ausgelöst werden."
   ]
  },
  {
   "cell_type": "markdown",
   "id": "2444db96",
   "metadata": {
    "pycharm": {
     "name": "#%% md\n"
    }
   },
   "source": [
    "### Aufgabe 1: Code Bugs finden und beheben"
   ]
  },
  {
   "cell_type": "markdown",
   "id": "d344a7ec",
   "metadata": {
    "pycharm": {
     "name": "#%% md\n"
    }
   },
   "source": [
    "Mit dieser einfachen Aufgabe bekommen Sie einen Einblick, wie man die kleinen Fehler im Code findet und wieso ein Debugger oft eine gute Option ist statt Minuten lang verwirrt in den Code zu schauen.\n",
    "Gegeben ist die Funktion:\n",
    "```\n",
    "def get_sum():\n",
    "numbers_sum = 0\n",
    "for num in range(1001):\n",
    "if num % 7:\n",
    "continue\n",
    "else:\n",
    "numbers_sum = num\n",
    "return numbers_sum\n",
    "```\n",
    "Das Ziel dieser Funktion ist, die Summe aller natürlichen Zahlen bis 1000 (inklusiv) zu finden. Dabei müssen die Zahlen, die durch 7 teilbar sind, müssen ignoriert werden. Die Funktion beinhaltet zwei Bugs. Finden und verbessern Sie die Fehler. (Debugger macht die Aufgabe leicht)."
   ]
  }
 ],
 "metadata": {
  "kernelspec": {
   "display_name": "Python 3 (ipykernel)",
   "language": "python",
   "name": "python3"
  },
  "language_info": {
   "codemirror_mode": {
    "name": "ipython",
    "version": 3
   },
   "file_extension": ".py",
   "mimetype": "text/x-python",
   "name": "python",
   "nbconvert_exporter": "python",
   "pygments_lexer": "ipython3",
   "version": "3.10.4"
  }
 },
 "nbformat": 4,
 "nbformat_minor": 5
}
