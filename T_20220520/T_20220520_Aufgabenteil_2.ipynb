{
 "cells": [
  {
   "cell_type": "markdown",
   "id": "1216a766-b93b-41e4-afeb-78e85edf94de",
   "metadata": {},
   "source": [
    "# Tutorium DSCB 230\n",
    "## Aufgabenteil 2\n",
    "fj\n",
    "\n",
    "_Hinweise siehe unten_"
   ]
  },
  {
   "cell_type": "markdown",
   "id": "e16ddc44-d5cf-47fc-a85f-bcefc043e0e3",
   "metadata": {},
   "source": [
    "#### Aufgabe 2.1\n",
    "Ein Unternehmen hat Bestelldaten in unterschiedlichen CSV Dateien gespeichert (sales_records_(1-4).csv). Ihre Aufgabe ist es nun diese zu einem DataFrame zusammenzuführen, um im nächsten Schritt Auswertungen durchführen zu können."
   ]
  },
  {
   "cell_type": "markdown",
   "id": "022b8592-cc80-4c41-8c2c-56a81ab9fcb0",
   "metadata": {},
   "source": [
    "#### Aufgabe 2.2\n",
    "Die Geschäftsführung möchte wissen, aus wie vielen verschiedene Regionen und Ländern Bestellungen eingingen.\n",
    "Bestimmen Sie die eindeutigen Regionen und Länder und speichern Sie diese als CSV-Datei ab."
   ]
  },
  {
   "cell_type": "markdown",
   "id": "2743f124-8779-4459-9166-927ee2c836bd",
   "metadata": {},
   "source": [
    "#### Aufgabe 2.3\n",
    "Bestimmen Sie nun den Umsatz pro Region (in Mio, auf 1 Nachkommastelle gerundet) und speichern Sie diesen (Spalten Region und Umsatz) als Parquet Datei ab."
   ]
  },
  {
   "cell_type": "markdown",
   "id": "a8d8ffa9-335a-42b4-b40a-504e26538e04",
   "metadata": {},
   "source": [
    "#### Hinweise \n",
    "2.1) concat, map\n",
    "\n",
    "2.2) nunique\n",
    "\n",
    "2.3) groupby, sum"
   ]
  }
 ],
 "metadata": {
  "kernelspec": {
   "display_name": "Python 3 (ipykernel)",
   "language": "python",
   "name": "python3"
  },
  "language_info": {
   "codemirror_mode": {
    "name": "ipython",
    "version": 3
   },
   "file_extension": ".py",
   "mimetype": "text/x-python",
   "name": "python",
   "nbconvert_exporter": "python",
   "pygments_lexer": "ipython3",
   "version": "3.9.7"
  }
 },
 "nbformat": 4,
 "nbformat_minor": 5
}
