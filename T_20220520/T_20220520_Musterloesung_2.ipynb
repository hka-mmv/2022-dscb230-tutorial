{
 "cells": [
  {
   "cell_type": "markdown",
   "id": "1216a766-b93b-41e4-afeb-78e85edf94de",
   "metadata": {},
   "source": [
    "# Tutorium DSCB 230\n",
    "## Aufgabenteil 2\n",
    "fj\n",
    "\n",
    "_Hinweise siehe unten_"
   ]
  },
  {
   "cell_type": "markdown",
   "id": "e16ddc44-d5cf-47fc-a85f-bcefc043e0e3",
   "metadata": {},
   "source": [
    "#### Aufgabe 2.1\n",
    "Ein Unternehmen hat Bestelldaten in unterschiedlichen CSV Dateien gespeichert (sales_records_(1-4).csv). Ihre Aufgabe ist es nun diese zu einem DataFrame zusammenzuführen, um im nächsten Schritt Auswertungen durchführen zu können."
   ]
  },
  {
   "cell_type": "code",
   "execution_count": 2,
   "id": "f429170a-6a56-41b3-b06d-75439dd43cf1",
   "metadata": {},
   "outputs": [],
   "source": [
    "import pandas as pd"
   ]
  },
  {
   "cell_type": "code",
   "execution_count": 82,
   "id": "8c85b3ec-524e-4417-becf-e74449ed284f",
   "metadata": {},
   "outputs": [
    {
     "data": {
      "text/html": [
       "<div>\n",
       "<style scoped>\n",
       "    .dataframe tbody tr th:only-of-type {\n",
       "        vertical-align: middle;\n",
       "    }\n",
       "\n",
       "    .dataframe tbody tr th {\n",
       "        vertical-align: top;\n",
       "    }\n",
       "\n",
       "    .dataframe thead th {\n",
       "        text-align: right;\n",
       "    }\n",
       "</style>\n",
       "<table border=\"1\" class=\"dataframe\">\n",
       "  <thead>\n",
       "    <tr style=\"text-align: right;\">\n",
       "      <th></th>\n",
       "      <th>Region</th>\n",
       "      <th>Country</th>\n",
       "      <th>Item Type</th>\n",
       "      <th>Order Date</th>\n",
       "      <th>Ship Date</th>\n",
       "      <th>Units Sold</th>\n",
       "      <th>Unit Price</th>\n",
       "    </tr>\n",
       "    <tr>\n",
       "      <th>Order ID</th>\n",
       "      <th></th>\n",
       "      <th></th>\n",
       "      <th></th>\n",
       "      <th></th>\n",
       "      <th></th>\n",
       "      <th></th>\n",
       "      <th></th>\n",
       "    </tr>\n",
       "  </thead>\n",
       "  <tbody>\n",
       "    <tr>\n",
       "      <th>686800706</th>\n",
       "      <td>Middle East and North Africa</td>\n",
       "      <td>Libya</td>\n",
       "      <td>Cosmetics</td>\n",
       "      <td>2014-10-18</td>\n",
       "      <td>2014-10-31</td>\n",
       "      <td>8446</td>\n",
       "      <td>437.20</td>\n",
       "    </tr>\n",
       "    <tr>\n",
       "      <th>185941302</th>\n",
       "      <td>North America</td>\n",
       "      <td>Canada</td>\n",
       "      <td>Vegetables</td>\n",
       "      <td>2011-11-07</td>\n",
       "      <td>2011-12-08</td>\n",
       "      <td>3018</td>\n",
       "      <td>154.06</td>\n",
       "    </tr>\n",
       "    <tr>\n",
       "      <th>246222341</th>\n",
       "      <td>Middle East and North Africa</td>\n",
       "      <td>Libya</td>\n",
       "      <td>Baby Food</td>\n",
       "      <td>2016-10-31</td>\n",
       "      <td>2016-12-09</td>\n",
       "      <td>1517</td>\n",
       "      <td>255.28</td>\n",
       "    </tr>\n",
       "    <tr>\n",
       "      <th>161442649</th>\n",
       "      <td>Asia</td>\n",
       "      <td>Japan</td>\n",
       "      <td>Cereal</td>\n",
       "      <td>2010-04-10</td>\n",
       "      <td>2010-05-12</td>\n",
       "      <td>3322</td>\n",
       "      <td>205.70</td>\n",
       "    </tr>\n",
       "    <tr>\n",
       "      <th>645713555</th>\n",
       "      <td>Sub-Saharan Africa</td>\n",
       "      <td>Chad</td>\n",
       "      <td>Fruits</td>\n",
       "      <td>2011-08-16</td>\n",
       "      <td>2011-08-31</td>\n",
       "      <td>9845</td>\n",
       "      <td>9.33</td>\n",
       "    </tr>\n",
       "  </tbody>\n",
       "</table>\n",
       "</div>"
      ],
      "text/plain": [
       "                                 Region Country   Item Type Order Date  \\\n",
       "Order ID                                                                 \n",
       "686800706  Middle East and North Africa   Libya   Cosmetics 2014-10-18   \n",
       "185941302                 North America  Canada  Vegetables 2011-11-07   \n",
       "246222341  Middle East and North Africa   Libya   Baby Food 2016-10-31   \n",
       "161442649                          Asia   Japan      Cereal 2010-04-10   \n",
       "645713555            Sub-Saharan Africa    Chad      Fruits 2011-08-16   \n",
       "\n",
       "           Ship Date  Units Sold  Unit Price  \n",
       "Order ID                                      \n",
       "686800706 2014-10-31        8446      437.20  \n",
       "185941302 2011-12-08        3018      154.06  \n",
       "246222341 2016-12-09        1517      255.28  \n",
       "161442649 2010-05-12        3322      205.70  \n",
       "645713555 2011-08-31        9845        9.33  "
      ]
     },
     "execution_count": 82,
     "metadata": {},
     "output_type": "execute_result"
    }
   ],
   "source": [
    "# Zusammenführen der CSV Dateien\n",
    "df = pd.concat(map(pd.read_csv, [\"sales_records_1.csv\", \"sales_records_2.csv\", \"sales_records_3.csv\", \"sales_records_4.csv\"]), ignore_index=True)\n",
    "\n",
    "# Setzen der Order ID als Index und Anpassen der Datentypen der Dates\n",
    "df.set_index(\"Order ID\", inplace=True)\n",
    "df[\"Order Date\"] = pd.to_datetime(df[\"Order Date\"])\n",
    "df[\"Ship Date\"] = pd.to_datetime(df[\"Ship Date\"])\n",
    "\n",
    "df.head()"
   ]
  },
  {
   "cell_type": "markdown",
   "id": "022b8592-cc80-4c41-8c2c-56a81ab9fcb0",
   "metadata": {},
   "source": [
    "#### Aufgabe 2.2\n",
    "Die Geschäftsführung möchte wissen, aus wie vielen verschiedene Regionen und Ländern Bestellungen eingingen.\n",
    "Bestimmen Sie die eindeutigen Regionen und Länder und speichern Sie diese als CSV-Datei ab."
   ]
  },
  {
   "cell_type": "code",
   "execution_count": 81,
   "id": "bf789d5e-661c-4745-88da-c23bbfef69c5",
   "metadata": {},
   "outputs": [],
   "source": [
    "# Herausfinden aller eindeutigen Werte pro Spalte\n",
    "u_vals = df.nunique()\n",
    "\n",
    "# Überführen in ein df\n",
    "u_df = u_vals.to_frame(name=\"Unique Values\")\n",
    "\n",
    "# Nur die Zeilen Region und Country sollen übernommen werden\n",
    "u_df = u_df.loc[[\"Region\",\"Country\"]]\n",
    "\n",
    "#Schreiben der Datei\n",
    "u_df.to_csv(\"unique_values.csv\", index_label=\"Column\")"
   ]
  },
  {
   "cell_type": "markdown",
   "id": "2743f124-8779-4459-9166-927ee2c836bd",
   "metadata": {},
   "source": [
    "#### Aufgabe 2.3\n",
    "Bestimmen Sie nun den Umsatz pro Region (in Mio, auf 1 Nachkommastelle gerundet) und speichern Sie diesen (Spalten Region und Umsatz) als Parquet Datei ab."
   ]
  },
  {
   "cell_type": "code",
   "execution_count": 80,
   "id": "a5dc0ff7-db07-4475-9ea6-6d26b43af56f",
   "metadata": {},
   "outputs": [],
   "source": [
    "# Berrechnen des Umsatzes pro Bestellung\n",
    "df[\"Umsatz\"] = round(df[\"Unit Price\"] * df[\"Units Sold\"]/1000000, 1)\n",
    "\n",
    "# Gruppieren nach Region und Summieren der jeweiligen Umsätze\n",
    "df_umsatz_region = df.groupby([\"Region\"])['Umsatz'].sum().reset_index()\n",
    "\n",
    "# Schreiben der Datei\n",
    "df_umsatz_region.to_parquet(\"umsatz_region.parquet\")"
   ]
  },
  {
   "cell_type": "markdown",
   "id": "a8d8ffa9-335a-42b4-b40a-504e26538e04",
   "metadata": {},
   "source": [
    "#### Hinweise \n",
    "2.1) concat, map\n",
    "\n",
    "2.2) nunique\n",
    "\n",
    "2.3) groupby, sum"
   ]
  }
 ],
 "metadata": {
  "kernelspec": {
   "display_name": "Python 3 (ipykernel)",
   "language": "python",
   "name": "python3"
  },
  "language_info": {
   "codemirror_mode": {
    "name": "ipython",
    "version": 3
   },
   "file_extension": ".py",
   "mimetype": "text/x-python",
   "name": "python",
   "nbconvert_exporter": "python",
   "pygments_lexer": "ipython3",
   "version": "3.9.7"
  }
 },
 "nbformat": 4,
 "nbformat_minor": 5
}
