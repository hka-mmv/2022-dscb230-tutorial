{
 "cells": [
  {
   "cell_type": "markdown",
   "id": "c8bf5b07",
   "metadata": {
    "pycharm": {
     "name": "#%% md\n"
    }
   },
   "source": [
    "# Tutorium DSCB 230"
   ]
  },
  {
   "cell_type": "markdown",
   "id": "d058160b",
   "metadata": {
    "pycharm": {
     "name": "#%% md\n"
    }
   },
   "source": [
    "Raphaele Salvatore Licciardo\n"
   ]
  },
  {
   "cell_type": "markdown",
   "id": "17710d72",
   "metadata": {
    "pycharm": {
     "name": "#%% md\n"
    }
   },
   "source": [
    "### Aufgabe 1: Fehlerbehandlung"
   ]
  },
  {
   "cell_type": "markdown",
   "id": "f4ed7d5f",
   "metadata": {
    "pycharm": {
     "name": "#%% md\n"
    }
   },
   "source": [
    "**Teilaufgabe 1:**\n",
    "Bitte schreiben Sie ein Programm, welches zwei Zahlen entgegennimmt. Diese sollen addiert werden, das Ergebnis soll anschließend returned werden. Bitte beachten sie, dass der Nutzer auch nicht Integer Werte eingeben kann, formuliert hierfür eine passende Fehlerbehandlung.Hinweis: Hierbei gibt es verschiedene Ansätze, eine universelle Lösung ist also nicht vorhanden.\n",
    "\n",
    "**Teilaufgabe 2:**\n",
    "Nun ist bekannt, wie Fehler behandelt werden. Es gibt ebenfalls Anwendungen bei denen Fehler erwünscht sind, um hiermit weiter arbeiten zu können. Versucht nun die gleiche Funktionalität wie aus Aufgabe 1 zu schreiben, jedoch ohne Try Except Block, dennoch soll bei falschem Input eine Ausnahme ausgelöst werden."
   ]
  },
  {
   "cell_type": "code",
   "execution_count": 1,
   "id": "26453898",
   "metadata": {
    "pycharm": {
     "name": "#%%\n"
    }
   },
   "outputs": [],
   "source": [
    "def aufgabe1():\n",
    "    try:\n",
    "        zahl_1 = int(input(\"Bitte geben sie eine Zahl ein: \"))\n",
    "        zahl_2 = int(input(\"Bitte geben sie eine weitere Zahl ein: \"))\n",
    "        return True, (zahl_1 + zahl_2)\n",
    "    except ValueError:\n",
    "        print(\"Das Eingabeformat muss eine Zahl sein! Versuche es erneut!\")\n",
    "        aufgabe1()\n",
    "        return False\n",
    "# Der Methodenaufruf würde wie folgt aussehen:\n",
    "# ergebnis = aufgabe1()\n",
    "# if ergebnis[0] == True:\n",
    "# print(ergebnis[1])"
   ]
  },
  {
   "cell_type": "code",
   "execution_count": 2,
   "id": "68232418",
   "metadata": {
    "pycharm": {
     "name": "#%%\n"
    }
   },
   "outputs": [],
   "source": [
    "def aufgabe2():\n",
    "    zahl_1 = input(\"Bitte geben sie eine Zahl ein: \")\n",
    "    zahl_2 = input(\"Bitte geben sie eine weitere Zahl ein: \")\n",
    "    if zahl_1.isnumeric() and zahl_2.isnumeric():\n",
    "        return True, (int(zahl_1) + int(zahl_2))\n",
    "    else:\n",
    "        raise ValueError(\"Das Eingabeformat muss eine Zahl sein! Versuche es erneut!\")\n",
    "        self.aufgabe2()\n",
    "    return False\n",
    " # Der Methodenaufruf würde wie folgt aussehen:\n",
    " # ergebnis = aufgabe1()\n",
    " # if ergebnis[0] == True:\n",
    " # print(ergebnis[1])"
   ]
  },
  {
   "cell_type": "markdown",
   "id": "1b991b79",
   "metadata": {
    "pycharm": {
     "name": "#%% md\n"
    }
   },
   "source": [
    "### Aufgabe 1: Code Bugs finden und beheben"
   ]
  },
  {
   "cell_type": "markdown",
   "id": "3d85bee4",
   "metadata": {
    "pycharm": {
     "name": "#%% md\n"
    }
   },
   "source": [
    "Mit dieser einfachen Aufgabe bekommen Sie einen Einblick, wie man die kleinen Fehler im Code findet und wieso ein Debugger oft eine gute Option ist statt Minuten lang verwirrt in den Code zu schauen.\n",
    "Gegeben ist die Funktion:\n",
    "```\n",
    "def get_sum():\n",
    "numbers_sum = 0\n",
    "for num in range(1001):\n",
    "if num % 7:\n",
    "continue\n",
    "else:\n",
    "numbers_sum = num\n",
    "return numbers_sum\n",
    "```\n",
    "Das Ziel dieser Funktion ist, die Summe aller natürlichen Zahlen bis 1000 (inklusiv) zu finden. Dabei müssen die Zahlen, die durch 7 teilbar sind, müssen ignoriert werden. Die Funktion beinhaltet zwei Bugs. Finden und verbessern Sie die Fehler. (Debugger macht die Aufgabe leicht)."
   ]
  },
  {
   "cell_type": "code",
   "execution_count": 5,
   "id": "df4a706f",
   "metadata": {
    "pycharm": {
     "name": "#%%\n"
    }
   },
   "outputs": [],
   "source": [
    "# Mit Kommentaren wäre es bestimmt einfacher gewesen, oder?\n",
    "def get_sum():\n",
    "    numbers_sum = 0 # Initialisierung der Variable, die enthalten wird\n",
    "    for num in range(1001): # iterieren über alle Zahlen bis 1000\n",
    "        if num % 7 == 0: # prüfen ob die Zahl durch 7 teilbar ist <-- Fehler 1\n",
    "            continue # ignorien wenn ja\n",
    "        else:\n",
    "            numbers_sum += num # aktualisiere Summe <-- Fehler 2\n",
    "    return numbers_sum # am Ende die Summe zurückgeben"
   ]
  }
 ],
 "metadata": {
  "kernelspec": {
   "display_name": "Python 3 (ipykernel)",
   "language": "python",
   "name": "python3"
  },
  "language_info": {
   "codemirror_mode": {
    "name": "ipython",
    "version": 3
   },
   "file_extension": ".py",
   "mimetype": "text/x-python",
   "name": "python",
   "nbconvert_exporter": "python",
   "pygments_lexer": "ipython3",
   "version": "3.10.4"
  }
 },
 "nbformat": 4,
 "nbformat_minor": 5
}