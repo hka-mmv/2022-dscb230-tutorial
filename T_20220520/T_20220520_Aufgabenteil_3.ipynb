{
 "cells": [
  {
   "cell_type": "markdown",
   "metadata": {},
   "source": [
    "# DSCB 230\n",
    "\n",
    "Tim Ehmann"
   ]
  },
  {
   "cell_type": "markdown",
   "metadata": {},
   "source": [
    "### Aufgabenteil 3"
   ]
  },
  {
   "cell_type": "markdown",
   "metadata": {},
   "source": [
    "#### 1) Exceptions\n",
    "\n",
    "1. `IndexError` und `KeyError` zählen beide zu dem `LookupError`. Was ist jedoch der Unterschied zwischen diesen?\n",
    "2. Sie wollen aus einer Datei eine Klasse in eine neue Datei laden. Dabei haben Sie den Dateinamen richtig, aber den Klassennamen falsch geschrieben. Erhalten Sie dabei einen `ImportError` oder einen `ModuleNotFoundError`? Wann tritt der jeweils andere Fall auf?\n",
    "3. Sie wollen einen String sortieren und verwenden dafür die Methode .sort(). Auf welchen Fehler stoßen Sie hier?\n",
    "4. Schreiben Sie Code, der zu einem `TypeError` führt.\n",
    "5. Wenn Sie eine Variable verwenden möchten, welche zuvor noch nicht initialisiert wurde, auf welche Fehlermeldung werden Sie treffen?"
   ]
  },
  {
   "cell_type": "markdown",
   "metadata": {},
   "source": [
    "#### 2) Entdecken von Code Bugs mithilfe von Visual Studio\n",
    "\n",
    "Visual Studio Code bietet mit dem Debugger eine sehr effektive Möglichkeit, Probleme und Fehler im Code zu finden. Vor allem bei semantischen Fehlern. Eine ausführliche Einführung in den Debugger gibt's hier:\n",
    "https://code.visualstudio.com/docs/python/debugging\n",
    "\n",
    "Wichtige Sektionen sind\n",
    "1. https://code.visualstudio.com/Docs/editor/debugging#_breakpoints\n",
    "2. https://code.visualstudio.com/Docs/editor/debugging#_logpoints\n",
    "3. https://code.visualstudio.com/Docs/editor/debugging#_data-inspection\n"
   ]
  },
  {
   "cell_type": "markdown",
   "metadata": {},
   "source": [
    "In den folgenden Code hat sich ein Fehler eingeschlichen.\n",
    "Verwenden Sie die Funktionen des Debuggers, um dem Fehler zu finden.\n",
    "Markieren und beschreiben Sie den Fehler und verändern Sie das Programm so, sodass es korrekt für jeden Artikel den Gesamtpreis (menge*preis) ausgibt.\n",
    "\n",
    "###### Code von https://medium.com/@darth_waiter/python-challenge-can-you-figure-out-whats-wrong-in-5-minutes-16e2f78a1613"
   ]
  },
  {
   "cell_type": "code",
   "execution_count": null,
   "metadata": {},
   "outputs": [],
   "source": [
    "sizes = [\n",
    "    {\n",
    "        \"name\": \"item_1\",\n",
    "        \"size_in_mL\": \"100mL\",\n",
    "        \"alternate_identifier\": \"axc45\"\n",
    "    },\n",
    "    {\n",
    "        \"name\": \"item_2\",\n",
    "        \"size_in_mL\": \"100mL\",\n",
    "        \"alternate_identifier\": \"axc675\"\n",
    "    },\n",
    "    {\n",
    "        \"name\": \"item_2-2\",\n",
    "        \"size_in_mL\": \"400mL\",\n",
    "        \"alternate_identifier\": \"axc66725\"\n",
    "    },\n",
    "    {\n",
    "        \"name\": \"item_3\",\n",
    "        \"size_in_mL\": \"50mL\",\n",
    "        \"alternate_identifier\": \"axd10025\"\n",
    "    }\n",
    "\n",
    "]\n",
    "\n",
    "prices = [\n",
    "    {\n",
    "        \"price\": 10.67,\n",
    "        \"alternate_identifier\": \"axc45\"\n",
    "    },\n",
    "    {\n",
    "        \"price\": 15.50,\n",
    "        \"alternate_identifier\": \"axc675\"\n",
    "    },\n",
    "    {\n",
    "        \"price\": 20.99,\n",
    "        \"alternate_identifier\": \"axc66725\"\n",
    "    },\n",
    "    {\n",
    "        \"price\": 7.99,\n",
    "        \"alternate_identifier\": \"axd10025\"\n",
    "    }\n",
    "\n",
    "]\n",
    "\n",
    "quantities = [\n",
    "    {\n",
    "        \"name\": \"item_1\",\n",
    "        \"quantity\": 10,\n",
    "        \"alternate_identifier\": \"axc45\"\n",
    "    },\n",
    "    {\n",
    "        \"name\": \"item_2\",\n",
    "        \"quantity\": 20,\n",
    "        \"alternate_identifier\": \"axc675\"\n",
    "    },\n",
    "    {\n",
    "        \"name\": \"item_2-2\",\n",
    "        \"quantity\": 40,\n",
    "        \"alternate_identifier\": \"axc66725\"\n",
    "    },\n",
    "    {\n",
    "        \"name\": \"item_3\",\n",
    "        \"quantity\": 15,\n",
    "        \"alternate_identifier\": \"axd10025\"\n",
    "    }\n",
    "\n",
    "]\n",
    "\n",
    "# YOUR CODE PRINTS THE TOTAL PRICE TO BUY ALL ITEMS OF A SPECIFIC SIZE \n",
    "# (Example -  10 item_1 OF SIZE 100mL cost $106.7)\n",
    "\n",
    "identifier_info = {\n",
    "    item['name']: item['alternate_identifier'] for item in sizes}\n",
    "\n",
    "price_info = {\n",
    "    item['alternate_identifier']: item['price'] for item in prices}\n",
    "\n",
    "\n",
    "# LOOP WHICH CALCULATES TOTAL PRICE\n",
    "\n",
    "for item in quantities:\n",
    "    name, quantity = item['name'], item['quantity']\n",
    "\n",
    "    # fetch alternate_identifier to get the price\n",
    "    identifier = identifier_info[name]\n",
    "\n",
    "    # get price of the item\n",
    "    price = price_info[identifier]\n",
    "\n",
    "    # calculate the total price to buy the entire stock of a specific size of an item\n",
    "    total_price = round(quantity * price, 2)\n",
    "\n",
    "    print (f'The total price of {name} is {total_price} ')"
   ]
  }
 ],
 "metadata": {
  "interpreter": {
   "hash": "b0fa6594d8f4cbf19f97940f81e996739fb7646882a419484c72d19e05852a7e"
  },
  "kernelspec": {
   "display_name": "Python 3.9.7 64-bit",
   "language": "python",
   "name": "python3"
  },
  "language_info": {
   "codemirror_mode": {
    "name": "ipython",
    "version": 3
   },
   "file_extension": ".py",
   "mimetype": "text/x-python",
   "name": "python",
   "nbconvert_exporter": "python",
   "pygments_lexer": "ipython3",
   "version": "3.9.7"
  },
  "orig_nbformat": 4
 },
 "nbformat": 4,
 "nbformat_minor": 2
}
