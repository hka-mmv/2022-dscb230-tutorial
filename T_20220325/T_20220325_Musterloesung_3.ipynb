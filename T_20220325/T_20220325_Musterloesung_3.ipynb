{
 "cells": [
  {
   "cell_type": "markdown",
   "id": "4bea7912-4129-4ced-815a-79ac73838884",
   "metadata": {},
   "source": [
    "# Tutorium DSCB 230\n",
    "### fj"
   ]
  },
  {
   "cell_type": "markdown",
   "id": "5faa7378-b5d1-4dab-a15e-d86b20e731d0",
   "metadata": {},
   "source": [
    "## (1) Schaltjahr\n",
    "Schreiben Sie ein Programm, das bestimmt, ob das vom Benutzer eingegebene Jahr ein Schaltjahr ist. Dies soll mithilfe zweier Funktionen erfolgen.\n",
    "\n",
    "Zuerst soll in der Funktion **bekomme_jahr()** ein Jahr vom Benutzer eingegeben werden und als Ganzzahl zurückgegeben werden. \n",
    "\n",
    "In der Funktion **pruefe_schaltjahr(jahr)** soll dann geprüft werden, ob das übergebene Jahr ein Schaltjahr ist. Ist es ein Schaltjahr, soll der boolean **True** zurückgegeben werden, andernfalls **False**.\n",
    "\n",
    "Prüfen Sie am Ende mit dem unten stehenden Code, ob Ihre Funktionen funktionieren."
   ]
  },
  {
   "cell_type": "markdown",
   "id": "7b8871ad-a872-4d3e-890e-197fb61e02bd",
   "metadata": {},
   "source": [
    "### Funktion für die Jahr-Eingabe:"
   ]
  },
  {
   "cell_type": "code",
   "execution_count": null,
   "id": "74625dc7-6a73-43e1-9079-445db2f90ca2",
   "metadata": {},
   "outputs": [],
   "source": [
    "# Einfache Lösung (ohne Überprüfung) \n",
    "# Kann zu Fehlern führen!\n",
    "def bekomme_jahr():\n",
    "    user_input = int(input(\"Geben Sie eine Jahreszahl ein: \"))\n",
    "    return user_input\n",
    "    "
   ]
  },
  {
   "cell_type": "markdown",
   "id": "ae541099-477b-4f42-ae63-739e53037ecb",
   "metadata": {},
   "source": [
    "### Funktion für die Schaltjahr-Prüfung:"
   ]
  },
  {
   "cell_type": "markdown",
   "id": "585bbdc6-9005-4bbb-af26-caaf481933dc",
   "metadata": {},
   "source": [
    "Zusatzinfo:\n",
    "\n",
    "Ist ein Jahr durch 4 teilbar, ist es ein Schaltjahr\n",
    "- Kann man es zusätzlich durch 100 teilen, ist es kein Schaltjahr\n",
    "- Kann man es zusätzlich durch 100 **und** 400 teilen, ist es ein Schaltjahr\n",
    "\n",
    "Alle anderen Jahre sind keine Schaltjahre"
   ]
  },
  {
   "cell_type": "code",
   "execution_count": null,
   "id": "4417ee56-c7cf-46d2-9aae-2100685bc463",
   "metadata": {},
   "outputs": [],
   "source": [
    "def pruefe_schaltjahr(jahr):\n",
    "\n",
    "    if jahr % 4 == 0:\n",
    "        \n",
    "        if jahr % 100 == 0:\n",
    "            \n",
    "            if jahr % 400 == 0:\n",
    "                return True\n",
    "\n",
    "            else:\n",
    "                return False\n",
    "        else:\n",
    "            return True\n",
    "    else:\n",
    "        return False"
   ]
  },
  {
   "cell_type": "markdown",
   "id": "7a08653b-8cc4-4f5b-98f8-d1baee57be45",
   "metadata": {},
   "source": [
    "### Prüfen Sie Ihre Funktionen durch Ausführen des folgenden Codes:"
   ]
  },
  {
   "cell_type": "code",
   "execution_count": null,
   "id": "2104a960-1245-4639-88bf-67d5dda5e956",
   "metadata": {},
   "outputs": [],
   "source": [
    "user_input = bekomme_jahr() # Speichert das eingegebene Jahr als Variable ab\n",
    "\n",
    "if pruefe_schaltjahr(user_input): # Falls das Jahr ein Schaltjahr ist\n",
    "    print(f\"{user_input} ist ein Schaltjahr\")\n",
    "    \n",
    "else: # Falls das Jahr kein Schaltjahr ist\n",
    "    print(f\"{user_input} ist kein Schaltjahr\")"
   ]
  },
  {
   "cell_type": "markdown",
   "id": "cb08a828-fa41-4064-8838-3b3ddc13f836",
   "metadata": {},
   "source": [
    "***Bonus:*** \n",
    "- Passen Sie die Funktion bekomme_jahr() so an, dass die Eingabe nur zurückgegeben wird, wenn es sich um eine Ganzzahl handelt\n",
    "- Ist dies nicht der Fall, soll solange erneut nach einem Jahr gefragt werden, bis der Benutzer eine Ganzzahl eingibt"
   ]
  },
  {
   "cell_type": "code",
   "execution_count": null,
   "id": "6439a9b1-227a-4855-a5b8-1acf7f57baef",
   "metadata": {},
   "outputs": [],
   "source": [
    "# Mit Überprüfung\n",
    "def bekomme_jahr():\n",
    "    \n",
    "    while True:\n",
    "        try:\n",
    "            user_input = int(input(\"Geben Sie eine Jahreszahl ein: \"))\n",
    "            return user_input\n",
    "        \n",
    "        except:\n",
    "            print(\"Versuchen Sie es erneut\")"
   ]
  },
  {
   "cell_type": "markdown",
   "id": "ac86726d-1ad7-45cc-823a-06a557a8fa9e",
   "metadata": {},
   "source": [
    "## (2) Trading Algorithmus\n",
    "\n",
    "Ein Finanz-Startup beauftragt Sie einen Trading-Bot für Aktien zu programmieren. Dieser soll anhand von Aktienwerten der letzten 7 Tage entscheiden, ob eine Aktie gekauft oder verkauft werden soll.\n",
    "\n",
    "Dazu stellt das Startup folgende **Strategien** auf: *(fiktiv, keine Handlungsempfehlung)*\n",
    "1. Ist der aktuelleste Wert im Vergleich zum ältesten Wert gesunken, so soll verkauft werden, andernfalls gekauft\n",
    "\n",
    "2. Liegt der aktuellste Wert unter dem Durschnittswert, soll gekauft werden, andernfalls verkauft\n",
    "\n",
    "Schreiben Sie für jede Strategie eine **Funktion**, die zurückgibt (einfaches print() reicht), ob gekauft oder verkauft werden soll. Grundlage bzw. Input für die Funktion soll eine **Liste** [10, 12, 9, ...] mit 7 Elementen sein, bei der das letze Element den aktuellsten Wert, und das erste Element den ältesten Wert repräsentiert. Testen Sie Ihre Funktionen mit den vorgegebenen Listen.\n",
    "\n",
    "**Wichtig:** Der aktuellste Wert soll bei der Berechnung zum Durchschnittswert etc. nicht berücksichtigt werden"
   ]
  },
  {
   "cell_type": "code",
   "execution_count": null,
   "id": "66138118-7638-45f7-bde4-234c67a66c80",
   "metadata": {},
   "outputs": [],
   "source": [
    "apple = [160, 166, 165, 166, 171, 169, 170]\n",
    "\n",
    "basf = [60, 56, 57, 49, 52, 51, 50]\n",
    "\n",
    "alibaba = [110, 120, 113, 118, 115, 116, 117]"
   ]
  },
  {
   "cell_type": "markdown",
   "id": "bc22cb4c-2fb6-4634-ae04-341273944f7e",
   "metadata": {},
   "source": [
    "### Funktion für Strategie 1"
   ]
  },
  {
   "cell_type": "code",
   "execution_count": 9,
   "id": "5b556936-6c87-421e-b15c-aed99593a7f5",
   "metadata": {},
   "outputs": [],
   "source": [
    "def strategie_1(aktienwerte):\n",
    "    \n",
    "    if aktienwerte[len(aktienwerte)-1] < aktienwerte[0]:\n",
    "        print(\"Verkaufen\")\n",
    "    \n",
    "    else: \n",
    "        print(\"Kaufen\")"
   ]
  },
  {
   "cell_type": "markdown",
   "id": "3dedab54-e7d5-48c5-8ede-98f46cc792d2",
   "metadata": {},
   "source": [
    "### Funktion für Strategie 2"
   ]
  },
  {
   "cell_type": "code",
   "execution_count": 10,
   "id": "164f07a6-c2cb-4607-bdc8-bb45a378486c",
   "metadata": {},
   "outputs": [],
   "source": [
    "def strategie_2(aktienwerte):\n",
    "    \n",
    "    summe = 0\n",
    "    \n",
    "    for i in range(len(aktienwerte)-1):\n",
    "        summe += aktienwerte[i]\n",
    "    \n",
    "    durchschnittswert = summe / (len(aktienwerte)-1)\n",
    "    \n",
    "    if aktienwerte[len(aktienwerte)-1] < durchschnittswert:\n",
    "        print(\"Kaufen\")\n",
    "    \n",
    "    else:\n",
    "        print(\"Verkaufen\")"
   ]
  },
  {
   "cell_type": "markdown",
   "id": "bc45ff16-c863-423b-8540-ae67e2f05272",
   "metadata": {},
   "source": [
    "## (3) Palindrom\n",
    "Schreiben Sie eine Funktion, die mithilfe einer Schleife prüft, ob ein Wort ein Palindrom (Wort, das man von vorne gleich wie von hinten lesen kann) ist, oder nicht. *Tipp*: Setzen sie vor der Überprüfung das Wort in Klein- oder Großbuchstaben\n",
    "\n",
    "Testen Sie ihr Programm mit den folgenden Wörtern:"
   ]
  },
  {
   "cell_type": "code",
   "execution_count": null,
   "id": "781160b0-2f48-4a21-9623-c58d9a76c944",
   "metadata": {},
   "outputs": [],
   "source": [
    "wort1 = \"Uhu\"\n",
    "wort2 = \"Legovogel\"\n",
    "wort3 = \"Universität\"\n",
    "wort4 = \"Lagerregal\"\n"
   ]
  },
  {
   "cell_type": "markdown",
   "id": "69a0bea7-ec11-4702-824a-477d55645838",
   "metadata": {},
   "source": [
    "### Funktion zur Bestimmung eines Palindroms"
   ]
  },
  {
   "cell_type": "code",
   "execution_count": null,
   "id": "ce4a4504-a4bb-4386-a44e-4217debca6bb",
   "metadata": {},
   "outputs": [],
   "source": [
    "def palindrom(wort):\n",
    "    wort = wort.lower()\n",
    "    \n",
    "    for buchstabe in range(len(wort)):\n",
    "        \n",
    "        if buchstabe > (len(wort)-1-buchstabe): # Bricht das Programm ab, wenn alle Buchstaben überprüft wurden (ab der Hälfte fertig)\n",
    "            break\n",
    "        \n",
    "        if wort[buchstabe] == wort[len(wort)-1-buchstabe]:\n",
    "            continue\n",
    "            \n",
    "        else:\n",
    "            return \"Das Wort ist kein Palindrom\"\n",
    "            \n",
    "    return f\"Das Wort ist ein Palindrom\"\n"
   ]
  }
 ],
 "metadata": {
  "kernelspec": {
   "display_name": "Python 3 (ipykernel)",
   "language": "python",
   "name": "python3"
  },
  "language_info": {
   "codemirror_mode": {
    "name": "ipython",
    "version": 3
   },
   "file_extension": ".py",
   "mimetype": "text/x-python",
   "name": "python",
   "nbconvert_exporter": "python",
   "pygments_lexer": "ipython3",
   "version": "3.9.10"
  }
 },
 "nbformat": 4,
 "nbformat_minor": 5
}
