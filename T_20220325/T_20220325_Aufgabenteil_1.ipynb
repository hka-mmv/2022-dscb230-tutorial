{
 "cells": [
  {
   "cell_type": "markdown",
   "id": "dd455fe9",
   "metadata": {},
   "source": [
    "# Tutorium DSCB 230"
   ]
  },
  {
   "cell_type": "markdown",
   "id": "0dd07d51",
   "metadata": {},
   "source": [
    "Raphaele Salvatore Licciardo"
   ]
  },
  {
   "cell_type": "markdown",
   "id": "1b26540c",
   "metadata": {},
   "source": [
    "## T_20220325"
   ]
  },
  {
   "cell_type": "markdown",
   "id": "33fc0a7f",
   "metadata": {},
   "source": [
    "### Aufgabe 1: Implementieren Sie den Quicksort Algorithmus in Python3. Dafür haben Sie bereits einige Strukturen vorgegeben."
   ]
  },
  {
   "cell_type": "code",
   "execution_count": null,
   "id": "b677b9aa",
   "metadata": {},
   "outputs": [],
   "source": [
    "def quicksort(arr):\n",
    "    if len(arr) <= 1:\n",
    "        return arr\n",
    "    \n",
    "    left = \n",
    "    middle = \n",
    "    right =\n",
    "\n",
    "print(quicksort([3,6,8,10,1,2,1]))"
   ]
  },
  {
   "cell_type": "markdown",
   "id": "5cf56079",
   "metadata": {},
   "source": [
    "### Aufgabe 2: List und Dict in Python3\n",
    "1. Eine Liste erstellen und ein Element hinzufügen\n",
    "2. Ein Element an der zweiten Stelle hinzufügen\n",
    "3. Ein Element entfernen\n",
    "4. Erstellen Sie eine zweite Liste und konkatenieren Sie diese\n",
    "5. Zerschneiden Sie die neue Liste an zwei beliebigen Stellen\n",
    "6. Erstellen Sie ein beliebiges Dictionary\n",
    "7. Fügen Sie dem Dict ein weiters Element hinzu\n",
    "8. Entfernen Sie aus dem Dict das neue Element.\n",
    "9. Geben Sie mittels einer For-Schleife, alle Keys und Values aus dem Dict aus."
   ]
  },
  {
   "cell_type": "markdown",
   "id": "c415ce02",
   "metadata": {},
   "source": [
    "### Aufgabe 3: Implementieren Sie einen Warenkorb.\n",
    "Dieser sollte über die Kommandozeile gesteuert werden, Einkaufswünsche entgegen nehmen und in den Warenkorb legen, ist der Einkauf abgeschlossen, wird die Gesamtsumme und der Warenkorb angezeigt. Hierfür haben Sie bereits die Artikelliste."
   ]
  },
  {
   "cell_type": "code",
   "execution_count": 60,
   "id": "4489f0c0",
   "metadata": {},
   "outputs": [],
   "source": [
    "articles = {\n",
    "    1: {\n",
    "        \"name\": \"T-Shirt\", \n",
    "        \"price\": 9.99, \n",
    "        \"currency\": \"EUR\",\n",
    "        \"available\": \"67\"\n",
    "    },\n",
    "    2: {\n",
    "        \"name\": \"Pullover\", \n",
    "        \"price\": 19.99, \n",
    "        \"currency\": \"EUR\",\n",
    "        \"available\": \"19\"\n",
    "    },\n",
    "    3: {\n",
    "        \"name\": \"Watch\", \n",
    "        \"price\": 109.99, \n",
    "        \"currency\": \"EUR\",\n",
    "        \"available\": \"0\"\n",
    "    }\n",
    "}"
   ]
  }
 ],
 "metadata": {
  "kernelspec": {
   "display_name": "Python 3 (ipykernel)",
   "language": "python",
   "name": "python3"
  },
  "language_info": {
   "codemirror_mode": {
    "name": "ipython",
    "version": 3
   },
   "file_extension": ".py",
   "mimetype": "text/x-python",
   "name": "python",
   "nbconvert_exporter": "python",
   "pygments_lexer": "ipython3",
   "version": "3.9.10"
  }
 },
 "nbformat": 4,
 "nbformat_minor": 5
}
