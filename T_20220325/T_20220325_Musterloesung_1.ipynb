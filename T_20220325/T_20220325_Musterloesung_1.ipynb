{
 "cells": [
  {
   "cell_type": "markdown",
   "id": "dd455fe9",
   "metadata": {},
   "source": [
    "# Tutorium DSCB 230"
   ]
  },
  {
   "cell_type": "markdown",
   "id": "0dd07d51",
   "metadata": {},
   "source": [
    "Raphaele Salvatore Licciardo"
   ]
  },
  {
   "cell_type": "markdown",
   "id": "1b26540c",
   "metadata": {},
   "source": [
    "## T_20220325"
   ]
  },
  {
   "cell_type": "markdown",
   "id": "33fc0a7f",
   "metadata": {},
   "source": [
    "### Aufgabe 1: Implementieren Sie den Quicksort Algorithmus in Python3. Dafür haben Sie bereits einige Strukturen vorgegeben."
   ]
  },
  {
   "cell_type": "code",
   "execution_count": 4,
   "id": "e6a78ba9",
   "metadata": {},
   "outputs": [
    {
     "name": "stdout",
     "output_type": "stream",
     "text": [
      "[1, 1, 2, 3, 6, 8, 10]\n"
     ]
    }
   ],
   "source": [
    "# Musterlösung\n",
    "def quicksort(arr):\n",
    "    if len(arr) <= 1:\n",
    "        return arr\n",
    "    pivot = arr[len(arr) // 2]\n",
    "    left = [x for x in arr if x < pivot]\n",
    "    middle = [x for x in arr if x == pivot]\n",
    "    right = [x for x in arr if x > pivot]\n",
    "    return quicksort(left) + middle + quicksort(right)\n",
    "\n",
    "print(quicksort([3,6,8,10,1,2,1]))"
   ]
  },
  {
   "cell_type": "markdown",
   "id": "5cf56079",
   "metadata": {},
   "source": [
    "### Aufgabe 2: List und Dict in Python3\n",
    "1. Eine Liste erstellen und ein Element hinzufügen\n",
    "2. Ein Element an der zweiten Stelle hinzufügen\n",
    "3. Ein Element entfernen\n",
    "4. Erstellen Sie eine zweite Liste und konkatenieren Sie diese\n",
    "5. Zerschneiden Sie die neue Liste an zwei beliebigen Stellen\n",
    "6. Erstellen Sie ein beliebiges Dictionary\n",
    "7. Fügen Sie dem Dict ein weiters Element hinzu\n",
    "8. Entfernen Sie aus dem Dict das neue Element.\n",
    "9. Geben Sie mittels einer For-Schleife, alle Keys und Values aus dem Dict aus."
   ]
  },
  {
   "cell_type": "code",
   "execution_count": null,
   "id": "76b46ba2",
   "metadata": {},
   "outputs": [],
   "source": [
    "# Musterlösung\n",
    "## 2.1\n",
    "my_list = [1, 2, 3, 4]\n",
    "my_list.append(5)\n",
    "## 2.2\n",
    "my_list.insert(1, 0)\n",
    "## 2.3\n",
    "my_list.pop(1)\n",
    "## 2.4\n",
    "foo = [5, 6, 7, 8]\n",
    "my_list += foo\n",
    "## 2.5\n",
    "my_list[2:4]\n",
    "## 2.6\n",
    "my_dict = {1: \"foo\", 2: \"bar\"}\n",
    "## 2.7\n",
    "my_dict[3] = \"foobar\"\n",
    "## 2.8\n",
    "del my_dict[3]\n",
    "## 2.9\n",
    "for key, values in my_dict.items():\n",
    "    print(key, values)"
   ]
  },
  {
   "cell_type": "markdown",
   "id": "c415ce02",
   "metadata": {},
   "source": [
    "### Aufgabe 3: Implementieren Sie einen Warenkorb."
   ]
  },
  {
   "cell_type": "code",
   "execution_count": 1,
   "id": "3d27e07e",
   "metadata": {},
   "outputs": [
    {
     "name": "stdout",
     "output_type": "stream",
     "text": [
      "Hallo, was möchtest du haben?\n",
      "1> T-Shirt (9.99 EUR)\n",
      "2> Pullover (19.99 EUR)\n",
      "> 1\n",
      "In deinem Einkaufswagen befinden sich folgende Einkäufe\n",
      "> T-Shirt (9.99 EUR)\n",
      "Möchtest du noch etwas hinzufügen? (y/n)y\n",
      "Hallo, was möchtest du haben?\n",
      "1> T-Shirt (9.99 EUR)\n",
      "2> Pullover (19.99 EUR)\n",
      "> 1\n",
      "In deinem Einkaufswagen befinden sich folgende Einkäufe\n",
      "> T-Shirt (9.99 EUR)\n",
      "> T-Shirt (9.99 EUR)\n",
      "Möchtest du noch etwas hinzufügen? (y/n)y\n",
      "Hallo, was möchtest du haben?\n",
      "1> T-Shirt (9.99 EUR)\n",
      "2> Pullover (19.99 EUR)\n",
      "> 2\n",
      "In deinem Einkaufswagen befinden sich folgende Einkäufe\n",
      "> T-Shirt (9.99 EUR)\n",
      "> T-Shirt (9.99 EUR)\n",
      "> Pullover (19.99 EUR)\n",
      "Möchtest du noch etwas hinzufügen? (y/n)n\n",
      "Danke für deinen Einkauf, wir leiten Sie zur Kasse weiter. Zahlen Sie dort 39.97 EUR\n"
     ]
    }
   ],
   "source": [
    "# Musterlösung\n",
    "shopping_cart = []\n",
    "articles = {\n",
    "    1: {\n",
    "        \"name\": \"T-Shirt\", \n",
    "        \"price\": 9.99, \n",
    "        \"currency\": \"EUR\",\n",
    "        \"available\": \"67\"\n",
    "    },\n",
    "    2: {\n",
    "        \"name\": \"Pullover\", \n",
    "        \"price\": 19.99, \n",
    "        \"currency\": \"EUR\",\n",
    "        \"available\": \"19\"\n",
    "    },\n",
    "    3: {\n",
    "        \"name\": \"Watch\", \n",
    "        \"price\": 109.99, \n",
    "        \"currency\": \"EUR\",\n",
    "        \"available\": \"0\"\n",
    "    }\n",
    "}\n",
    "\n",
    "def get_customer_wish():\n",
    "    print(\"Hallo, was möchtest du haben?\")\n",
    "    for key, values in articles.items():\n",
    "        if int(values[\"available\"]) > 0:\n",
    "            print(f\"{key}> {values['name']} ({values['price']} {values['currency']})\") \n",
    "    wish = input(\"> \").strip()\n",
    "    if wish.isnumeric():\n",
    "        return articles[int(wish)]\n",
    "\n",
    "def update_shopping_cart(element):\n",
    "    shopping_cart.append(element)    \n",
    "    print(\"In deinem Einkaufswagen befinden sich folgende Einkäufe\")\n",
    "    for element in shopping_cart:\n",
    "        print(f\"> {element['name']} ({element['price']} {element['currency']})\") \n",
    "    print(\"Möchtest du noch etwas hinzufügen? (y/n)\", end=\"\")\n",
    "    add_input = input(\"\").strip()\n",
    "    if add_input.lower() == \"y\":\n",
    "        return True\n",
    "    elif add_input.lower() == \"n\": \n",
    "        return False\n",
    "    \n",
    "def main():\n",
    "    amount = 0\n",
    "    again = update_shopping_cart(get_customer_wish())\n",
    "    if again: \n",
    "        main()\n",
    "    if not again: \n",
    "        for element in shopping_cart:\n",
    "            amount += element[\"price\"]\n",
    "        print(f\"Danke für deinen Einkauf, wir leiten Sie zur Kasse weiter. Zahlen Sie dort {amount} {element['currency']}\")\n",
    "\n",
    "main()"
   ]
  },
  {
   "cell_type": "code",
   "execution_count": null,
   "id": "a05607d6",
   "metadata": {},
   "outputs": [],
   "source": []
  }
 ],
 "metadata": {
  "kernelspec": {
   "display_name": "Python 3 (ipykernel)",
   "language": "python",
   "name": "python3"
  },
  "language_info": {
   "codemirror_mode": {
    "name": "ipython",
    "version": 3
   },
   "file_extension": ".py",
   "mimetype": "text/x-python",
   "name": "python",
   "nbconvert_exporter": "python",
   "pygments_lexer": "ipython3",
   "version": "3.9.10"
  }
 },
 "nbformat": 4,
 "nbformat_minor": 5
}
