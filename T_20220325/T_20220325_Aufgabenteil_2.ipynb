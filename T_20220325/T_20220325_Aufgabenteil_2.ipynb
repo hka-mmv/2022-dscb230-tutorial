{
 "cells": [
  {
   "cell_type": "markdown",
   "metadata": {},
   "source": [
    "# Tutorium DSCB 230"
   ]
  },
  {
   "cell_type": "markdown",
   "metadata": {},
   "source": [
    "Tim Ehmann"
   ]
  },
  {
   "cell_type": "markdown",
   "metadata": {},
   "source": [
    "## (1)\n",
    "Schreiben Sie ein Programm, welches die Quersumme einer zufällig genierierten Integer Zahl zwischen 0 und 100000 ausgibt"
   ]
  },
  {
   "cell_type": "code",
   "execution_count": null,
   "metadata": {},
   "outputs": [],
   "source": [
    "import random"
   ]
  },
  {
   "cell_type": "markdown",
   "metadata": {},
   "source": [
    "## (2)\n",
    "In einer social media App können verschiedene User sich als Freunde adden. Gegeben haben wir eine Liste an Nutzern (**nutzer**) und Freundschaften (**freundschaftspaare**). Um leichter sehen zu können, welche Personen am Populärsten sind bzw. welche Personen viele oder wenige Freunde auf der App haben, sollen Sie ein Dictionary **freundschaften** erstellen, welches für jeden User die Namen der Freunde speichert. \n",
    "Dieses sollte so aussehen: {\"Paul\": [\"Marie\", \"Sue\"], ... }\n",
    "\n",
    "Tipp1: Lege zuerst ein Dictionary an, welches nur die Namen als Keys und eine leere Liste als Value hat. Befülle die Listen erst im nächsten Schritt.\n",
    "\n",
    "Tipp2: Die ID des Nutzers ist gleichzeitig auch der Index des Nutzers in der Nutzer Liste"
   ]
  },
  {
   "cell_type": "code",
   "execution_count": null,
   "metadata": {},
   "outputs": [],
   "source": [
    "nutzer = [\n",
    "    {\"id\": 0, \"name\": \"Paul\"},\n",
    "    {\"id\": 1, \"name\": \"Marie\"},\n",
    "    {\"id\": 2, \"name\": \"Sue\"},\n",
    "    {\"id\": 3, \"name\": \"Justus\"},\n",
    "    {\"id\": 4, \"name\": \"Anna\"},\n",
    "    {\"id\": 5, \"name\": \"Marian\"},\n",
    "    {\"id\": 6, \"name\": \"Svenja\"},\n",
    "    {\"id\": 7, \"name\": \"Devin\"},\n",
    "    {\"id\": 8, \"name\": \"Lars\"},\n",
    "    {\"id\": 9, \"name\": \"Peter\"},\n",
    "]\n",
    "\n",
    "freundschaftspaare = [(0, 1), (0, 2), (1, 2), (1, 3), (2, 3), (2, 8), (3, 4),\n",
    "                    (4, 5), (5, 6), (5, 7), (6, 8), (7, 8), (8, 9)]\n"
   ]
  },
  {
   "cell_type": "markdown",
   "metadata": {},
   "source": [
    "## (3)\n",
    "\n",
    "Schreiben Sie eine Funktion **anzahl_an_Freunden**, welche ausgibt, wie viele Freunde eine Person hat.\n",
    "Falls die vorherige Aufgabe nicht gelöst wurde, verwenden Sie das bereitgestellte Dictionary."
   ]
  },
  {
   "cell_type": "code",
   "execution_count": 11,
   "metadata": {},
   "outputs": [],
   "source": [
    "\"\"\"\n",
    "freundschaften = {\n",
    "    'Paul': ['Marie', 'Sue'], \n",
    "    'Marie': ['Paul', 'Sue', 'Justus'], \n",
    "    'Sue': ['Paul', 'Marie', 'Justus', 'Lars'], \n",
    "    'Justus': ['Marie', 'Sue', 'Anna'], \n",
    "    'Anna': ['Justus', 'Marian'], \n",
    "    'Marian': ['Anna', 'Svenja', 'Devin'], \n",
    "    'Svenja': ['Marian', 'Lars'], \n",
    "    'Devin': ['Marian', 'Lars'], \n",
    "    'Lars': ['Sue', 'Svenja', 'Devin', 'Peter'], \n",
    "    'Peter': ['Lars']}\n",
    "\"\"\"\n",
    "\n",
    "def anzahl_an_freunden(nutzer):\n",
    "    \"\"\"Gibt Die Anzahl an Freunden aus\"\"\"\n",
    "    pass"
   ]
  },
  {
   "cell_type": "markdown",
   "metadata": {},
   "source": [
    "Probieren Sie nun die Funktionalität Ihres Codes\n"
   ]
  },
  {
   "cell_type": "code",
   "execution_count": null,
   "metadata": {},
   "outputs": [],
   "source": [
    "print(f\"Marie hat {anzahl_an_freunden(nutzer[1])} Freunde\")\n",
    "print(f\"Justus hat {anzahl_an_freunden(nutzer[3])} Freunde\")\n",
    "print(f\"Peter hat {anzahl_an_freunden(nutzer[9])} Freunde\")"
   ]
  }
 ],
 "metadata": {
  "interpreter": {
   "hash": "b0fa6594d8f4cbf19f97940f81e996739fb7646882a419484c72d19e05852a7e"
  },
  "kernelspec": {
   "display_name": "Python 3 (ipykernel)",
   "language": "python",
   "name": "python3"
  },
  "language_info": {
   "codemirror_mode": {
    "name": "ipython",
    "version": 3
   },
   "file_extension": ".py",
   "mimetype": "text/x-python",
   "name": "python",
   "nbconvert_exporter": "python",
   "pygments_lexer": "ipython3",
   "version": "3.9.10"
  }
 },
 "nbformat": 4,
 "nbformat_minor": 2
}
