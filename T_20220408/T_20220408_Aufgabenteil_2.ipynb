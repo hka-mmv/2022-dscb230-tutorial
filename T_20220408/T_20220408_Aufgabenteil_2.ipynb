{
 "cells": [
  {
   "cell_type": "markdown",
   "id": "9965548e-b9c9-4482-a889-66910d69e15d",
   "metadata": {},
   "source": [
    "# Tutorium DSCB 230\n",
    "### 08.04.2022"
   ]
  },
  {
   "cell_type": "markdown",
   "id": "452b19ae-ec32-4883-b751-4630228afa17",
   "metadata": {},
   "source": [
    "fj"
   ]
  },
  {
   "cell_type": "markdown",
   "id": "1b1c844c-b941-49d2-ae23-d51f57b56bce",
   "metadata": {},
   "source": [
    "## Aufgabe 1 (reduce, zip, lambda)"
   ]
  },
  {
   "cell_type": "markdown",
   "id": "c00ffa7f-6e2d-446c-a480-67f8b32d0990",
   "metadata": {},
   "source": [
    "__1.1__ Nutzen Sie die reduce() Funktion, in Verbindung mit einer __lambda__ Funktion, um das Produkt aller Zahlen in dem vorgegebenen Tupel zu berechnen.\n",
    "\n",
    "*Weiterführendes Material: https://python-reference.readthedocs.io/en/latest/docs/functions/reduce.html*"
   ]
  },
  {
   "cell_type": "code",
   "execution_count": 3,
   "id": "6342f126-23a0-4d26-ab52-a670427a19ca",
   "metadata": {},
   "outputs": [],
   "source": [
    "liste = (2, 4, 5, 1, 6, 7, 4, 3, 7, 9, 4)"
   ]
  },
  {
   "cell_type": "markdown",
   "id": "a2a4c22f-f13a-48eb-a94c-6ac30dcbff2b",
   "metadata": {},
   "source": [
    "__1.2__ Ein Polizeirevier speichert Daten der Polizisten/Polizistinnen in verschiedenen Listen. Nun soll aus verwaltungstechnischen Gründen nur noch ein __Tuple__ zugehöriger Daten je Polizist*in in einer Liste gespeichert werden. z.B. [(\"Jake\", 40, 9544), (\"Amy\", ...), ...]\n",
    "\n",
    "Nutzen Sie die zip Funktion, um dies zu erreichen"
   ]
  },
  {
   "cell_type": "code",
   "execution_count": 4,
   "id": "55c83e84-84a1-434d-8b57-6a58c50113d0",
   "metadata": {},
   "outputs": [],
   "source": [
    "names = [\"Jake\", \"Amy\", \"Rosa\", \"Charles\", \"Terry\", \"Hitchcock\", \"Scully\", \"Gina\"]\n",
    "ages = [40, 38, 38, 47, 52, 60, 65, 41]\n",
    "badge_no = [9544, 3263, 3118, 4262, 3781, 1023, 1893, None]"
   ]
  },
  {
   "cell_type": "markdown",
   "id": "aacb7fa2-ec73-47a1-a0c3-a4d7f88589c7",
   "metadata": {},
   "source": [
    "## Aufgabe 2 Oscar-Verleihungen (filter, map, list comprehension)"
   ]
  },
  {
   "cell_type": "markdown",
   "id": "62130cff-4282-4d0e-95bb-c07481a4d377",
   "metadata": {},
   "source": [
    "In der Liste \"best_actor\" sehen Sie Informationen zu den diesjährigen Oscar-Nominierungen für den besten Schauspieler.\n",
    "Nutzen Sie __lambda__ Funktionen innerhalb der filter/map Funktion.\n",
    "\n",
    "__2.1__ Nutzen Sie die filter() Funktion, um eine Liste zu erzeugen, die die Informationen zu Schauspielern, über 50 Jahren beinhaltet\n",
    "\n",
    "__2.2__ Lösen Sie 3.1 mit einer List Comprehension\n",
    "\n",
    "__2.3__ Nutzen Sie die filter() Funktion, um eine Liste zu erzeugen, die die Informationen zu Schauspielern, die Chris Rock geohrfeigt haben, beinhaltet\n",
    "\n",
    "__2.4__ Lösen Sie 3.3 mit einer List Comprehension\n",
    "\n",
    "__2.5__ Nutzen Sie die map() Funktion, um eine Liste zu erzeugen, die nur die Namen aller Schauspieler beinhaltet\n",
    "\n",
    "__2.6__ Lösen Sie 3.5 mit einer List Comprehension"
   ]
  },
  {
   "cell_type": "code",
   "execution_count": 5,
   "id": "59e4f3eb-149e-4748-ab78-434912890543",
   "metadata": {},
   "outputs": [],
   "source": [
    "best_actor = [{\"name\" : \"Benedict Cumberbatch\", \"age\" : 45, \"slapped_Chris_Rock\" : False},\n",
    "              {\"name\" : \"Andrew Garfield\", \"age\" : 38, \"slapped_Chris_Rock\" : False},\n",
    "              {\"name\" : \"Will Smith\", \"age\" : 53, \"slapped_Chris_Rock\" : True},\n",
    "              {\"name\" : \"Denzel Washington\", \"age\" : 67, \"slapped_Chris_Rock\" : False},\n",
    "              {\"name\" : \"Javier Bardem\", \"age\" : 53, \"slapped_Chris_Rock\" : False}]"
   ]
  },
  {
   "cell_type": "markdown",
   "id": "ac8173e1-60a5-4ff7-a8fe-9a2badc019e4",
   "metadata": {},
   "source": [
    "## Aufgabe 3 Banknoten (basics, list comprehension)\n",
    "Aus _Philipp G. Freimann (https://www.programmieraufgaben.ch/aufgabe/pruefziffer-auf-euro-banknoten/fy4ohgdx)_\n",
    "\n",
    "Eine Bank bittet Sie, ein Programm zu schreiben, das prüft, ob die Seriennummer auf einer Euro-Banknote stimmt, oder nicht.\n",
    "\n",
    "Auf allen Banknoten ist eine eindeutige Seriennummer aufgedruckt. Bei Euro-Scheinen haben diese Nummern das folgende Format:\n",
    "\n",
    "$$SE8587985563$$\n",
    "\n",
    "Dabei sind die ersten zwei Zeichen ein __Druckerei-Code__ (\"S\" z. B. steht für Banca d’Italia, \"E\" dient der Kennzeichnung der Banknote innerhalb der Ausgaben der Druckerei. ). Es folgen 9 __Nutzziffern__ und zuletzt die __Prüfziffer__ (im Beispiel 8).\n",
    "\n",
    "Die Prüfziffer wird wie folgt berechnet:\n",
    "\n",
    "1. Schreibe anstelle des Druckerei-Codes die Position der Buchstaben im Alphabet (startend mit 1 für A). Hier 19 für \"S\" und 5 für \"E\". Die neue Seriennummer liest sich so __1958587985563__. (Nutzen Sie an dieser Stelle in ihrem Code eine list __comprehension__)\n",
    "\n",
    "2. Bilde die Quersumme aus allen Stellen (außer der Prüfziffer). Hier also 1+9+5+8+5+8+7+9+8+5+5+6 liefert 76.\n",
    "\n",
    "3. Bilde den Neunerrest: 76 : 9 = 8 rest 4.\n",
    "\n",
    "4. Zähle den Rest von sieben ab. Ist das Resultat = 0, so ist die Prüfziffer gleich neun (9). Ist das Resultat = -1, so ist die Prüfziffer gleich acht (8). In allen anderen Fällen ist diese Differenz (7 - Rest) gleich der Prüfziffer. Hier 7 - 4 = 3.\n",
    "\n",
    "Schreiben Sie ein Programm, das eine Euro-Seriennummer entgegen nimmt und prüft, ob die Seriennummer korrekt ist."
   ]
  },
  {
   "cell_type": "code",
   "execution_count": 6,
   "id": "ced41b31-4b61-48eb-b156-ec75906d2786",
   "metadata": {},
   "outputs": [],
   "source": [
    "geldschein_1 = \"FA5011913358\" #echt\n",
    "geldschein_2 = \"UA3065954457\" #echt\n",
    "geldschein_3 = \"SB8410052723\" #blüte"
   ]
  },
  {
   "cell_type": "code",
   "execution_count": null,
   "id": "3fe05576-f923-4898-aeb4-89f4d6f67276",
   "metadata": {},
   "outputs": [],
   "source": []
  }
 ],
 "metadata": {
  "kernelspec": {
   "display_name": "Python 3 (ipykernel)",
   "language": "python",
   "name": "python3"
  },
  "language_info": {
   "codemirror_mode": {
    "name": "ipython",
    "version": 3
   },
   "file_extension": ".py",
   "mimetype": "text/x-python",
   "name": "python",
   "nbconvert_exporter": "python",
   "pygments_lexer": "ipython3",
   "version": "3.9.7"
  }
 },
 "nbformat": 4,
 "nbformat_minor": 5
}
