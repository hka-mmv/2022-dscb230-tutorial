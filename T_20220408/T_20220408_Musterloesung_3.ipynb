{
 "cells": [
  {
   "cell_type": "markdown",
   "metadata": {},
   "source": [
    "# Tutorium DSCB240"
   ]
  },
  {
   "cell_type": "markdown",
   "metadata": {},
   "source": [
    "Tim Ehmann"
   ]
  },
  {
   "cell_type": "markdown",
   "metadata": {},
   "source": [
    "## T_20220804\n"
   ]
  },
  {
   "cell_type": "markdown",
   "metadata": {},
   "source": [
    "### Aufgabe 1\n",
    "Schreiben Sie ein Programm, welches eine Textdatei einliest und zählt, wie oft welcher Buchstabe darin vorkommt (Groß- und Kleinschreibung soll egal sein). Hierbei ist das **Counter** Object von **collections** hilfreich. \n",
    "\n",
    "https://docs.python.org/3/library/collections.html#collections.Counter\n",
    "\n",
    "Sie können es aber auch ohne Buil-in Methode programmieren\n"
   ]
  },
  {
   "cell_type": "code",
   "execution_count": null,
   "metadata": {},
   "outputs": [],
   "source": [
    "from collections import Counter\n",
    "import pprint\n",
    "\n",
    "sample_file = 'sample.txt'\n",
    "with open(sample_file, 'r') as sample_text:\n",
    "    count = Counter(sample_text.read().upper())\n",
    "    value = pprint.pformat(count)\n",
    "print(value)"
   ]
  },
  {
   "cell_type": "code",
   "execution_count": null,
   "metadata": {},
   "outputs": [],
   "source": [
    "# Ohne Counter\n",
    "\n",
    "char_counts = {}\n",
    "with open(sample_file, 'r') as sample_text:\n",
    "    for char in sample_text.read():\n",
    "        char = char.upper()\n",
    "        try:\n",
    "            char_counts[char] += 1\n",
    "        except:\n",
    "            char_counts[char] = 1\n",
    "print(sorted(char_counts.items(), key = lambda x: x[1], reverse=True))"
   ]
  },
  {
   "cell_type": "markdown",
   "metadata": {},
   "source": [
    "### Aufgabe 2\n",
    "\n",
    "Die Collatz-Conjecture ist eine mathematische Vermutung, welche 1937 von Lothar Collatz aufgestellt wurde. Diese sagt aus, dass jede natürliche Zahl irgendwann bei 1 endet, wenn auf ihr folgende einfache Rechnung angewendet wird:\n",
    "1. Ist n gerade so wird n halbiert (n = n/2)\n",
    "2. Ist n ungerade, so wird n zu 3n+1 (n = 3n+1)\n",
    "\n",
    "Dies wird so lange wiederholt, bis n 1 erreicht.. Ab hier würde sich eine Schleife zwischen 1-4-2-1-4-2-... bilden. Bis heute ist es nicht gelungen, diese Vermutung zu beweisen.\n",
    "\n",
    "Hier ein Video von \"Veritasium\" über diese Vermutung\n",
    "\n",
    "https://www.youtube.com/watch?v=094y1Z2wpJg\n",
    "\n",
    "\n",
    "Programmieren sie nun ein Programm, welches für jeden Startwert n zwischen 1 und 100 dokumentiert, was die höchste Zahl ist, die beim Durchlaufen der oben genannten Schritte erreicht wird. Sortieren Sie danach die Startwert-Maximalwert Paare absteigend nach dem erreichten Maximalwert. Experimentieren Sie ruhig mit den Zahlen etwas herum indem sie höhere Startwerte ausprobieren. (bis 1000, 10000, 100000...)\n"
   ]
  },
  {
   "cell_type": "code",
   "execution_count": 13,
   "metadata": {},
   "outputs": [
    {
     "name": "stdout",
     "output_type": "stream",
     "text": [
      "[('77671', 1570824736.0), ('94959', 720170836.0), ('60975', 593279152.0), ('69535', 593279152.0), ('82411', 593279152.0), ('91463', 593279152.0), ('92713', 593279152.0), ('99007', 593279152.0), ('65307', 521790496.0), ('73471', 521790496.0)]\n"
     ]
    }
   ],
   "source": [
    "reached_numbers = {}\n",
    "\n",
    "for n in range(1,100001):\n",
    "    value_tracker = n\n",
    "    max_val = n\n",
    "    while value_tracker != 1:\n",
    "        if value_tracker%2 == 0:\n",
    "            value_tracker /= 2\n",
    "        else: \n",
    "            value_tracker = 3*value_tracker + 1\n",
    "        if value_tracker > max_val: max_val = value_tracker\n",
    "    reached_numbers[str(n)] = max_val\n",
    "\n",
    "print(sorted(reached_numbers.items(), key = lambda x: x[1], reverse=True)[:10])\n",
    "        \n"
   ]
  },
  {
   "cell_type": "markdown",
   "metadata": {},
   "source": [
    "### Aufgabe 3\n",
    "\n",
    "Schreiben Sie ein Programm, welches überprüft, ob zwei Zahlen Primzahlzwillinge sind oder nicht. Primzahlzwillinge sind zwei Primzahlen, welche die Differenz 2 haben."
   ]
  },
  {
   "cell_type": "code",
   "execution_count": 19,
   "metadata": {},
   "outputs": [
    {
     "name": "stdout",
     "output_type": "stream",
     "text": [
      "5 und 3 sind Primzahlzwillinge\n",
      "13 und 15 sind keine Primzahlzwillinge\n",
      "7 und 11 sind keine Primzahlzwillinge\n"
     ]
    }
   ],
   "source": [
    "def check_prime(n):\n",
    "    if n == 2: return True\n",
    "    if n%2 == 0 or n<2: return False\n",
    "    for i in range(3, int(n**0.5)+1, 2):\n",
    "        if n%i == 0: return False\n",
    "    return True\n",
    "\n",
    "def check_coprime(a,b):\n",
    "    if all([abs(a-b) == 2, check_prime(a), check_prime(b)]):\n",
    "        return f\"{a} und {b} sind Primzahlzwillinge\"\n",
    "    return f\"{a} und {b} sind keine Primzahlzwillinge\"\n",
    "\n",
    "print(check_coprime(5, 3))\n",
    "print(check_coprime(13, 15))\n",
    "print(check_coprime(7, 11))\n",
    "\n",
    "\n",
    "\n",
    "\n"
   ]
  }
 ],
 "metadata": {
  "interpreter": {
   "hash": "b0fa6594d8f4cbf19f97940f81e996739fb7646882a419484c72d19e05852a7e"
  },
  "kernelspec": {
   "display_name": "Python 3 (ipykernel)",
   "language": "python",
   "name": "python3"
  },
  "language_info": {
   "codemirror_mode": {
    "name": "ipython",
    "version": 3
   },
   "file_extension": ".py",
   "mimetype": "text/x-python",
   "name": "python",
   "nbconvert_exporter": "python",
   "pygments_lexer": "ipython3",
   "version": "3.9.12"
  }
 },
 "nbformat": 4,
 "nbformat_minor": 2
}
