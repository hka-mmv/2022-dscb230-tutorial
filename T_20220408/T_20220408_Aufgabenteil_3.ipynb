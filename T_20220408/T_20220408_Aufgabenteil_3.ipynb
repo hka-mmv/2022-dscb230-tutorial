{
 "cells": [
  {
   "cell_type": "markdown",
   "metadata": {},
   "source": [
    "# Tutorium DSCB240"
   ]
  },
  {
   "cell_type": "markdown",
   "metadata": {},
   "source": [
    "Tim Ehmann"
   ]
  },
  {
   "cell_type": "markdown",
   "metadata": {},
   "source": [
    "## T_20220804"
   ]
  },
  {
   "cell_type": "markdown",
   "metadata": {},
   "source": [
    "### Aufgabe 1\n",
    "Schreiben Sie ein Programm, welches eine Textdatei einliest und zählt, wie oft welcher Text-Charakter darin vorkommt (Groß- und Kleinschreibung soll egal sein). Hierbei ist das **Counter** Object von **collections** hilfreich. \n",
    "\n",
    "https://docs.python.org/3/library/collections.html#collections.Counter\n",
    "\n",
    "Sie können es aber auch ohne Buil-in Methode programmieren"
   ]
  },
  {
   "cell_type": "code",
   "execution_count": null,
   "metadata": {},
   "outputs": [],
   "source": [
    "from collections import Counter\n",
    "import pprint\n",
    "\n",
    "sample_file = \"sample.txt\""
   ]
  },
  {
   "cell_type": "markdown",
   "metadata": {},
   "source": [
    "### Aufgabe 2\n",
    "\n",
    "Die Collatz-Conjecture ist eine mathematische Vermutung, welche 1937 von Lothar Collatz aufgestellt wurde. Diese sagt aus, dass jede natürliche Zahl irgendwann bei 1 endet, wenn auf ihr folgende einfache Rechnung angewendet wird:\n",
    "1. Ist n gerade so wird n halbiert (n = n/2)\n",
    "2. Ist n ungerade, so wird n zu 3n+1 (n = 3n+1)\n",
    "\n",
    "Dies wird so lange wiederholt, bis n 1 erreicht.. Ab hier würde sich eine Schleife zwischen 1-4-2-1-4-2-... bilden. Bis heute ist es nicht gelungen, diese Vermutung zu beweisen.\n",
    "\n",
    "Hier ein Video von \"Veritasium\" über diese Vermutung\n",
    "\n",
    "https://www.youtube.com/watch?v=094y1Z2wpJg\n",
    "\n",
    "\n",
    "Programmieren sie nun ein Programm, welches für jeden Startwert n zwischen 1 und 100 dokumentiert, was die höchste Zahl ist, die beim Durchlaufen der oben genannten Schritte erreicht wird. Sortieren Sie danach die Startwert-Maximalwert Paare absteigend nach dem erreichten Maximalwert. Experimentieren Sie ruhig mit den Zahlen etwas herum indem sie höhere Startwerte ausprobieren. (bis 1000, 10000, 100000...)"
   ]
  },
  {
   "cell_type": "code",
   "execution_count": null,
   "metadata": {},
   "outputs": [],
   "source": []
  },
  {
   "cell_type": "markdown",
   "metadata": {},
   "source": [
    "### Aufgabe 3\n",
    "\n",
    "Schreiben Sie ein Programm, welches überprüft, ob zwei Zahlen Primzahlzwillinge sind oder nicht. Primzahlzwillinge sind zwei Primzahlen, welche die Differenz 2 haben."
   ]
  },
  {
   "cell_type": "code",
   "execution_count": null,
   "metadata": {},
   "outputs": [],
   "source": []
  }
 ],
 "metadata": {
  "interpreter": {
   "hash": "b0fa6594d8f4cbf19f97940f81e996739fb7646882a419484c72d19e05852a7e"
  },
  "kernelspec": {
   "display_name": "Python 3.9.7 64-bit",
   "language": "python",
   "name": "python3"
  },
  "language_info": {
   "name": "python",
   "version": "3.9.7"
  },
  "orig_nbformat": 4
 },
 "nbformat": 4,
 "nbformat_minor": 2
}
