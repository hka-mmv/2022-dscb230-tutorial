{
 "cells": [
  {
   "cell_type": "markdown",
   "id": "c8bf5b07",
   "metadata": {},
   "source": [
    "# Tutorium DSCB 230"
   ]
  },
  {
   "cell_type": "markdown",
   "id": "d058160b",
   "metadata": {},
   "source": [
    "Raphaele Salvatore Licciardo\n"
   ]
  },
  {
   "cell_type": "markdown",
   "id": "06ea89ff",
   "metadata": {},
   "source": [
    "## T_20220408"
   ]
  },
  {
   "cell_type": "markdown",
   "id": "726b28d0",
   "metadata": {},
   "source": [
    "### Aufgabe 1: Boolesche Operatoren und Aussagenlogik\n",
    "\n",
    "Ermitteln Sie das Ergebnis der folgenden Booleschen Operatoren. Verwenden Sie hierzu keinerlei Hilfsmittel!\n",
    "\n",
    "\n",
    "`a, b, c = 6, 7, 42`\n",
    "\n",
    "1. `a == 6`\n",
    "2. `a == 7`\n",
    "3. `a == 6 and b == 7`\n",
    "4. `a == 7 and b == 7`\n",
    "5. `not a == 7 and b == 7`\n",
    "6. `a == 7 or b == 7`\n",
    "7. `a == 7 or b == 6`\n",
    "8. `not (a == 7 and b == 6)`\n",
    "9. `not a == 7 and b == 6`\n",
    "10. `not (a == 7) and not(b == 6)`\n",
    "11. `not (not (a == 7) and not (b == 6))`\n",
    "12. `not (not (a == 7) and b == 6)`\n",
    "13. `not (not (a == 7) or b == 6)`\n",
    "14. `not (not (a == 7) | b == 6)`\n",
    "15. `not (not (a == 7) & b == 6)`\n",
    "\n",
    "Erklären Sie den Unterschied zwischen `&` und einem `and`.\n",
    "\n",
    "Erklären Sie den Unterschied zwischen `|` und einem `or`."
   ]
  },
  {
   "cell_type": "code",
   "execution_count": 37,
   "id": "1b3ba9ba",
   "metadata": {},
   "outputs": [
    {
     "name": "stdout",
     "output_type": "stream",
     "text": [
      "Teil 01) True\n",
      "Teil 02) False\n",
      "Teil 03) True\n",
      "Teil 04) False\n",
      "Teil 05) True\n",
      "Teil 06) True\n",
      "Teil 07) False\n",
      "Teil 08) True\n",
      "Teil 09) False\n",
      "Teil 10) True\n",
      "Teil 11) False\n",
      "Teil 12) True\n",
      "Teil 13) False\n",
      "Teil 14) False\n",
      "Teil 15) False\n"
     ]
    }
   ],
   "source": [
    "a, b, c = 6, 7, 42 \n",
    "\n",
    "print(\"Teil 01)\", a == 6)\n",
    "print(\"Teil 02)\", a == 7)\n",
    "print(\"Teil 03)\", a == 6 and b == 7)\n",
    "print(\"Teil 04)\", a == 7 and b == 7)\n",
    "print(\"Teil 05)\", not a == 7 and b == 7)\n",
    "print(\"Teil 06)\", a == 7 or b == 7)\n",
    "print(\"Teil 07)\", a == 7 or b == 6)\n",
    "print(\"Teil 08)\", not (a == 7 and b == 6))\n",
    "print(\"Teil 09)\", not a == 7 and b == 6)\n",
    "print(\"Teil 10)\", not (a == 7) and not(b == 6))\n",
    "print(\"Teil 11)\", not (not (a == 7) and not (b == 6)))\n",
    "print(\"Teil 12)\", not (not (a == 7) and b == 6))\n",
    "print(\"Teil 13)\", not (not (a == 7) or b == 6))\n",
    "print(\"Teil 14)\", not (not (a == 7) | b == 6))\n",
    "print(\"Teil 15)\", not (not (a == 7) & b == 6))\n",
    "\n",
    "# & und | sind Bitweise \n",
    "# and und or sind Logisch"
   ]
  },
  {
   "cell_type": "markdown",
   "id": "82102477",
   "metadata": {},
   "source": [
    "### Aufgabe 2: Funktionale Programmierung\n",
    "\n",
    "Sie haben folgende Temperaturen in Celsius gegeben: `[45.2, 36.5, 36.3, 28, 37.2]` rechnen Sie diese in Fahrenheit um. Sie sollten hierfür manche der folgende Funktionen verwenden. Die Fortgeschrittenen sollten alle Verwenden: \n",
    "- list\n",
    "    - https://python-reference.readthedocs.io/en/latest/docs/functions/list.html\n",
    "    - Converts an object into a list\n",
    "- map \n",
    "    - https://python-reference.readthedocs.io/en/latest/docs/functions/map.html\n",
    "    - Applies function to every item of an iterable and returns a list of the results\n",
    "- float \n",
    "    - https://python-reference.readthedocs.io/en/latest/docs/functions/float.html\n",
    "    - Returns an expression converted into a floating point number\n",
    "- format \n",
    "    - https://python-reference.readthedocs.io/en/latest/docs/functions/format.html\n",
    "    - Returns a formatted string\n",
    "- enumerate \n",
    "    - https://python-reference.readthedocs.io/en/latest/docs/functions/enumerate.html\n",
    "    - Returns an enumerate object\n",
    "- round \n",
    "    - https://python-reference.readthedocs.io/en/latest/docs/functions/round.html\n",
    "    - Returns a floating point number rounded to a specified number of decimal places\n",
    "- zip\n",
    "    - https://python-reference.readthedocs.io/en/latest/docs/functions/zip.html\n",
    "    - Returns a list of tuples, where the i-th tuple contains the i-th element from each of the argument sequences or iterables\n",
    "- lambda \n",
    "    - https://python-reference.readthedocs.io/en/latest/docs/operators/lambda.html\n",
    "    - Returns an anonymous function.\n",
    "\n",
    "Die Ausgabe sollte wie folgt aussehen:\n",
    "```\n",
    "1) 45.20 °C -> 113.3600 °F\n",
    "2) 36.50 °C -> 97.7000 °F\n",
    "3) 36.30 °C -> 97.3400 °F\n",
    "4) 28.00 °C -> 82.4000 °F\n",
    "5) 37.20 °C -> 98.9600 °F\n",
    "```\n",
    "\n",
    "*Zusätzliche Fortgeschrittenen Aufgabe: Die Musterlösung beinhaltet einen kleinen Fehler, der nur unter gewissen Konditionen auftritt. Es wurde eine Fahrenheit und eine Celsius Liste implementiert. Falls Sie dies nicht so getan haben, versuchen Sie es.\n",
    "So, nun sollten Sie eine Fahrenheit und eine Celsius Liste haben, Versuchen Sie die Fahrenheit Werte über 100 herauszufiltern. Was für einen Fehler entdecken Sie nun? Beheben Sie diesen ohne eine weitere Zeile hinzuzufügen. Tipp: Sie befinden Sich in der Funktionalen Programmierung, suchen Sie eine weitere Funktion welche ihnen hierbei helfen kann.*"
   ]
  },
  {
   "cell_type": "code",
   "execution_count": 1,
   "id": "9a862085",
   "metadata": {},
   "outputs": [
    {
     "name": "stdout",
     "output_type": "stream",
     "text": [
      "+++++++++++++++++++++++++++++++++++++\n",
      "++++++++++ Anfänger +++++++++++++++++\n",
      "+++++++++++++++++++++++++++++++++++++\n",
      "1) 45.20 °C -> 113.3600 °F\n",
      "2) 36.50 °C -> 97.7000 °F\n",
      "3) 36.30 °C -> 97.3400 °F\n",
      "4) 28.00 °C -> 82.4000 °F\n",
      "5) 37.20 °C -> 98.9600 °F\n",
      "+++++++++++++++++++++++++++++++++++++\n",
      "++++++++++ Fortgeschritten ++++++++++\n",
      "+++++++++++++++++++++++++++++++++++++\n",
      "1) 36.50 °C -> 97.7000 °F\n",
      "2) 36.30 °C -> 97.3400 °F\n",
      "3) 28.00 °C -> 82.4000 °F\n",
      "4) 37.20 °C -> 98.9600 °F\n"
     ]
    }
   ],
   "source": [
    "print(\"+++++++++++++++++++++++++++++++++++++\")\n",
    "print(\"++++++++++ Anfänger +++++++++++++++++\")\n",
    "print(\"+++++++++++++++++++++++++++++++++++++\")\n",
    "\n",
    "# Eingabe Daten, hier die Celsius Werte\n",
    "a = [45.2, 36.5, 36.3, 28, 37.2]\n",
    "# Ausgabe Daten, hier die Fahrenheit Werte. \n",
    "# Vorgehen: \n",
    "# 1. Erstelle eine Anonyme Lambda Funktion, welche einen beliebigen Celsius Wert in Fahrenheit umrechnet. \n",
    "#  - lambda x: (float(9)/5)*x + 32\n",
    "# 2. Wende diese Funktion auf alle Celsius Werte an -> Funktionale Programmierung, also die Map Funktion verwenden. \n",
    "#  - map(lambda x: (float(9)/5)*x + 32, a)\n",
    "# 3. Erstelle eine Liste aus dem Map Ergebnis.\n",
    "#  - list(map(lambda x: (float(9)/5)*x + 32, a))\n",
    "b = list(map(lambda x: (float(9)/5)*x + 32, a))\n",
    "# In der Beispielausgabe ist ein Zähler vorhanden, dafür verwendet man enumerate. \n",
    "# Hier werden die Celsius und Fahrenheit Werte gezählt. Dafür muss man Zip verwenden um daraus eins zu machen.\n",
    "for index, (celsius, fahrenheit) in enumerate(zip(a, b)):\n",
    "    # Die Ausgabe ist ebenfalls formatiert, index beginnt bei 0, deswegen +1 rechnen um mit 1 zu starten.\n",
    "    # Celsius ist mit 2 Nachkomma Stellen formatiert, dafür verwendet man die format Funktion\n",
    "    # Fahrenheit ist ein errechneter Wert, dafür sollte man ein Round verwendet um keine unschönen \n",
    "    # Nachkommastellen zu erhalten. Ebenfalls ist wie bei Celsius eine Format Funktion vorhanden um 4\n",
    "    # Nachkommastellen darzustellen.\n",
    "    print(f\"{index+1}) {format(celsius, '.2f')} °C -> {format(round(fahrenheit,4), '.4f')} °F\")\n",
    "    \n",
    "print(\"+++++++++++++++++++++++++++++++++++++\")\n",
    "print(\"++++++++++ Fortgeschritten ++++++++++\")\n",
    "print(\"+++++++++++++++++++++++++++++++++++++\")\n",
    "\n",
    "# Die Fortgeschrittenen Aufgabe benötigt keine weitere Zeilen. Das Problem ist, das zwei unabhängige Listen\n",
    "# verwendet werden, a und b. Wird nun ein Wert aus b herausgefiltert, ist das entsprechende Gegenstück noch in a \n",
    "# enthalten. Die Lösung ist es also, die Werte in beiden Listen herauszufiltern. Dafür wird eine Filter Funktion \n",
    "# angewandt. Der Filter bekommt neben der Liste auch die zu verwendende Funktion übergeben, hier eine Lambda \n",
    "# Funktion. Diese Filtert vergleich stupide die entsprechenden Celsius und Fahrenheit Werte ab. Das Ergebnis \n",
    "# muss anschließend noch als Liste gespeichert werden. \n",
    "\n",
    "# Hinweis: In der Aufgabe steht nicht geschrieben wie die Temperaturen über 100 Fahrenheit herausgefiltert werden \n",
    "# sollen. Deswegen und weil wir uns in der Funktionalen Programmierung befinden, wird der entsprechende Celsius \n",
    "# und Fahrenheit Wert einfach hardcodiert hingeschrieben. \n",
    "\n",
    "a = list(filter(lambda y: y < 37.8, [45.2, 36.5, 36.3, 28, 37.2]))\n",
    "b = list(filter(lambda y: y < 100, map(lambda x: (float(9)/5)*x + 32, a)))\n",
    "for index, (celsius, fahrenheit) in enumerate(zip(a, b)):\n",
    "    print(f\"{index+1}) {format(celsius, '.2f')} °C -> {format(round(fahrenheit,4), '.4f')} °F\")\n",
    "\n",
    "# Hinweis: Dies ist nur eine von vielen Lösungen. Dies ist sehr sehr sehr Funktional gelöst!"
   ]
  },
  {
   "cell_type": "markdown",
   "id": "57fc37a2",
   "metadata": {},
   "source": [
    "### Aufgabe 3: Wiederholung - Quicksort\n",
    "\n",
    "In dem ersten Aufgabenblatt haben Sie Quicksort implementiert. Falls Sie dies nicht getan haben sollte, ist hier eine Möglichkeit dies zu implementieren:\n",
    "\n",
    "```python\n",
    "def quicksort(arr):\n",
    "    if len(arr) <= 1:\n",
    "        return arr\n",
    "    pivot = arr[len(arr) // 2]\n",
    "    left = [x for x in arr if x < pivot]\n",
    "    middle = [x for x in arr if x == pivot]\n",
    "    right = [x for x in arr if x > pivot]\n",
    "    return quicksort(left) + middle + quicksort(right)\n",
    "\n",
    "print(quicksort([3,6,8,10,1,2,1]))\n",
    "```\n",
    "\n",
    "> Quicksort ist ein Sortieralgorithmus, der häufig verwendet wird. Quicksort ist ein Divide-and-Conquer-Algorithmus. Er erstellt zwei leere Listen, die Elemente kleiner als der Pivot-Wert und Elemente größer als der Pivot-Wert aufnehmen, und sortiert dann rekursiv die Unterliste. Der Algorithmus besteht aus zwei grundlegenden Operationen: dem Vertauschen von Elementen und der Partitionierung eines Bereichs des Listen.\n",
    "\n",
    "Hierbei gibt es nun einen Optimierungsansatz, welcher ist das? Beschreiben Sie diesen.\n",
    "\n",
    "*Fortgeschrittenen Aufgabe: Versuchen Sie diesen gefundenen Optimierungsansatz nun zu Implementieren.*"
   ]
  },
  {
   "cell_type": "code",
   "execution_count": 2,
   "id": "bf9f62ab",
   "metadata": {},
   "outputs": [
    {
     "name": "stdout",
     "output_type": "stream",
     "text": [
      "[1, 1, 2, 3, 6, 8, 10]\n"
     ]
    }
   ],
   "source": [
    "# > 3 Schleifen können durch 1 Schleife ersetzt werden.\n",
    "\n",
    "# Fortgeschrittene Lösung\n",
    "def quicksort(arr):\n",
    "    left, middle, right = [], [], []\n",
    "    if len(arr) <= 1:\n",
    "        return arr\n",
    "    pivot = arr[len(arr) // 2]\n",
    "    for x in arr:\n",
    "        if x < pivot: left.append(x)\n",
    "        if x > pivot: right.append(x)\n",
    "        if x == pivot: middle.append(x)\n",
    "    return quicksort(left) + middle + quicksort(right)\n",
    "\n",
    "print(quicksort([3,6,8,10,1,2,1]))"
   ]
  },
  {
   "cell_type": "code",
   "execution_count": null,
   "id": "31396c3c",
   "metadata": {},
   "outputs": [],
   "source": []
  }
 ],
 "metadata": {
  "kernelspec": {
   "display_name": "Python 3 (ipykernel)",
   "language": "python",
   "name": "python3"
  },
  "language_info": {
   "codemirror_mode": {
    "name": "ipython",
    "version": 3
   },
   "file_extension": ".py",
   "mimetype": "text/x-python",
   "name": "python",
   "nbconvert_exporter": "python",
   "pygments_lexer": "ipython3",
   "version": "3.9.12"
  }
 },
 "nbformat": 4,
 "nbformat_minor": 5
}
