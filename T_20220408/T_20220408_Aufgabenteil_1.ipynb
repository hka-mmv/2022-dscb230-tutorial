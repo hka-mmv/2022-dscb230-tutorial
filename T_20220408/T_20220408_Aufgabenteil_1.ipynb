{
 "cells": [
  {
   "cell_type": "markdown",
   "id": "c8bf5b07",
   "metadata": {},
   "source": [
    "# Tutorium DSCB 230"
   ]
  },
  {
   "cell_type": "markdown",
   "id": "d058160b",
   "metadata": {},
   "source": [
    "Raphaele Salvatore Licciardo\n"
   ]
  },
  {
   "cell_type": "markdown",
   "id": "06ea89ff",
   "metadata": {},
   "source": [
    "## T_20220408"
   ]
  },
  {
   "cell_type": "markdown",
   "id": "726b28d0",
   "metadata": {},
   "source": [
    "### Aufgabe 1: Boolesche Operatoren und Aussagenlogik\n",
    "\n",
    "Ermitteln Sie das Ergebnis der folgenden Booleschen Operatoren. Verwenden Sie hierzu keinerlei Hilfsmittel!\n",
    "\n",
    "\n",
    "`a, b, c = 6, 7, 42`\n",
    "\n",
    "1. `a == 6`\n",
    "2. `a == 7`\n",
    "3. `a == 6 and b == 7`\n",
    "4. `a == 7 and b == 7`\n",
    "5. `not a == 7 and b == 7`\n",
    "6. `a == 7 or b == 7`\n",
    "7. `a == 7 or b == 6`\n",
    "8. `not (a == 7 and b == 6)`\n",
    "9. `not a == 7 and b == 6`\n",
    "10. `not (a == 7) and not(b == 6)`\n",
    "11. `not (not (a == 7) and not (b == 6))`\n",
    "12. `not (not (a == 7) and b == 6)`\n",
    "13. `not (not (a == 7) or b == 6)`\n",
    "14. `not (not (a == 7) | b == 6)`\n",
    "15. `not (not (a == 7) & b == 6)`\n",
    "\n",
    "Erklären Sie den Unterschied zwischen `&` und einem `and`.\n",
    "\n",
    "Erklären Sie den Unterschied zwischen `|` und einem `or`."
   ]
  },
  {
   "cell_type": "markdown",
   "id": "82102477",
   "metadata": {},
   "source": [
    "### Aufgabe 2: Funktionale Programmierung\n",
    "\n",
    "Sie haben folgende Temperaturen in Celsius gegeben: `[45.2, 36.5, 36.3, 28, 37.2]` rechnen Sie diese in Fahrenheit um. Sie sollten hierfür manche der folgende Funktionen verwenden. Die Fortgeschrittenen sollten alle Verwenden: \n",
    "- list\n",
    "    - https://python-reference.readthedocs.io/en/latest/docs/functions/list.html\n",
    "    - Converts an object into a list\n",
    "- map \n",
    "    - https://python-reference.readthedocs.io/en/latest/docs/functions/map.html\n",
    "    - Applies function to every item of an iterable and returns a list of the results\n",
    "- float \n",
    "    - https://python-reference.readthedocs.io/en/latest/docs/functions/float.html\n",
    "    - Returns an expression converted into a floating point number\n",
    "- format \n",
    "    - https://python-reference.readthedocs.io/en/latest/docs/functions/format.html\n",
    "    - Returns a formatted string\n",
    "- enumerate \n",
    "    - https://python-reference.readthedocs.io/en/latest/docs/functions/enumerate.html\n",
    "    - Returns an enumerate object\n",
    "- round \n",
    "    - https://python-reference.readthedocs.io/en/latest/docs/functions/round.html\n",
    "    - Returns a floating point number rounded to a specified number of decimal places\n",
    "- zip\n",
    "    - https://python-reference.readthedocs.io/en/latest/docs/functions/zip.html\n",
    "    - Returns a list of tuples, where the i-th tuple contains the i-th element from each of the argument sequences or iterables\n",
    "- lambda \n",
    "    - https://python-reference.readthedocs.io/en/latest/docs/operators/lambda.html\n",
    "    - Returns an anonymous function.\n",
    "\n",
    "Die Ausgabe sollte wie folgt aussehen:\n",
    "```\n",
    "1) 45.20 °C -> 113.3600 °F\n",
    "2) 36.50 °C -> 97.7000 °F\n",
    "3) 36.30 °C -> 97.3400 °F\n",
    "4) 28.00 °C -> 82.4000 °F\n",
    "5) 37.20 °C -> 98.9600 °F\n",
    "```\n",
    "\n",
    "*Zusätzliche Fortgeschrittenen Aufgabe: Die Musterlösung beinhaltet einen kleinen Fehler, der nur unter gewissen Konditionen auftritt. Es wurde eine Fahrenheit und eine Celsius Liste implementiert. Falls Sie dies nicht so getan haben, versuchen Sie es.\n",
    "So, nun sollten Sie eine Fahrenheit und eine Celsius Liste haben, Versuchen Sie die Fahrenheit Werte über 100 herauszufiltern. Was für einen Fehler entdecken Sie nun? Beheben Sie diesen ohne eine weitere Zeile hinzuzufügen. Tipp: Sie befinden Sich in der Funktionalen Programmierung, suchen Sie eine weitere Funktion welche ihnen hierbei helfen kann.*"
   ]
  },
  {
   "cell_type": "markdown",
   "id": "57fc37a2",
   "metadata": {},
   "source": [
    "### Aufgabe 3: Wiederholung - Quicksort\n",
    "\n",
    "In dem ersten Aufgabenblatt haben Sie Quicksort implementiert. Falls Sie dies nicht getan haben sollte, ist hier eine Möglichkeit dies zu implementieren:\n",
    "\n",
    "```python\n",
    "def quicksort(arr):\n",
    "    if len(arr) <= 1:\n",
    "        return arr\n",
    "    pivot = arr[len(arr) // 2]\n",
    "    left = [x for x in arr if x < pivot]\n",
    "    middle = [x for x in arr if x == pivot]\n",
    "    right = [x for x in arr if x > pivot]\n",
    "    return quicksort(left) + middle + quicksort(right)\n",
    "\n",
    "print(quicksort([3,6,8,10,1,2,1]))\n",
    "```\n",
    "\n",
    "> Quicksort ist ein Sortieralgorithmus, der häufig verwendet wird. Quicksort ist ein Divide-and-Conquer-Algorithmus. Er erstellt zwei leere Listen, die Elemente kleiner als der Pivot-Wert und Elemente größer als der Pivot-Wert aufnehmen, und sortiert dann rekursiv die Unterliste. Der Algorithmus besteht aus zwei grundlegenden Operationen: dem Vertauschen von Elementen und der Partitionierung eines Bereichs des Listen.\n",
    "\n",
    "Hierbei gibt es nun einen Optimierungsansatz, welcher ist das? Beschreiben Sie diesen.\n",
    "\n",
    "*Fortgeschrittenen Aufgabe: Versuchen Sie diesen gefundenen Optimierungsansatz nun zu Implementieren.*"
   ]
  }
 ],
 "metadata": {
  "kernelspec": {
   "display_name": "Python 3 (ipykernel)",
   "language": "python",
   "name": "python3"
  },
  "language_info": {
   "codemirror_mode": {
    "name": "ipython",
    "version": 3
   },
   "file_extension": ".py",
   "mimetype": "text/x-python",
   "name": "python",
   "nbconvert_exporter": "python",
   "pygments_lexer": "ipython3",
   "version": "3.9.10"
  }
 },
 "nbformat": 4,
 "nbformat_minor": 5
}
